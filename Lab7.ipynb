{
 "cells": [
  {
   "cell_type": "markdown",
   "id": "aac899ce-9eec-4709-8dba-f1314579767c",
   "metadata": {},
   "source": "# Lab 7 Mohit Manglani"
  },
  {
   "cell_type": "markdown",
   "id": "61dddfc3-ee11-4bca-b957-2974533fe2aa",
   "metadata": {},
   "source": [
    "WAP that generates a set of prime numbers and another set of odd numbers.Demonstrate the result of union, intersection,difference,and symmetric difference operations on these sets.\n"
   ]
  },
  {
   "cell_type": "code",
   "execution_count": 1,
   "id": "457bb871-5db5-4ae5-abab-dd7fb5e813c1",
   "metadata": {},
   "outputs": [
    {
     "name": "stdout",
     "output_type": "stream",
     "text": [
      "Prime set: {3, 5, 7, 9, 11, 13, 15, 17, 19}\n",
      "Odd Set: {1, 3, 5, 7, 9, 11, 13, 15, 17, 19}\n",
      "Union: {1, 3, 5, 7, 9, 11, 13, 15, 17, 19}\n",
      "Intersection: {3, 5, 7, 9, 11, 13, 15, 17, 19}\n",
      "Difference: set()\n",
      "Symmetric Difference: {1}\n"
     ]
    }
   ],
   "source": [
    "primeSet = set()\n",
    "oddSet = {i for i in range(1,21) if(i%2!=0) }\n",
    "for i in range(2,21):\n",
    "          flag=0\n",
    "          for j in range(2,i):\n",
    "                   if(i%j==0):\n",
    "                           flag=1\n",
    "                           break\n",
    "                   if(flag==0):\n",
    "                           primeSet.add(i)\n",
    "print(\"Prime set:\",primeSet)\n",
    "print(\"Odd Set:\",oddSet)\n",
    "print(\"Union:\",primeSet.union(oddSet))\n",
    "print(\"Intersection:\",primeSet.intersection(oddSet))\n",
    "print(\"Difference:\",primeSet.difference(oddSet))\n",
    "print(\"Symmetric Difference:\",primeSet.symmetric_difference(oddSet))\n"
   ]
  },
  {
   "cell_type": "markdown",
   "id": "7081ad03-2d6e-49d9-b75c-0795115d6127",
   "metadata": {},
   "source": [
    "WAP that creates two sets. One of even numbers in range 1-10 and\n",
    "the other has all composite numbers in range 1-20. Demonstrate the use of\n",
    "all(),isuperset(),len(),sum(),update(),pop(),remove(),add() and clear() function\n",
    "on sets."
   ]
  },
  {
   "cell_type": "code",
   "execution_count": 2,
   "id": "e6efd8cc-e4ff-4bf0-94f4-0d01fb8b1908",
   "metadata": {},
   "outputs": [
    {
     "name": "stdout",
     "output_type": "stream",
     "text": [
      "Even set: {2, 4, 6, 8, 10}\n",
      "ALl(): True\n",
      "isuperset(): False\n",
      "len(): 5\n",
      "sum(): 30\n",
      "Set after adding {12} using update(): {2, 4, 6, 8, 10, 12}\n",
      "Pop(): 2\n",
      "Removing 4 using Remove(): {6, 8, 10, 12}\n",
      "Adding 4 using add(): {4, 6, 8, 10, 12}\n",
      "Set after clear(): set()\n",
      "\n",
      "\n",
      "\n",
      "Composite set: {4, 6, 8, 9, 10, 12, 14, 15, 16, 18, 20}\n",
      "ALl(): True\n",
      "isuperset(): True\n",
      "len(): 11\n",
      "sum(): 132\n",
      "Set after adding {12} using update(): {4, 6, 8, 9, 10, 12, 14, 15, 16, 18, 20}\n",
      "Pop(): 4\n",
      "Removing 8 using Remove(): {6, 9, 10, 12, 14, 15, 16, 18, 20}\n",
      "Adding 8 using add(): {6, 8, 9, 10, 12, 14, 15, 16, 18, 20}\n",
      "Set after clear(): set()\n"
     ]
    }
   ],
   "source": [
    " evenSet = {i for i in range(1,11) if(i%2==0)}\n",
    "compoSet = set()\n",
    "\n",
    "for i in range(2,21):\n",
    "             flag=0\n",
    "             for j in range(2,i):\n",
    "                         if(i%j==0):\n",
    "                                 flag=1\n",
    "                                 compoSet.add(i)\n",
    "                                 break\n",
    "print(\"Even set:\",evenSet)\n",
    "print(\"ALl():\",all(evenSet))\n",
    "print(\"isuperset():\",evenSet.issuperset(compoSet))\n",
    "print(\"len():\",len(evenSet))\n",
    "print(\"sum():\",sum(evenSet))\n",
    "evenSet.update({12})\n",
    "print(\"Set after adding {12} using update():\",evenSet)\n",
    "print(\"Pop():\",evenSet.pop())\n",
    "evenSet.remove(4)\n",
    "print(\"Removing 4 using Remove():\",evenSet)\n",
    "evenSet.add(4)\n",
    "print(\"Adding 4 using add():\",evenSet)\n",
    "evenSet.clear()\n",
    "print(\"Set after clear():\",evenSet)\n",
    "print(\"\\n\\n\")\n",
    "print(\"Composite set:\",compoSet)\n",
    "print(\"ALl():\",all(compoSet))\n",
    "print(\"isuperset():\",compoSet.issuperset(evenSet))\n",
    "print(\"len():\",len(compoSet))\n",
    "print(\"sum():\",sum(compoSet))\n",
    "compoSet.update({12})\n",
    "print(\"Set after adding {12} using update():\",compoSet)\n",
    "print(\"Pop():\",compoSet.pop())\n",
    "compoSet.remove(8)\n",
    "print(\"Removing 8 using Remove():\",compoSet)\n",
    "compoSet.add(8)\n",
    "print(\"Adding 8 using add():\",compoSet)\n",
    "compoSet.clear()\n",
    "print(\"Set after clear():\",compoSet)\n"
   ]
  },
  {
   "cell_type": "markdown",
   "id": "5a64b0e7-f284-400a-b117-9161f19d3014",
   "metadata": {},
   "source": [
    "Write a python program to check if a given value is present in a set or not."
   ]
  },
  {
   "cell_type": "code",
   "execution_count": 3,
   "id": "09ca3645-0445-4043-afca-75c15b1f559f",
   "metadata": {},
   "outputs": [
    {
     "name": "stdin",
     "output_type": "stream",
     "text": [
      "Enter the value to find: 7\n"
     ]
    },
    {
     "name": "stdout",
     "output_type": "stream",
     "text": [
      "Present in set\n"
     ]
    }
   ],
   "source": [
    "import random\n",
    "myset = {i for i in range(1,11)}\n",
    "n = int(input(\"Enter the value to find:\"))\n",
    "if(n in myset):\n",
    "        print(\"Present in set\")\n",
    "else:\n",
    "        print(\"Not present in set\")"
   ]
  },
  {
   "cell_type": "markdown",
   "id": "dbe38caf-a812-4691-b0e8-447d033cd8f5",
   "metadata": {},
   "source": [
    "WAP to access values stored in a dictionary, add a new item in the dictionary,modify an item in the dictionary, remove an element from dictionary."
   ]
  },
  {
   "cell_type": "code",
   "execution_count": 4,
   "id": "7105e83f-b25a-47e7-8d62-f7de7c8728a5",
   "metadata": {},
   "outputs": [
    {
     "name": "stdout",
     "output_type": "stream",
     "text": [
      "Accessing values:\n",
      "All keys: dict_keys([1, 2, 3, 4, 5, 6, 7, 8, 9, 10])\n",
      "All values: dict_values([1, 4, 9, 16, 25, 36, 49, 64, 81, 100])\n",
      "All items: dict_items([(1, 1), (2, 4), (3, 9), (4, 16), (5, 25), (6, 36), (7, 49), (8, 64), (9, 81), (10, 100)])\n"
     ]
    },
    {
     "name": "stdin",
     "output_type": "stream",
     "text": [
      "Enter key: 4\n"
     ]
    },
    {
     "name": "stdout",
     "output_type": "stream",
     "text": [
      "16\n",
      "\n",
      "\n",
      "Add new item:\n"
     ]
    },
    {
     "name": "stdin",
     "output_type": "stream",
     "text": [
      "Enter key: 15\n",
      "Enter value: 25\n"
     ]
    },
    {
     "name": "stdout",
     "output_type": "stream",
     "text": [
      "Dictionary after adding item: {1: 1, 2: 4, 3: 9, 4: 16, 5: 25, 6: 36, 7: 49, 8: 64, 9: 81, 10: 100, 15: 25}\n",
      "\n",
      "\n",
      "Modify a item:\n"
     ]
    },
    {
     "name": "stdin",
     "output_type": "stream",
     "text": [
      "Enter the key of the item: 12\n",
      "Enter the new value: 58\n"
     ]
    },
    {
     "name": "stdout",
     "output_type": "stream",
     "text": [
      "Dictionary after updating: {1: 1, 2: 4, 3: 9, 4: 16, 5: 25, 6: 36, 7: 49, 8: 64, 9: 81, 10: 100, 15: 25, 12: 58}\n",
      "\n",
      "\n",
      "\n",
      "Removing an item:\n"
     ]
    },
    {
     "name": "stdin",
     "output_type": "stream",
     "text": [
      "Enter the key of the item to remove: 10\n"
     ]
    },
    {
     "name": "stdout",
     "output_type": "stream",
     "text": [
      "Dictionary after removing item: {1: 1, 2: 4, 3: 9, 4: 16, 5: 25, 6: 36, 7: 49, 8: 64, 9: 81, 15: 25, 12: 58}\n"
     ]
    }
   ],
   "source": [
    "dic = {x:x**2 for x in range(1,11)}\n",
    "print(\"Accessing values:\")\n",
    "print(\"All keys:\",dic.keys())\n",
    "print(\"All values:\",dic.values())\n",
    "print(\"All items:\",dic.items())\n",
    "n=int(input(\"Enter key:\"))\n",
    "print(dic[n])\n",
    "3\n",
    "print(\"\\n\\nAdd new item:\")\n",
    "key=int(input(\"Enter key:\"))\n",
    "value=int(input(\"Enter value:\"))\n",
    "dic[key]=value\n",
    "print(\"Dictionary after adding item:\",dic)\n",
    "print(\"\\n\\nModify a item:\")\n",
    "key=int(input(\"Enter the key of the item:\"))\n",
    "value=int(input(\"Enter the new value:\"))\n",
    "dic[key]=value\n",
    "print(\"Dictionary after updating:\",dic)\n",
    "print(\"\\n\\n\")\n",
    "print(\"Removing an item:\")\n",
    "key = int(input(\"Enter the key of the item to remove:\"))\n",
    "dic.pop(key)\n",
    "print(\"Dictionary after removing item:\",dic)"
   ]
  },
  {
   "cell_type": "markdown",
   "id": "b21c775a-ea09-4bcb-b15b-8877c56c2b55",
   "metadata": {},
   "source": [
    "WAP to access items in a dictionary using for loop."
   ]
  },
  {
   "cell_type": "code",
   "execution_count": 5,
   "id": "6ac7f5a2-7946-4b26-a476-e51b818abc11",
   "metadata": {},
   "outputs": [
    {
     "name": "stdout",
     "output_type": "stream",
     "text": [
      "(1, 1)\n",
      "(2, 4)\n",
      "(3, 9)\n",
      "(4, 16)\n",
      "(5, 25)\n",
      "(6, 36)\n",
      "(7, 49)\n",
      "(8, 64)\n",
      "(9, 81)\n",
      "(10, 100)\n"
     ]
    }
   ],
   "source": [
    "dic = {x:x**2 for x in range(1,11)}\n",
    "for i in dic.items():\n",
    "          print(i)\n"
   ]
  },
  {
   "cell_type": "markdown",
   "id": "43019ae7-78a9-47a4-bdda-c9a842f8c878",
   "metadata": {},
   "source": [
    "WAP to demonstrate the use of various built-in functions in dictionary."
   ]
  },
  {
   "cell_type": "code",
   "execution_count": 6,
   "id": "fb702028-2d86-45ed-80fd-fc2628adaa8e",
   "metadata": {},
   "outputs": [
    {
     "name": "stdout",
     "output_type": "stream",
     "text": [
      "All keys: dict_keys([1, 2, 3, 4, 5, 6, 7, 8, 9, 10])\n",
      "All values: dict_values([1, 4, 9, 16, 25, 36, 49, 64, 81, 100])\n",
      "All items: dict_items([(1, 1), (2, 4), (3, 9), (4, 16), (5, 25), (6, 36), (7, 49), (8, 64), (9, 81), (10, 100)])\n",
      "Total items: 10\n",
      "Checking presence of key 5 in dict: True\n",
      "Get the item with key 6: 36\n",
      "Remove the item with key 7: 49\n",
      "Remove and return the last item: (10, 100)\n",
      "Dict after clear(): {}\n"
     ]
    }
   ],
   "source": [
    "dic = {x: x**2 for x in range(1, 11)}\n",
    "print(\"All keys:\",dic.keys())\n",
    "print(\"All values:\",dic.values())\n",
    "print(\"All items:\",dic.items())\n",
    "print(\"Total items:\",len(dic))\n",
    "print(\"Checking presence of key 5 in dict:\",5 in dic)\n",
    "print(\"Get the item with key 6:\",dic.get(6))\n",
    "print(\"Remove the item with key 7:\",dic.pop(7))\n",
    "print(\"Remove and return the last item:\",dic.popitem())\n",
    "dic.clear()\n",
    "print(\"Dict after clear():\",dic)\n"
   ]
  },
  {
   "cell_type": "markdown",
   "id": "904de013-c9cc-433b-9e8a-bbb082c409db",
   "metadata": {},
   "source": [
    "WAP that combines the lists to a dictionary using zip function."
   ]
  },
  {
   "cell_type": "code",
   "execution_count": 7,
   "id": "c04f7535-bf08-4659-8666-73dcdae07a29",
   "metadata": {},
   "outputs": [
    {
     "name": "stdout",
     "output_type": "stream",
     "text": [
      "{1: 1, 2: 4, 3: 9, 4: 16, 5: 25, 6: 36, 7: 49, 8: 64, 9: 81, 10: 100}\n"
     ]
    }
   ],
   "source": [
    "l1 = [i for i in range(1,11)]\n",
    "l2 = [i**2 for i in range(1,11)]\n",
    "zipObj = zip(l1,l2)\n",
    "dic = dict(zipObj)\n",
    "print(dic)\n"
   ]
  },
  {
   "cell_type": "markdown",
   "id": "9d6af0bd-efec-4ef9-af6f-ea92f7d27c09",
   "metadata": {},
   "source": [
    "WAP to print a dictionary where the keys are numbers between 1 and 15,\n",
    "and the values are the squares of the keys.\n"
   ]
  },
  {
   "cell_type": "code",
   "execution_count": 8,
   "id": "f3b11cb1-728f-4868-b392-ce5e6f166d0b",
   "metadata": {},
   "outputs": [
    {
     "name": "stdout",
     "output_type": "stream",
     "text": [
      "{1: 1, 2: 4, 3: 9, 4: 16, 5: 25, 6: 36, 7: 49, 8: 64, 9: 81, 10: 100, 11: 121, 12: 144, 13: 169, 14: 196, 15: 225}\n"
     ]
    }
   ],
   "source": [
    "dic = {i:i**2 for i in range(1,16)}\n",
    "print(dic)\n"
   ]
  },
  {
   "cell_type": "markdown",
   "id": "b57cf435-d73c-4052-a3b8-82f3310d4720",
   "metadata": {},
   "source": [
    "WAP that creates a dictionary of radius of a circle and it’s circumference."
   ]
  },
  {
   "cell_type": "code",
   "execution_count": 9,
   "id": "0a5ba15d-b6c0-498d-a6c2-44c3d7eddb05",
   "metadata": {},
   "outputs": [
    {
     "name": "stdout",
     "output_type": "stream",
     "text": [
      "For radius values from 1 to 5\n",
      "{1: 6.28, 2: 12.57, 3: 18.85, 4: 25.13, 5: 31.42}\n"
     ]
    }
   ],
   "source": [
    "import math\n",
    "dic = {radius:round((2*radius*math.pi),2) for radius in range(1,6)}\n",
    "print(\"For radius values from 1 to 5\")\n",
    "print(dic)\n"
   ]
  },
  {
   "cell_type": "markdown",
   "id": "ea33bb4b-c6be-4126-a17c-7f95c1baa351",
   "metadata": {},
   "source": [
    "WAP that creates a dictionary of cubes of odd numbers in the range 1 to\n",
    "10 using dictionary comprehensions.\n"
   ]
  },
  {
   "cell_type": "code",
   "execution_count": 10,
   "id": "588030ab-4a1d-40b3-9f83-6a5af7fab8fa",
   "metadata": {},
   "outputs": [
    {
     "name": "stdout",
     "output_type": "stream",
     "text": [
      "{1: 1, 3: 27, 5: 125, 7: 343, 9: 729}\n"
     ]
    }
   ],
   "source": [
    "dic = {i:i*i*i for i in range(1,11) if (i%2!=0)}\n",
    "print(dic)\n"
   ]
  },
  {
   "cell_type": "markdown",
   "id": "cd018c55-4e37-4e09-b636-b1b043d022a8",
   "metadata": {},
   "source": [
    "WAP that has dictionary of names of students and a list of their marks\n",
    "in 4 subjects. Create another dictionary from this dict that has names of the\n",
    "students and their total marks. Find out the topper and his/her score."
   ]
  },
  {
   "cell_type": "code",
   "execution_count": 12,
   "id": "28c5b319-d896-4c08-a70c-c14d0cc0bc84",
   "metadata": {},
   "outputs": [
    {
     "name": "stdout",
     "output_type": "stream",
     "text": [
      "{'Mrunal': 286, 'Vedant': 364, 'Amandeep': 376, 'Mitarth': 348}\n",
      "Topper: Vedant\n"
     ]
    }
   ],
   "source": [
    "dic1 = {\"Mrunal\":[55,66,77,88],\"Vedant\":[95,83,97,89],\"Amandeep\": [98,89,95,94],\"Mitarth\":[87,91,90,80]}\n",
    "dic2 = {i:sum(j) for i,j in dic1.items()}\n",
    "print(dic2)\n",
    "print(\"Topper:\",max(dic2))\n"
   ]
  },
  {
   "cell_type": "markdown",
   "id": "46d5768e-49ad-4014-b2f2-59b7d2fe9f3a",
   "metadata": {},
   "source": [
    "WAP that prints histogram of frequencies of characters occuring in a message."
   ]
  },
  {
   "cell_type": "code",
   "execution_count": 13,
   "id": "027b820d-b10c-43f8-afd9-4bc859d31a84",
   "metadata": {},
   "outputs": [
    {
     "name": "stdin",
     "output_type": "stream",
     "text": [
      "Enter the message: racecar\n"
     ]
    },
    {
     "data": {
      "image/png": "[encoded data removed]",
      "text/plain": [
       "<Figure size 640x480 with 1 Axes>"
      ]
     },
     "metadata": {},
     "output_type": "display_data"
    }
   ],
   "source": [
    "import matplotlib.pyplot as plt\n",
    "message = input(\"Enter the message:\")\n",
    "dic={}\n",
    "for char in message:\n",
    "        if(char in dic):\n",
    "                 dic[char]+=1\n",
    "        else:\n",
    "                 dic[char]=1\n",
    "character = list(dic.keys())\n",
    "freq = list(dic.values())\n",
    "plt.bar(character,freq)\n",
    "plt.xlabel(\"Characters\")\n",
    "plt.ylabel(\"Frequency\")\n",
    "plt.title(\"Historgram\")\n",
    "plt.show()\n"
   ]
  },
  {
   "cell_type": "markdown",
   "id": "dfb4be4a-459e-4f95-8963-f1b7ba558096",
   "metadata": {},
   "source": [
    "WAP that displays information about an employee. Use nested dictionary\n",
    "to do the task. Also determine how to access an element in a nested dictionary\n",
    "and how to add element in nested dictionary."
   ]
  },
  {
   "cell_type": "code",
   "execution_count": 14,
   "id": "30a0d0cc-da50-4d57-8432-2cb474105188",
   "metadata": {},
   "outputs": [
    {
     "name": "stdout",
     "output_type": "stream",
     "text": [
      "Accessing all info:\n",
      "\n",
      "Id: 101\n",
      "Name: Howard Stark\n",
      "Department Name: ICT\n",
      "Department Id: 220211\n",
      "Email: emp1@gmail.com\n",
      "Phone: 8320472305\n",
      "\n",
      "Adding another element such as adress:\n",
      "\n"
     ]
    },
    {
     "name": "stdin",
     "output_type": "stream",
     "text": [
      "Enter the address: vadaj\n"
     ]
    },
    {
     "name": "stdout",
     "output_type": "stream",
     "text": [
      "Dictionary:\n",
      " {'Id': 101, 'Name': 'Howard Stark', 'Department': {'dept_Name': 'ICT', 'dept_ID': '220211'}, 'Contact': {'email': 'emp1@gmail.com', 'phone': '8320472305', 'Address': 'vadaj'}}\n"
     ]
    }
   ],
   "source": [
    " employee = {\n",
    "               \"Id\": 101,\n",
    "               \"Name\": \"Howard Stark\",\n",
    "                \"Department\": {\n",
    "               \"dept_Name\": \"ICT\",\n",
    "               \"dept_ID\": \"220211\"\n",
    "            },\n",
    "             \"Contact\": {\n",
    "                 \"email\": \"emp1@gmail.com\",\n",
    "                  \"phone\": \"8320472305\"\n",
    "         }\n",
    "}\n",
    "print(\"Accessing all info:\\n\")\n",
    "print(\"Id:\",employee[\"Id\"])\n",
    "\n",
    "print(\"Name:\",employee[\"Name\"])\n",
    "print(\"Department Name:\",employee[\"Department\"][\"dept_Name\"])\n",
    "print(\"Department Id:\",employee[\"Department\"][\"dept_ID\"])\n",
    "print(\"Email:\",employee[\"Contact\"][\"email\"])\n",
    "print(\"Phone:\",employee[\"Contact\"][\"phone\"])\n",
    "print(\"\\nAdding another element such as adress:\\n\")\n",
    "address = input(\"Enter the address:\")\n",
    "employee[\"Contact\"][\"Address\"]=address\n",
    "print(\"Dictionary:\\n\",employee)\n"
   ]
  },
  {
   "cell_type": "markdown",
   "id": "749f1cc7-c80b-4cfc-a798-6c06d943be76",
   "metadata": {},
   "source": [
    "WAP that keeps name and phone numbers in a dictionary as key-value\n",
    "pairs. The program should display a menu that lets the user search a person’s\n",
    "phone , add a new name and phone number, change an existing phone number,\n",
    "and delete an existing name and phone number.\n"
   ]
  },
  {
   "cell_type": "code",
   "execution_count": 21,
   "id": "05e92f03-b6f0-44e8-8645-4e40232008e3",
   "metadata": {},
   "outputs": [
    {
     "name": "stdout",
     "output_type": "stream",
     "text": [
      "\n",
      "Phone Book Menu:\n",
      "1.Search for a phone number\n",
      "2.Add a new name and phone number\n",
      "3.Change an existing phone number\n",
      "4.Delete an existing name and phone number\n",
      "5.Exit\n"
     ]
    },
    {
     "name": "stdin",
     "output_type": "stream",
     "text": [
      "Enter your choice: 1\n",
      "Enter the name to search:  Vedant\n"
     ]
    },
    {
     "name": "stdout",
     "output_type": "stream",
     "text": [
      "Phone number: 9924714889\n",
      "\n",
      "Phone Book Menu:\n",
      "1.Search for a phone number\n",
      "2.Add a new name and phone number\n",
      "3.Change an existing phone number\n",
      "4.Delete an existing name and phone number\n",
      "5.Exit\n"
     ]
    },
    {
     "name": "stdin",
     "output_type": "stream",
     "text": [
      "Enter your choice: 3\n",
      "Enter the name to change:  Mrunal\n",
      "Enter the new phone number:  8320456732\n"
     ]
    },
    {
     "name": "stdout",
     "output_type": "stream",
     "text": [
      "Updated Successfully !\n",
      "\n",
      "Phone Book Menu:\n",
      "1.Search for a phone number\n",
      "2.Add a new name and phone number\n",
      "3.Change an existing phone number\n",
      "4.Delete an existing name and phone number\n",
      "5.Exit\n"
     ]
    },
    {
     "name": "stdin",
     "output_type": "stream",
     "text": [
      "Enter your choice: 2\n",
      "Enter the name:  Mitarth\n",
      "Enter the phone number:  9727334456\n"
     ]
    },
    {
     "name": "stdout",
     "output_type": "stream",
     "text": [
      "Success !!\n",
      "\n",
      "Phone Book Menu:\n",
      "1.Search for a phone number\n",
      "2.Add a new name and phone number\n",
      "3.Change an existing phone number\n",
      "4.Delete an existing name and phone number\n",
      "5.Exit\n"
     ]
    },
    {
     "name": "stdin",
     "output_type": "stream",
     "text": [
      "Enter your choice: 1\n",
      "Enter the name to search:  Mitarth\n"
     ]
    },
    {
     "name": "stdout",
     "output_type": "stream",
     "text": [
      "Phone number: 9727334456\n",
      "\n",
      "Phone Book Menu:\n",
      "1.Search for a phone number\n",
      "2.Add a new name and phone number\n",
      "3.Change an existing phone number\n",
      "4.Delete an existing name and phone number\n",
      "5.Exit\n"
     ]
    },
    {
     "name": "stdin",
     "output_type": "stream",
     "text": [
      "Enter your choice: 1\n",
      "Enter the name to search:  Mrunal\n"
     ]
    },
    {
     "name": "stdout",
     "output_type": "stream",
     "text": [
      "Phone number: 8320456732\n",
      "\n",
      "Phone Book Menu:\n",
      "1.Search for a phone number\n",
      "2.Add a new name and phone number\n",
      "3.Change an existing phone number\n",
      "4.Delete an existing name and phone number\n",
      "5.Exit\n"
     ]
    },
    {
     "name": "stdin",
     "output_type": "stream",
     "text": [
      "Enter your choice: 4\n",
      "Enter the name to delete:  Vedant\n"
     ]
    },
    {
     "name": "stdout",
     "output_type": "stream",
     "text": [
      "Deleted !\n",
      "\n",
      "Phone Book Menu:\n",
      "1.Search for a phone number\n",
      "2.Add a new name and phone number\n",
      "3.Change an existing phone number\n",
      "4.Delete an existing name and phone number\n",
      "5.Exit\n"
     ]
    },
    {
     "name": "stdin",
     "output_type": "stream",
     "text": [
      "Enter your choice: 1\n",
      "Enter the name to search:  Vedant\n"
     ]
    },
    {
     "name": "stdout",
     "output_type": "stream",
     "text": [
      "Name not found.\n",
      "\n",
      "Phone Book Menu:\n",
      "1.Search for a phone number\n",
      "2.Add a new name and phone number\n",
      "3.Change an existing phone number\n",
      "4.Delete an existing name and phone number\n",
      "5.Exit\n"
     ]
    },
    {
     "name": "stdin",
     "output_type": "stream",
     "text": [
      "Enter your choice: 5\n"
     ]
    },
    {
     "name": "stdout",
     "output_type": "stream",
     "text": [
      "Exiting the program.\n"
     ]
    }
   ],
   "source": [
    " phone_book = {\"Mrunal\":\"8320472305\",\"Vedant\":9924714889}\n",
    "while True:\n",
    "     print(\"\\nPhone Book Menu:\")\n",
    "     print(\"1.Search for a phone number\")\n",
    "     print(\"2.Add a new name and phone number\")\n",
    "     print(\"3.Change an existing phone number\")\n",
    "     print(\"4.Delete an existing name and phone number\")\n",
    "     print(\"5.Exit\")\n",
    "\n",
    "     choice = input(\"Enter your choice:\")\n",
    "     if choice == '1':\n",
    "              name = input(\"Enter the name to search: \")\n",
    "              if name in phone_book:\n",
    "                     print(\"Phone number:\",phone_book[name])\n",
    "              else:\n",
    "                     print(\"Name not found.\")\n",
    "     elif choice == '2':\n",
    "          name = input(\"Enter the name: \")\n",
    "          phone_number = input(\"Enter the phone number: \")\n",
    "          phone_book[name] = phone_number\n",
    "          print(\"Success !!\")\n",
    "     elif choice == '3':\n",
    "          name = input(\"Enter the name to change: \")\n",
    "          if name in phone_book:\n",
    "                    new_phone_number = input(\"Enter the new phone number: \")\n",
    "                    phone_book[name] = new_phone_number\n",
    "                    print(\"Updated Successfully !\")\n",
    "          else:\n",
    "                    print(\"Name not found.\")\n",
    "     elif choice == '4':\n",
    "          name = input(\"Enter the name to delete: \")\n",
    "          if name in phone_book:\n",
    "                   del phone_book[name]\n",
    "                   print(\"Deleted !\")\n",
    "          else:\n",
    "                  print(\"Name not found.\")\n",
    "     elif choice == '5':\n",
    "          print(\"Exiting the program.\")\n",
    "          break\n",
    "     else:\n",
    "         print(\"Invalid choice. Please try again.\")\n"
   ]
  },
  {
   "cell_type": "code",
   "execution_count": null,
   "id": "2783de87-abea-4306-9daf-2dc6b18d8d3d",
   "metadata": {},
   "outputs": [],
   "source": []
  }
 ],
 "metadata": {
  "kernelspec": {
   "display_name": "Python 3 (ipykernel)",
   "language": "python",
   "name": "python3"
  },
  "language_info": {
   "codemirror_mode": {
    "name": "ipython",
    "version": 3
   },
   "file_extension": ".py",
   "mimetype": "text/x-python",
   "name": "python",
   "nbconvert_exporter": "python",
   "pygments_lexer": "ipython3",
   "version": "3.12.7"
  }
 },
 "nbformat": 4,
 "nbformat_minor": 5
}
