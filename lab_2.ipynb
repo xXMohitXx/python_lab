{
 "cells": [
  {
   "cell_type": "markdown",
   "id": "4504c410-27f9-4c41-877d-0fe909e21c2c",
   "metadata": {},
   "source": "# LAB 2 : Malav"
  },
  {
   "cell_type": "markdown",
   "id": "1cffc8bb-e2ec-43e0-8571-c24aec970aa1",
   "metadata": {},
   "source": [
    "### Write a program to check if a number is even or odd"
   ]
  },
  {
   "cell_type": "code",
   "execution_count": 11,
   "id": "0d19c6d5-a52e-4602-87ae-9945a49441f9",
   "metadata": {},
   "outputs": [
    {
     "name": "stdout",
     "output_type": "stream",
     "text": [
      "Enter the number you want to check:  1\n"
     ]
    },
    {
     "name": "stdout",
     "output_type": "stream",
     "text": [
      "The number is odd\n"
     ]
    }
   ],
   "source": [
    "a=int(input('Enter the number you want to check: '))\n",
    "if a%2==0 :\n",
    "      print('The number is even')\n",
    "else :\n",
    "      print('The number is odd')"
   ]
  },
  {
   "cell_type": "code",
   "execution_count": null,
   "id": "bc7437da-2796-4411-b6e7-2257f9d489a5",
   "metadata": {},
   "outputs": [],
   "source": []
  },
  {
   "cell_type": "markdown",
   "id": "4891bdff-0d31-4ab6-a703-b2a9c6fa6b61",
   "metadata": {},
   "source": [
    "### Write a program to print if a given number is positive,negative or zero"
   ]
  },
  {
   "cell_type": "code",
   "execution_count": 19,
   "id": "94b9e928-cc00-41ca-915a-141f14083bb7",
   "metadata": {},
   "outputs": [
    {
     "name": "stdout",
     "output_type": "stream",
     "text": [
      "Enter the number you want to check:  0\n"
     ]
    },
    {
     "name": "stdout",
     "output_type": "stream",
     "text": [
      "The number is zero\n"
     ]
    }
   ],
   "source": [
    "a=int(input('Enter the number you want to check: '))\n",
    "if a>0 :\n",
    "    print('The number is positive')\n",
    "elif a<0 :\n",
    "    print('The number is negative')\n",
    "else :\n",
    "    print('The number is zero')"
   ]
  },
  {
   "cell_type": "code",
   "execution_count": null,
   "id": "2a6e3130-553e-4f82-b1fd-77110ba99648",
   "metadata": {},
   "outputs": [],
   "source": []
  },
  {
   "cell_type": "markdown",
   "id": "4c1bc763-fa96-485d-b234-d9398b61dee8",
   "metadata": {},
   "source": [
    "### Wrie a program to determine largest number among 3 numbers"
   ]
  },
  {
   "cell_type": "code",
   "execution_count": 35,
   "id": "783a5787-ec6e-41c0-a681-cba715bab9a3",
   "metadata": {},
   "outputs": [
    {
     "name": "stdout",
     "output_type": "stream",
     "text": [
      "Enter the three numbers you want to check:  1 2 3\n"
     ]
    },
    {
     "name": "stdout",
     "output_type": "stream",
     "text": [
      "number 3 is largest\n"
     ]
    }
   ],
   "source": [
    "a,b,c=map(int,input('Enter the three numbers you want to check: ').split())\n",
    "if a>=b :\n",
    "    if a>=c :\n",
    "        print('number',a,'is largest')\n",
    "    else :\n",
    "        print('number',c,'is largest')\n",
    "else:\n",
    "    if b>=c :\n",
    "        print('number',b,'is largest')\n",
    "    else :\n",
    "        print('number',c,'is largest')"
   ]
  },
  {
   "cell_type": "code",
   "execution_count": 48,
   "id": "333b8223-ba9c-4919-abbe-7fe78ab9712c",
   "metadata": {},
   "outputs": [
    {
     "name": "stdout",
     "output_type": "stream",
     "text": [
      "Enter the three numbers you want to check:  1 3 2\n"
     ]
    },
    {
     "name": "stdout",
     "output_type": "stream",
     "text": [
      "number 3 is largest\n"
     ]
    }
   ],
   "source": [
    "a,b,c=map(int,input('Enter the three numbers you want to check: ').split())\n",
    "if a>=b and a>=c :\n",
    "    print('number {} is largest'.format(a))\n",
    "elif b>=a and b>=c :\n",
    "    print('number {} is largest'.format(b))\n",
    "else :\n",
    "    print('number',c,'is largest')"
   ]
  },
  {
   "cell_type": "code",
   "execution_count": null,
   "id": "2cc02b55-c732-485c-8b1d-ef259987cb51",
   "metadata": {},
   "outputs": [],
   "source": []
  },
  {
   "cell_type": "markdown",
   "id": "295d9bba-e13f-46e1-85f5-fd054b119b37",
   "metadata": {},
   "source": [
    "### Write a program to determine if a person is eligible to vote or not, if he is not eligible find out how many years are left to be eligible"
   ]
  },
  {
   "cell_type": "code",
   "execution_count": 55,
   "id": "825f78c4-3394-4141-9013-52aa64e77a37",
   "metadata": {},
   "outputs": [
    {
     "name": "stdout",
     "output_type": "stream",
     "text": [
      "Enter your age:  19\n"
     ]
    },
    {
     "name": "stdout",
     "output_type": "stream",
     "text": [
      "You are eligible to vote. \n"
     ]
    }
   ],
   "source": [
    "age=int(input('Enter your age: '))\n",
    "if(age>=18):\n",
    "    print('You are eligible to vote. ')\n",
    "else :\n",
    "    print('You will be eligible after {} years'.format(18-age))"
   ]
  },
  {
   "cell_type": "code",
   "execution_count": null,
   "id": "daad6bc7-23c1-4c6f-a536-80b83c626aaa",
   "metadata": {},
   "outputs": [],
   "source": []
  },
  {
   "cell_type": "markdown",
   "id": "787925bf-c282-4417-86ff-c7e6c80ce583",
   "metadata": {},
   "source": [
    "### Write a program to find out if a given year is leap year or not"
   ]
  },
  {
   "cell_type": "code",
   "execution_count": 71,
   "id": "779d17cd-0b39-4f96-8548-25d206ecf5fe",
   "metadata": {},
   "outputs": [
    {
     "name": "stdout",
     "output_type": "stream",
     "text": [
      "Enter the year you want to check for:  1900\n"
     ]
    },
    {
     "name": "stdout",
     "output_type": "stream",
     "text": [
      "The given year is not a leap year\n"
     ]
    }
   ],
   "source": [
    "year=int(input('Enter the year you want to check for: '))\n",
    "if year%4==0 and year%400==0 :\n",
    "    print('The given year is a leap year')\n",
    "elif year%4==0 and year%100==0 :\n",
    "    print('The given year is not a leap year')\n",
    "else :\n",
    "    print('The given year is not leap year')"
   ]
  },
  {
   "cell_type": "code",
   "execution_count": null,
   "id": "f3c89722-930c-42f8-aa6f-716738ee5d83",
   "metadata": {},
   "outputs": [],
   "source": []
  },
  {
   "cell_type": "markdown",
   "id": "f3b85e78-dedc-442a-9831-12dea805871a",
   "metadata": {},
   "source": [
    "### Write a program to find the grade of student from the given marks"
   ]
  },
  {
   "cell_type": "code",
   "execution_count": 81,
   "id": "00dc0794-4d3f-454f-b1e2-1ed1935affe0",
   "metadata": {},
   "outputs": [
    {
     "name": "stdout",
     "output_type": "stream",
     "text": [
      "Enter the marks of the student:  80\n"
     ]
    },
    {
     "name": "stdout",
     "output_type": "stream",
     "text": [
      "grade : B\n"
     ]
    }
   ],
   "source": [
    "marks=int(input('Enter the marks of the student: '))\n",
    "if marks>=90 :\n",
    "    print('grade : A ')\n",
    "elif marks>=80 and marks<90 :\n",
    "    print('grade : B')\n",
    "elif marks>=70 and marks<80:\n",
    "    print('grade : C')\n",
    "elif marks>=60 and marks<70:\n",
    "    print('grade : D')\n",
    "elif marks>=50 and marks<60:\n",
    "    print('grade : E')\n",
    "elif marks>=40 and marks<50:\n",
    "    print('grade : F')\n",
    "\n"
   ]
  },
  {
   "cell_type": "code",
   "execution_count": null,
   "id": "599725e9-ee93-498b-b3fa-bd43ce540164",
   "metadata": {},
   "outputs": [],
   "source": []
  },
  {
   "cell_type": "markdown",
   "id": "9b0e02c1-b4d8-480d-a16b-e0d55543892f",
   "metadata": {},
   "source": [
    "### Write a program to check if a number is divisible by 5 or by 3 or by both 5 and 3"
   ]
  },
  {
   "cell_type": "code",
   "execution_count": 93,
   "id": "f999d898-2e6b-4454-94c4-a5f9cb69b06e",
   "metadata": {},
   "outputs": [
    {
     "name": "stdout",
     "output_type": "stream",
     "text": [
      "Enter the number you want to check for:  15\n"
     ]
    },
    {
     "name": "stdout",
     "output_type": "stream",
     "text": [
      "The number is divisible by 3 and 5 both\n"
     ]
    }
   ],
   "source": [
    "number=int(input('Enter the number you want to check for: '))\n",
    "if number%3==0 and number%5==0 :\n",
    "    print('The number is divisible by 3 and 5 both')\n",
    "elif number%3==0 :\n",
    "    print('The number is divisible by 3 only')\n",
    "elif number%5==0 : \n",
    "    print('The number is divisible by 5 only')\n",
    "else :\n",
    "    print(\"The number isn't divisible by any on them\")"
   ]
  },
  {
   "cell_type": "code",
   "execution_count": null,
   "id": "c489e963-10e4-4506-8c2f-6b7639934845",
   "metadata": {},
   "outputs": [],
   "source": []
  },
  {
   "cell_type": "markdown",
   "id": "316a1f3d-6adf-4710-bc4f-0ea4f325a30f",
   "metadata": {},
   "source": [
    "### Write a program to enter any character if  enter character is in lower cas convert it into uppercase and vice versasa"
   ]
  },
  {
   "cell_type": "code",
   "execution_count": 2,
   "id": "979fe517-f3b8-4403-95d3-22935e81dfaa",
   "metadata": {},
   "outputs": [
    {
     "name": "stdout",
     "output_type": "stream",
     "text": [
      "Upper case of entered character:  MOH\n"
     ]
    }
   ],
   "source": [
    "a = (input(\"Enter character: \"))\n",
    "if a.isupper():\n",
    "    b = a.lower()\n",
    "    print(\"Lower case of entered character: \",b)\n",
    "else:\n",
    "    b = a.upper()\n",
    "    print(\"Upper case of entered character: \",b)"
   ]
  },
  {
   "cell_type": "code",
   "execution_count": null,
   "id": "b4339314-dd2f-4595-856e-127182e3af6f",
   "metadata": {},
   "outputs": [],
   "source": []
  },
  {
   "cell_type": "markdown",
   "id": "c89e4c84-030a-4b80-8a5f-15e0f72ab6ee",
   "metadata": {},
   "source": [
    "### Write a program to check if the entered character is vowel or not"
   ]
  },
  {
   "cell_type": "code",
   "execution_count": 14,
   "id": "3e2c2533-967c-4038-98b0-c8161b9389bf",
   "metadata": {},
   "outputs": [
    {
     "name": "stdout",
     "output_type": "stream",
     "text": [
      "Enter character:  b\n"
     ]
    },
    {
     "name": "stdout",
     "output_type": "stream",
     "text": [
      "Entered character is not vowel\n"
     ]
    }
   ],
   "source": [
    "a = (input(\"Enter character: \"))\n",
    "if a == 'a' or a == 'e' or a == 'i' or a == 'o' or a == 'u' or a == 'A' or a == 'E':\n",
    "    print(\"Entered character is vowel\")\n",
    "else :\n",
    "    print(\"Entered character is not vowel\")"
   ]
  },
  {
   "cell_type": "code",
   "execution_count": null,
   "id": "70791010-0383-4205-a4f5-8a7e4e61892a",
   "metadata": {},
   "outputs": [],
   "source": []
  },
  {
   "cell_type": "markdown",
   "id": "3f7d514d-fea0-421b-9412-191b22ec8bbe",
   "metadata": {},
   "source": [
    "### write a program to read an angle from user and display it's quadrant"
   ]
  },
  {
   "cell_type": "code",
   "execution_count": 18,
   "id": "3f649824-cfe0-473a-b555-6a121da5405a",
   "metadata": {},
   "outputs": [
    {
     "name": "stdout",
     "output_type": "stream",
     "text": [
      "Enter an angle:  140\n"
     ]
    },
    {
     "name": "stdout",
     "output_type": "stream",
     "text": [
      "2nd quadrant\n"
     ]
    }
   ],
   "source": [
    "m = int(input(\"Enter an angle: \"))\n",
    "if m >=0 and m <=90 :\n",
    "    print(\"1st quadrant\")\n",
    "elif m >90 and m <=180 :\n",
    "    print(\"2nd quadrant\")\n",
    "elif m >180 and m <=270 :\n",
    "    print(\"3rd quadrant\")\n",
    "elif  m >270 and m <=360 :\n",
    "    print(\"1st quadrant\")\n",
    "else :\n",
    "    print(\"Invalid angle\")"
   ]
  },
  {
   "cell_type": "code",
   "execution_count": null,
   "id": "78fba515-9b42-4180-b4e7-c1a8aed795b1",
   "metadata": {},
   "outputs": [],
   "source": []
  },
  {
   "cell_type": "markdown",
   "id": "fad6bc3f-8518-4c15-a283-5008a6f3404c",
   "metadata": {},
   "source": [
    "### write a program to read two numbers and find out wether the first number is multiple of 2nd number or not"
   ]
  },
  {
   "cell_type": "code",
   "execution_count": 22,
   "id": "ca019392-4006-45eb-ac75-8aebba4df742",
   "metadata": {},
   "outputs": [
    {
     "name": "stdout",
     "output_type": "stream",
     "text": [
      "Enter number1:  8\n",
      "Enter number2:  3\n"
     ]
    },
    {
     "name": "stdout",
     "output_type": "stream",
     "text": [
      "8 is not a multiple of 3\n"
     ]
    }
   ],
   "source": [
    "m = int(input(\"Enter number1: \"))\n",
    "n = int(input(\"Enter number2: \"))\n",
    "if m%n == 0:\n",
    "    print(f\"{m} is a multiple of {n}\")\n",
    "else :\n",
    "    print(f\"{m} is not a multiple of {n}\")"
   ]
  },
  {
   "cell_type": "code",
   "execution_count": null,
   "id": "dcac507c-8eb6-4b7a-b33e-7afac56556ef",
   "metadata": {},
   "outputs": [],
   "source": []
  },
  {
   "cell_type": "markdown",
   "id": "6f1d915c-853d-4c49-8cb3-a2a13f55caa7",
   "metadata": {},
   "source": [
    "### Write a program to: store correct password in a variable ask user it's password check if user has entered his password, if not entered give output as please enter your password if both password are same show the message correct password otherwise show incorrect password."
   ]
  },
  {
   "cell_type": "code",
   "id": "639879b6-c7d0-430d-a331-064b74f3180c",
   "metadata": {
    "ExecuteTime": {
     "end_time": "2024-09-09T16:55:22.122022Z",
     "start_time": "2024-09-09T16:55:14.795400Z"
    }
   },
   "source": [
    "passw = \"malav\"\n",
    "user = (input(\"Enter password: \"))\n",
    "if user == \"\":\n",
    "    print(\"please enter your password\")\n",
    "elif passw == user:\n",
    "    print(\"correct password\")\n",
    "else:\n",
    "    print(\"incorrect password.\")"
   ],
   "outputs": [
    {
     "name": "stdout",
     "output_type": "stream",
     "text": [
      "incorrect password.\n"
     ]
    }
   ],
   "execution_count": 1
  },
  {
   "cell_type": "code",
   "execution_count": null,
   "id": "6305a85d-4399-4f86-a509-2019b40b2a25",
   "metadata": {},
   "outputs": [],
   "source": []
  }
 ],
 "metadata": {
  "kernelspec": {
   "display_name": "Python 3 (ipykernel)",
   "language": "python",
   "name": "python3"
  },
  "language_info": {
   "codemirror_mode": {
    "name": "ipython",
    "version": 3
   },
   "file_extension": ".py",
   "mimetype": "text/x-python",
   "name": "python",
   "nbconvert_exporter": "python",
   "pygments_lexer": "ipython3",
   "version": "3.12.4"
  }
 },
 "nbformat": 4,
 "nbformat_minor": 5
}
