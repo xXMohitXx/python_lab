{
 "cells": [
  {
   "cell_type": "markdown",
   "metadata": {},
   "source": "# Lab-4 Mohit Manglani\n"
  },
  {
   "cell_type": "markdown",
   "metadata": {},
   "source": [
    "# 1.WAP to reverse a number using while loop"
   ]
  },
  {
   "cell_type": "code",
   "execution_count": 1,
   "metadata": {},
   "outputs": [
    {
     "name": "stdin",
     "output_type": "stream",
     "text": [
      "Enter a number:  12345\n"
     ]
    },
    {
     "name": "stdout",
     "output_type": "stream",
     "text": [
      "The reverse of the number 12345 is: 54321\n"
     ]
    }
   ],
   "source": [
    "n = int(input(\"Enter a number: \"))\n",
    "\n",
    "originalNum = n\n",
    "\n",
    "i = 0\n",
    "\n",
    "d = 0\n",
    "\n",
    "while (n > 0):\n",
    "    d += n % 10\n",
    "    n = n // 10\n",
    "    d *= 10\n",
    "\n",
    "d //= 10\n",
    "\n",
    "print(f\"The reverse of the number {originalNum} is: {d}\")"
   ]
  },
  {
   "cell_type": "markdown",
   "metadata": {},
   "source": [
    "# 2.WAP to find whether a given number is Armstrong Number or Not"
   ]
  },
  {
   "cell_type": "code",
   "execution_count": 2,
   "metadata": {},
   "outputs": [
    {
     "name": "stdin",
     "output_type": "stream",
     "text": [
      "Enter a number:  153\n"
     ]
    },
    {
     "name": "stdout",
     "output_type": "stream",
     "text": [
      "The number 153 is an Armstrong number\n"
     ]
    }
   ],
   "source": [
    "n = int(input(\"Enter a number: \"))\n",
    "\n",
    "originalNum = n\n",
    "\n",
    "size = 0\n",
    "\n",
    "while (n > 0):\n",
    "    size += 1\n",
    "    n = n // 10\n",
    "\n",
    "n = originalNum\n",
    "\n",
    "armstrongSum = 0\n",
    "\n",
    "while (n > 0):\n",
    "    digit = n % 10\n",
    "    d = digit ** size\n",
    "    armstrongSum += d\n",
    "    n = n // 10\n",
    "\n",
    "if (armstrongSum == originalNum):\n",
    "    print(f\"The number {originalNum} is an Armstrong number\")\n",
    "else:\n",
    "    print(f\"The number {originalNum} is not an Armstrong number\")\n",
    "    "
   ]
  },
  {
   "cell_type": "markdown",
   "metadata": {},
   "source": [
    "# 3.WAP to find factorial of a given number"
   ]
  },
  {
   "cell_type": "code",
   "execution_count": 3,
   "metadata": {},
   "outputs": [
    {
     "name": "stdin",
     "output_type": "stream",
     "text": [
      "Enter a number:  10\n"
     ]
    },
    {
     "name": "stdout",
     "output_type": "stream",
     "text": [
      "The factorial of 10 is 3628800\n"
     ]
    }
   ],
   "source": [
    "def fac(n):\n",
    "    if n == 0:\n",
    "        return 1\n",
    "    else:\n",
    "        return n * fac(n-1)\n",
    "\n",
    "n = int(input(\"Enter a number: \"))\n",
    "print(f\"The factorial of {n} is {fac(n)}\")"
   ]
  },
  {
   "cell_type": "markdown",
   "metadata": {},
   "source": [
    "# 4.WAP to print multiplicative table of a given number for a given number"
   ]
  },
  {
   "cell_type": "code",
   "execution_count": 4,
   "metadata": {},
   "outputs": [
    {
     "name": "stdin",
     "output_type": "stream",
     "text": [
      "Enter a number:  10\n"
     ]
    },
    {
     "name": "stdout",
     "output_type": "stream",
     "text": [
      "10 x 1 = 10\n",
      "10 x 2 = 20\n",
      "10 x 3 = 30\n",
      "10 x 4 = 40\n",
      "10 x 5 = 50\n",
      "10 x 6 = 60\n",
      "10 x 7 = 70\n",
      "10 x 8 = 80\n",
      "10 x 9 = 90\n",
      "10 x 10 = 100\n"
     ]
    }
   ],
   "source": [
    "n = int(input(\"Enter a number: \"))\n",
    "\n",
    "i = 1\n",
    "\n",
    "while (i <= 10):\n",
    "    print(f\"{n} x {i} = {n*i}\")\n",
    "    i += 1"
   ]
  },
  {
   "cell_type": "markdown",
   "metadata": {},
   "source": [
    "# 5. WAP to convert a binary number to decimal number"
   ]
  },
  {
   "cell_type": "code",
   "execution_count": 5,
   "metadata": {},
   "outputs": [
    {
     "name": "stdin",
     "output_type": "stream",
     "text": [
      "Enter a number:  0110\n"
     ]
    },
    {
     "name": "stdout",
     "output_type": "stream",
     "text": [
      "The decimal representation of 110 is: 6\n"
     ]
    }
   ],
   "source": [
    "n = int(input(\"Enter a number: \"))\n",
    "\n",
    "def binary_to_decimal(n):\n",
    "    originalNum = 0\n",
    "    i = 0\n",
    "    while (n > 0):\n",
    "        digit = n % 10\n",
    "        if (digit != 0 and digit != 1):\n",
    "            return \"Invalid binary number\"\n",
    "        elif (digit == 1):\n",
    "            originalNum += 2 ** i\n",
    "        i += 1\n",
    "        n = n // 10\n",
    "    return originalNum\n",
    "\n",
    "print(f\"The decimal representation of {n} is: {binary_to_decimal(n)}\")"
   ]
  },
  {
   "cell_type": "markdown",
   "metadata": {},
   "source": [
    "# 6. WAP to convert a decimal number to binary number "
   ]
  },
  {
   "cell_type": "code",
   "execution_count": 6,
   "metadata": {},
   "outputs": [
    {
     "name": "stdin",
     "output_type": "stream",
     "text": [
      "Enter a number:  8\n"
     ]
    },
    {
     "name": "stdout",
     "output_type": "stream",
     "text": [
      "The binary representation of 8 is: 1000\n"
     ]
    }
   ],
   "source": [
    "n = int(input(\"Enter a number: \"))\n",
    "\n",
    "def  decimal_to_binary(n):\n",
    "    binaryNum = \"\"\n",
    "    while (n):\n",
    "        binaryNum = str(n % 2) + binaryNum\n",
    "        n = n // 2\n",
    "    return binaryNum\n",
    "\n",
    "print(f\"The binary representation of {n} is: {decimal_to_binary(n)}\")"
   ]
  },
  {
   "cell_type": "markdown",
   "metadata": {},
   "source": [
    "# 7. WAP to check if given number is a prime number or not"
   ]
  },
  {
   "cell_type": "code",
   "execution_count": 7,
   "metadata": {},
   "outputs": [
    {
     "name": "stdin",
     "output_type": "stream",
     "text": [
      "Enter a number:  37\n"
     ]
    },
    {
     "name": "stdout",
     "output_type": "stream",
     "text": [
      "37 is a prime number\n"
     ]
    }
   ],
   "source": [
    "n = int(input(\"Enter a number: \"))\n",
    "\n",
    "def is_prime(n):\n",
    "    if n < 2:\n",
    "        return False\n",
    "    for i in range(2, n):\n",
    "        if (n % i == 0):\n",
    "            return False\n",
    "    return True\n",
    "\n",
    "if is_prime(n):\n",
    "    print(f\"{n} is a prime number\")\n",
    "else: \n",
    "    print(f\"{n} is not a prime number\")"
   ]
  },
  {
   "cell_type": "markdown",
   "metadata": {},
   "source": [
    "# 8. WAP to read numbers until -1 is encountered also count the positive, negative and zeros entered by the users"
   ]
  },
  {
   "cell_type": "code",
   "execution_count": 9,
   "metadata": {},
   "outputs": [
    {
     "name": "stdin",
     "output_type": "stream",
     "text": [
      "Enter number:  100\n",
      "Enter number:  -20\n",
      "Enter number:  -10\n",
      "Enter number:  -320\n",
      "Enter number:  200\n",
      "Enter number:  432\n",
      "Enter number:  0\n",
      "Enter number:  00\n",
      "Enter number:  0\n",
      "Enter number:  0\n",
      "Enter number:  0\n",
      "Enter number:  0\n",
      "Enter number:  -1\n"
     ]
    },
    {
     "name": "stdout",
     "output_type": "stream",
     "text": [
      "Zeros: 6\n",
      "Positives: 3\n",
      "Negatives: 4\n"
     ]
    }
   ],
   "source": [
    "zeros = 0\n",
    "positives = 0\n",
    "negatives = 0\n",
    "\n",
    "n = 1\n",
    "\n",
    "while (n != -1):\n",
    "\n",
    "    n = int(input(\"Enter number: \"))\n",
    "    \n",
    "    if n == 0:\n",
    "        zeros += 1\n",
    "    elif n > 0:\n",
    "        positives += 1\n",
    "    elif n < 0:\n",
    "        negatives += 1\n",
    "\n",
    "print(f\"Zeros: {zeros}\")\n",
    "print(f\"Positives: {positives}\")\n",
    "print(f\"Negatives: {negatives}\")"
   ]
  },
  {
   "cell_type": "markdown",
   "metadata": {},
   "source": [
    "<center><h1>Pattern Practice</h1></center>"
   ]
  },
  {
   "cell_type": "markdown",
   "metadata": {},
   "source": [
    "# Print the following patterns"
   ]
  },
  {
   "attachments": {
    "ca39d94a-2865-48c6-b428-471ece0cbd1f.png": {
     "image/png": "[encoded data removed]"
    }
   },
   "cell_type": "markdown",
   "metadata": {},
   "source": [
    "<u >Question-1 </u> <br>\n",
    "![image.png](attachment:ca39d94a-2865-48c6-b428-471ece0cbd1f.png)"
   ]
  },
  {
   "cell_type": "code",
   "execution_count": 10,
   "metadata": {},
   "outputs": [
    {
     "name": "stdin",
     "output_type": "stream",
     "text": [
      "Enter a number:  5\n"
     ]
    },
    {
     "name": "stdout",
     "output_type": "stream",
     "text": [
      "1 \n",
      "1 2 \n",
      "1 2 3 \n",
      "1 2 3 4 \n",
      "1 2 3 4 5 \n"
     ]
    }
   ],
   "source": [
    "n = int(input(\"Enter a number: \"))\n",
    "\n",
    "i = 1\n",
    "\n",
    "while (i <= n):\n",
    "    j = 1\n",
    "    while (j <= i):\n",
    "        print(f\"{j}\",end=\" \")\n",
    "        if(j == i):\n",
    "            break\n",
    "        j += 1\n",
    "    i += 1\n",
    "    print(end=\"\\n\")"
   ]
  },
  {
   "attachments": {
    "85aa89a8-1c45-4fb6-bf47-832c96b93340.png": {
     "image/png": "[encoded data removed]"
    }
   },
   "cell_type": "markdown",
   "metadata": {},
   "source": [
    "<u >Question-2 </u> <br>\n",
    "![image.png](attachment:85aa89a8-1c45-4fb6-bf47-832c96b93340.png)"
   ]
  },
  {
   "cell_type": "code",
   "execution_count": 11,
   "metadata": {},
   "outputs": [
    {
     "name": "stdin",
     "output_type": "stream",
     "text": [
      "Enter a number:  5\n"
     ]
    },
    {
     "name": "stdout",
     "output_type": "stream",
     "text": [
      "        1 \n",
      "      1 2 \n",
      "    1 2 3 \n",
      "  1 2 3 4 \n",
      "1 2 3 4 5 \n"
     ]
    }
   ],
   "source": [
    "n = int(input(\"Enter a number: \"))\n",
    "\n",
    "i = 1\n",
    "\n",
    "while (i <= n):\n",
    "    spaces = n - i\n",
    "    while (spaces > 0):\n",
    "        print(end=\"  \")\n",
    "        spaces -= 1\n",
    "    j = 1\n",
    "    while (j <= i):\n",
    "        print(f\"{j}\",end=\" \")\n",
    "        if(j == i):\n",
    "            break\n",
    "        j += 1\n",
    "    i += 1\n",
    "    print(end=\"\\n\")"
   ]
  },
  {
   "attachments": {
    "37a8e97e-1e4d-4620-a6d5-794da151c9c4.png": {
     "image/png": "[encoded data removed]"
    }
   },
   "cell_type": "markdown",
   "metadata": {},
   "source": [
    "<u >Question-3</u> <br>\n",
    "![image.png](attachment:37a8e97e-1e4d-4620-a6d5-794da151c9c4.png)"
   ]
  },
  {
   "cell_type": "code",
   "execution_count": 12,
   "metadata": {},
   "outputs": [
    {
     "name": "stdin",
     "output_type": "stream",
     "text": [
      "Enter a number:  6\n"
     ]
    },
    {
     "name": "stdout",
     "output_type": "stream",
     "text": [
      "          1 \n",
      "        1 2 1 \n",
      "      1 2 3 2 1 \n",
      "    1 2 3 4 3 2 1 \n",
      "  1 2 3 4 5 4 3 2 1 \n",
      "1 2 3 4 5 6 5 4 3 2 1 \n"
     ]
    }
   ],
   "source": [
    "n = int(input(\"Enter a number: \"))\n",
    "\n",
    "i = 1\n",
    "\n",
    "while (i <= n):\n",
    "    spaces = n - i\n",
    "    while (spaces > 0):\n",
    "        print(end=\"  \")\n",
    "        spaces -= 1\n",
    "    j = 1\n",
    "    itr = 1\n",
    "    while (itr <= (2 * i - 1)):\n",
    "        print(f\"{j}\",end=\" \")\n",
    "        if(itr < i):\n",
    "            j += 1\n",
    "        else: \n",
    "            j -= 1\n",
    "        itr += 1\n",
    "    i += 1\n",
    "    print(end=\"\\n\")"
   ]
  },
  {
   "attachments": {
    "6e8875b1-d267-4d99-b560-09a5ffab9053.png": {
     "image/png": "[encoded data removed]"
    }
   },
   "cell_type": "markdown",
   "metadata": {},
   "source": [
    "<u >Question-4</u> <br>\n",
    "![image.png](attachment:6e8875b1-d267-4d99-b560-09a5ffab9053.png)"
   ]
  },
  {
   "cell_type": "code",
   "execution_count": 13,
   "metadata": {},
   "outputs": [
    {
     "name": "stdin",
     "output_type": "stream",
     "text": [
      "Enter a number:  5\n"
     ]
    },
    {
     "name": "stdout",
     "output_type": "stream",
     "text": [
      "* * * * *\n",
      "*       *\n",
      "*       *\n",
      "*       *\n",
      "* * * * *\n"
     ]
    }
   ],
   "source": [
    "n = int(input(\"Enter a number: \"))\n",
    "\n",
    "i = 1\n",
    "\n",
    "while (i <= n):\n",
    "    print(\"*\",end=\" \")\n",
    "    j = 2\n",
    "    while (j <= n - 1):\n",
    "        if (i == 1 or i == n):\n",
    "            print(\"*\",end=\" \")\n",
    "        else:\n",
    "            print(\" \",end=\" \")\n",
    "        j += 1\n",
    "    i += 1\n",
    "    print(\"*\",end=\"\\n\")"
   ]
  },
  {
   "attachments": {
    "a99b18f9-00c3-4edd-bab7-079461a92d45.png": {
     "image/png": "[encoded data removed]"
    }
   },
   "cell_type": "markdown",
   "metadata": {},
   "source": [
    "<u >Question-5</u> <br>\n",
    "![image.png](attachment:a99b18f9-00c3-4edd-bab7-079461a92d45.png)"
   ]
  },
  {
   "cell_type": "code",
   "execution_count": 14,
   "metadata": {},
   "outputs": [
    {
     "name": "stdin",
     "output_type": "stream",
     "text": [
      "Enter a number:  5\n"
     ]
    },
    {
     "name": "stdout",
     "output_type": "stream",
     "text": [
      "1 \n",
      "0 1 \n",
      "1 0 1 \n",
      "0 1 0 1 \n",
      "1 0 1 0 1 \n"
     ]
    }
   ],
   "source": [
    "n = int(input(\"Enter a number: \"))\n",
    "\n",
    "i = 1\n",
    "\n",
    "while (i <= n):\n",
    "    j = 1\n",
    "    while (j <= i):\n",
    "        x = i % 2\n",
    "        y = j % 2\n",
    "        if x == y:\n",
    "            print(\"1\",end=\" \")\n",
    "        else:\n",
    "            print(\"0\",end=\" \")\n",
    "        j += 1\n",
    "    i += 1\n",
    "    print(end=\"\\n\")"
   ]
  },
  {
   "attachments": {
    "50d020b9-f0bc-4840-8591-b7fe19bc5286.png": {
     "image/png": "[encoded data removed]"
    }
   },
   "cell_type": "markdown",
   "metadata": {},
   "source": [
    "<u >Question-6</u> <br>\n",
    "![image.png](attachment:50d020b9-f0bc-4840-8591-b7fe19bc5286.png)"
   ]
  },
  {
   "cell_type": "code",
   "execution_count": 15,
   "metadata": {},
   "outputs": [
    {
     "name": "stdin",
     "output_type": "stream",
     "text": [
      "Enter a number:  3\n"
     ]
    },
    {
     "name": "stdout",
     "output_type": "stream",
     "text": [
      "    1 \n",
      "  1 2 1 \n",
      "1 2 3 2 1 \n",
      "  1 2 1 \n",
      "    1 \n"
     ]
    }
   ],
   "source": [
    "n = int(input(\"Enter a number: \"))\n",
    "\n",
    "i = 1\n",
    "\n",
    "while (i <= 2 * n - 1):\n",
    "    spaces = n - i\n",
    "    if (i > n ): \n",
    "        spaces = i - n\n",
    "    while (spaces > 0):\n",
    "        print(end=\"  \")\n",
    "        spaces -= 1\n",
    "    j = 1\n",
    "    itr = 1\n",
    "    totalItr = 2 * i - 1\n",
    "    if (i > n):\n",
    "        totalItr = 2 * n - 1 - ((i - n) * 2)\n",
    "    while (itr <= totalItr):\n",
    "        print(f\"{j}\",end=\" \")\n",
    "        val = i\n",
    "        if (i > n): \n",
    "            val = n + (n - i)\n",
    "        if(itr < val):\n",
    "            j += 1\n",
    "        else: \n",
    "            j -= 1\n",
    "        itr += 1\n",
    "    i += 1\n",
    "    print(end=\"\\n\")"
   ]
  },
  {
   "cell_type": "markdown",
   "metadata": {},
   "source": [
    "<center><h1>Sequence</h1></center>"
   ]
  },
  {
   "cell_type": "code",
   "execution_count": 16,
   "metadata": {},
   "outputs": [
    {
     "name": "stdin",
     "output_type": "stream",
     "text": [
      "Enter the number of terms:  5\n"
     ]
    },
    {
     "name": "stdout",
     "output_type": "stream",
     "text": [
      "The sum of the series is 35\n"
     ]
    }
   ],
   "source": [
    "number_of_terms = int(input(\"Enter the number of terms: \"))\n",
    "final_sum = 0\n",
    "for i in range(1, number_of_terms + 1):\n",
    "    term_sum = sum(range(1, i + 1))\n",
    "    final_sum += term_sum\n",
    "\n",
    "print(f\"The sum of the series is {final_sum}\")"
   ]
  },
  {
   "cell_type": "code",
   "execution_count": 17,
   "metadata": {},
   "outputs": [
    {
     "name": "stdin",
     "output_type": "stream",
     "text": [
      "Enter the number of terms:  5\n"
     ]
    },
    {
     "name": "stdout",
     "output_type": "stream",
     "text": [
      "The sum of the series is 1.4636111111111112\n"
     ]
    }
   ],
   "source": [
    "number_of_terms = int(input(\"Enter the number of terms: \"))\n",
    "final_sum = 0\n",
    "for i in range(1, number_of_terms + 1):\n",
    "    final_sum += (1/i**2)\n",
    "\n",
    "print(f\"The sum of the series is {final_sum}\")"
   ]
  },
  {
   "cell_type": "code",
   "execution_count": 18,
   "metadata": {},
   "outputs": [
    {
     "name": "stdin",
     "output_type": "stream",
     "text": [
      "Enter the number of terms:  5\n",
      "Enter the value of x:  1\n"
     ]
    },
    {
     "name": "stdout",
     "output_type": "stream",
     "text": [
      "The sum of the series is 0.8414710097001764\n"
     ]
    }
   ],
   "source": [
    "import math\n",
    "\n",
    "number_of_terms = int(input(\"Enter the number of terms: \"))\n",
    "x = int(input(\"Enter the value of x: \"))\n",
    "final_sum = 0\n",
    "\n",
    "for i in range(number_of_terms):\n",
    "    term = ((-1) ** i) * (x ** (2 * i + 1)) / math.factorial(2 * i + 1)\n",
    "    final_sum += term\n",
    "\n",
    "print(f\"The sum of the series is {final_sum}\")"
   ]
  },
  {
   "cell_type": "code",
   "execution_count": 19,
   "metadata": {},
   "outputs": [
    {
     "name": "stdin",
     "output_type": "stream",
     "text": [
      "Enter the number of terms:  5\n",
      "Enter the value of x:  1\n"
     ]
    },
    {
     "name": "stdout",
     "output_type": "stream",
     "text": [
      "The sum of the series is 0.5403025793650793\n"
     ]
    }
   ],
   "source": [
    "number_of_terms = int(input(\"Enter the number of terms: \"))\n",
    "x = int(input(\"Enter the value of x: \"))\n",
    "final_sum = 0\n",
    "\n",
    "for i in range(number_of_terms):\n",
    "    term = ((-1) ** i) * (x ** (2 * i)) / math.factorial(2 * i)\n",
    "    final_sum += term\n",
    "\n",
    "print(f\"The sum of the series is {final_sum}\")"
   ]
  },
  {
   "cell_type": "code",
   "execution_count": 20,
   "metadata": {},
   "outputs": [
    {
     "name": "stdin",
     "output_type": "stream",
     "text": [
      "Enter the number of terms:  5\n",
      "Enter the value of x:  1\n"
     ]
    },
    {
     "name": "stdout",
     "output_type": "stream",
     "text": [
      "The sum of the series is 0.37500000000000006\n"
     ]
    }
   ],
   "source": [
    "number_of_terms = int(input(\"Enter the number of terms: \"))\n",
    "x = int(input(\"Enter the value of x: \"))\n",
    "final_sum = 0\n",
    "\n",
    "for i in range(number_of_terms):\n",
    "    term = ((-1) ** i) * (x ** i) / math.factorial(i)\n",
    "    final_sum += term\n",
    "\n",
    "print(f\"The sum of the series is {final_sum}\")"
   ]
  }
 ],
 "metadata": {
  "kernelspec": {
   "display_name": "Python 3 (ipykernel)",
   "language": "python",
   "name": "python3"
  },
  "language_info": {
   "codemirror_mode": {
    "name": "ipython",
    "version": 3
   },
   "file_extension": ".py",
   "mimetype": "text/x-python",
   "name": "python",
   "nbconvert_exporter": "python",
   "pygments_lexer": "ipython3",
   "version": "3.11.9"
  }
 },
 "nbformat": 4,
 "nbformat_minor": 4
}
