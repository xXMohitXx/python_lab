{
 "cells": [
  {
   "metadata": {},
   "cell_type": "markdown",
   "source": "# Lab 10 : Mohit Manglani",
   "id": "86884f757cb45d6"
  },
  {
   "metadata": {},
   "cell_type": "markdown",
   "source": "## 1. Write a program that uses class to store the name and marks of students. Use list to store the marks in three subjects.",
   "id": "2b3729214c821691"
  },
  {
   "metadata": {
    "ExecuteTime": {
     "end_time": "2024-11-19T08:16:10.597462Z",
     "start_time": "2024-11-19T08:15:48.446128Z"
    }
   },
   "cell_type": "code",
   "source": [
    "from skimage.measure import perimeter\n",
    "\n",
    "\n",
    "class Student: \n",
    "    def __init__(self, name):\n",
    "        self.name = name\n",
    "        self.marks = []\n",
    "    def enter_marks(self):\n",
    "        for i in range(3):\n",
    "            m = int(input(f\"Enter marks of {self.name} in subject {i+1}: \"))\n",
    "            self.marks.append(m)\n",
    "    def display(self):\n",
    "        print(f\"{self.name} got {self.marks} marks.\")\n",
    "s1 = Student(\"Mohit\")\n",
    "s1.enter_marks()\n",
    "s2 = Student(\"Malav\")\n",
    "s2.enter_marks()\n",
    "s1.display()\n",
    "s2.display()\n"
   ],
   "id": "554d37591f906595",
   "outputs": [
    {
     "name": "stdout",
     "output_type": "stream",
     "text": [
      "Mohit got [10, 20, 30] marks.\n",
      "Malav got [10, 20, 30] marks.\n"
     ]
    }
   ],
   "execution_count": 4
  },
  {
   "metadata": {},
   "cell_type": "markdown",
   "source": "## 2. Write a program with class Employee that keeps a track of the number of employees in an organization and stores their name, designation and salary details.",
   "id": "ebbda7103336aed0"
  },
  {
   "metadata": {
    "ExecuteTime": {
     "end_time": "2024-11-19T08:36:06.012956Z",
     "start_time": "2024-11-19T08:36:06.004614Z"
    }
   },
   "cell_type": "code",
   "source": [
    "class employee: \n",
    "    def __init__(self, name, salary, designation):\n",
    "        self.name = name\n",
    "        self.salary = salary\n",
    "        self.designation = designation\n",
    "    def display(self):\n",
    "        print(f\"{self.name} has salary {self.salary} and is at {self.designation} post\")\n",
    "s1 = employee(\"Mohit\", 900000, \"manager\")\n",
    "s2 = employee(\"Malav\", 900000, \"manager\")\n",
    "s3 = employee(\"Saahil\", 20000,\"peon\")\n",
    "s1.display()\n",
    "s2.display()\n",
    "s3.display()"
   ],
   "id": "a89abfa56654a94f",
   "outputs": [
    {
     "name": "stdout",
     "output_type": "stream",
     "text": [
      "Mohit has salary 900000 and is at manager post\n",
      "Malav has salary 900000 and is at manager post\n",
      "Saahil has salary 20000 and is at peon post\n"
     ]
    }
   ],
   "execution_count": 6
  },
  {
   "metadata": {},
   "cell_type": "markdown",
   "source": "# 3. Write a program that has a class Circle. Use a class variable to define the value of constant PI. Use this class variable to calculate area and circumference of a circle with specified radius.",
   "id": "9b4a7e29e6b9cc6f"
  },
  {
   "metadata": {
    "ExecuteTime": {
     "end_time": "2024-11-19T08:32:39.789628Z",
     "start_time": "2024-11-19T08:32:32.850373Z"
    }
   },
   "cell_type": "code",
   "source": [
    "class circle:\n",
    "    pi = 3.14\n",
    "    def __init__(self, radius):\n",
    "        self.radius = radius\n",
    "    def area(self):\n",
    "        return circle.pi * self.radius**2\n",
    "    def circumference(self):\n",
    "        return circle.pi * 2 * self.radius\n",
    "\n",
    "radius = float(input(\"Enter radius: \")) #7\n",
    "cicle = circle(radius)\n",
    "\n",
    "print(f\"Area of the circle: {cicle.area()}\")\n",
    "print(f\"Circumference of the circle: {cicle.circumference()}\")\n"
   ],
   "id": "25165c7bbf4c545c",
   "outputs": [
    {
     "name": "stdout",
     "output_type": "stream",
     "text": [
      "Area of the circle: 153.86\n",
      "Circumference of the circle: 43.96\n"
     ]
    }
   ],
   "execution_count": 5
  },
  {
   "metadata": {},
   "cell_type": "markdown",
   "source": "# 4. Write a program that illustrates the difference between public and private variables",
   "id": "910861a5f3054736"
  },
  {
   "metadata": {
    "ExecuteTime": {
     "end_time": "2024-11-25T06:18:01.575379Z",
     "start_time": "2024-11-25T06:18:01.563611Z"
    }
   },
   "cell_type": "code",
   "source": [
    "class Demo:\n",
    "    def __init__(self):\n",
    "        self.public_var = \"I am public\"\n",
    "        self.__private_var = \"I am private\"  \n",
    "\n",
    "    def show_vars(self):\n",
    "        print(f\"Public Variable: {self.public_var}\")\n",
    "        print(f\"Private Variable: {self.__private_var}\")\n",
    "obj = Demo()\n",
    "print(\"Accessing Public Variable:\", obj.public_var)\n",
    "try:\n",
    "    print(\"Accessing Private Variable:\", obj.__private_var)\n",
    "except AttributeError:\n",
    "    print(\"Private Variable cannot be accessed directly!\")\n",
    "obj.show_vars()\n"
   ],
   "id": "b876a3da6727222f",
   "outputs": [
    {
     "name": "stdout",
     "output_type": "stream",
     "text": [
      "Accessing Public Variable: I am public\n",
      "Private Variable cannot be accessed directly!\n",
      "Public Variable: I am public\n",
      "Private Variable: I am private\n"
     ]
    }
   ],
   "execution_count": 1
  },
  {
   "metadata": {},
   "cell_type": "markdown",
   "source": "# 5. Write a program that has class Numbers with values stored in a list. Write a class method to find the largest value.\n",
   "id": "c687761ec099348e"
  },
  {
   "metadata": {
    "ExecuteTime": {
     "end_time": "2024-11-25T06:24:10.991159Z",
     "start_time": "2024-11-25T06:24:10.983288Z"
    }
   },
   "cell_type": "code",
   "source": [
    "class Numbers:\n",
    "    def __init__(self, values):\n",
    "        self.values = values \n",
    "    def find_largest(self):\n",
    "        if not self.values:\n",
    "            return \"The list is empty!\"\n",
    "        largest = self.values[0]\n",
    "        for num in self.values:\n",
    "            if num > largest: \n",
    "                largest = num\n",
    "        return largest\n",
    "\n",
    "nums = Numbers([10, 25, 38, 2, 50, 17])\n",
    "\n",
    "largest = nums.find_largest()\n",
    "print(f\"The largest value in the list is: {largest}\")\n"
   ],
   "id": "82d88a58b5cc47cc",
   "outputs": [
    {
     "name": "stdout",
     "output_type": "stream",
     "text": [
      "The largest value in the list is: 50\n"
     ]
    }
   ],
   "execution_count": 2
  },
  {
   "metadata": {},
   "cell_type": "markdown",
   "source": "# 6. Write a class that stores a string and all its status details such as number of uppercase characters, vowels, consonants, spaces etc.",
   "id": "8731e3c49e3a69d"
  },
  {
   "metadata": {
    "ExecuteTime": {
     "end_time": "2024-11-25T06:29:19.874931Z",
     "start_time": "2024-11-25T06:29:19.864540Z"
    }
   },
   "cell_type": "code",
   "source": [
    "class StringDetails:\n",
    "    def __init__(self, input_string):\n",
    "        self.string = input_string\n",
    "        self.uppercase_count = 0\n",
    "        self.vowel_count = 0\n",
    "        self.consonant_count = 0\n",
    "        self.space_count = 0\n",
    "        self.other_char_count = 0\n",
    "        self.calculate_details()\n",
    "\n",
    "    def calculate_details(self):\n",
    "        vowels = \"aeiouAEIOU\"\n",
    "        for char in self.string:\n",
    "            if char.isupper():\n",
    "                self.uppercase_count += 1\n",
    "            if char in vowels:\n",
    "                self.vowel_count += 1\n",
    "            elif char.isalpha():\n",
    "                self.consonant_count += 1\n",
    "            elif char.isspace():\n",
    "                self.space_count += 1\n",
    "            else:\n",
    "                self.other_char_count += 1\n",
    "\n",
    "    def display_details(self):\n",
    "        print(f\"String: {self.string}\")\n",
    "        print(f\"Uppercase Letters: {self.uppercase_count}\")\n",
    "        print(f\"Vowels: {self.vowel_count}\")\n",
    "        print(f\"Consonants: {self.consonant_count}\")\n",
    "        print(f\"Spaces: {self.space_count}\")\n",
    "        print(f\"Other Characters: {self.other_char_count}\")\n",
    "\n",
    "\n",
    "# Example usage\n",
    "text = StringDetails(\"Hello World! 123\")\n",
    "text.display_details()\n"
   ],
   "id": "fb16212e29535b9e",
   "outputs": [
    {
     "name": "stdout",
     "output_type": "stream",
     "text": [
      "String: Hello World! 123\n",
      "Uppercase Letters: 2\n",
      "Vowels: 3\n",
      "Consonants: 7\n",
      "Spaces: 2\n",
      "Other Characters: 4\n"
     ]
    }
   ],
   "execution_count": 3
  },
  {
   "metadata": {},
   "cell_type": "markdown",
   "source": "# 7. Write a program that has a class Point with attributes as the X and Y coordinates. Make two objects of this class and find the midpoint of both the points",
   "id": "91d8174162846532"
  },
  {
   "metadata": {
    "ExecuteTime": {
     "end_time": "2024-11-25T06:59:27.805732Z",
     "start_time": "2024-11-25T06:59:27.795071Z"
    }
   },
   "cell_type": "code",
   "source": [
    "class Point:\n",
    "    def __init__(self, x, y):\n",
    "        self.x = x\n",
    "        self.y = y \n",
    "\n",
    "    @staticmethod\n",
    "    def find_midpoint(point1, point2):\n",
    "        mid_x = (point1.x + point2.x) / 2\n",
    "        mid_y = (point1.y + point2.y) / 2\n",
    "        return Point(mid_x, mid_y)\n",
    "\n",
    "    def display(self):\n",
    "        print(f\"Point({self.x}, {self.y})\")\n",
    "point1 = Point(2, 3)\n",
    "point2 = Point(8, 7)\n",
    "midpoint = Point.find_midpoint(point1, point2)\n",
    "print(\"Point 1:\", end=\" \")\n",
    "point1.display()\n",
    "print(\"Point 2:\", end=\" \")\n",
    "point2.display()\n",
    "print(\"Midpoint:\", end=\" \")\n",
    "midpoint.display()\n"
   ],
   "id": "cf57bef5f16fc5eb",
   "outputs": [
    {
     "name": "stdout",
     "output_type": "stream",
     "text": [
      "Point 1: Point(2, 3)\n",
      "Point 2: Point(8, 7)\n",
      "Midpoint: Point(5.0, 5.0)\n"
     ]
    }
   ],
   "execution_count": 5
  },
  {
   "metadata": {},
   "cell_type": "markdown",
   "source": "# 8. Write a Python program to implement the concept of inheritance.\n",
   "id": "80c4410c284cfecb"
  },
  {
   "metadata": {
    "ExecuteTime": {
     "end_time": "2024-11-25T07:01:55.648044Z",
     "start_time": "2024-11-25T07:01:55.638293Z"
    }
   },
   "cell_type": "code",
   "source": [
    "\n",
    "class Vehicle:\n",
    "    def __init__(self, brand, model):\n",
    "        self.brand = brand\n",
    "        self.model = model\n",
    "\n",
    "    def display_info(self):\n",
    "        print(f\"Brand: {self.brand}, Model: {self.model}\")\n",
    "\n",
    "class Car(Vehicle):\n",
    "    def __init__(self, brand, model, doors):\n",
    "        super().__init__(brand, model)  \n",
    "        self.doors = doors\n",
    "\n",
    "    def display_info(self):\n",
    "        super().display_info()  \n",
    "        print(f\"Doors: {self.doors}\")\n",
    "\n",
    "class Bike(Vehicle):\n",
    "    def __init__(self, brand, model, engine_capacity):\n",
    "        super().__init__(brand, model)\n",
    "        self.engine_capacity = engine_capacity\n",
    "\n",
    "    def display_info(self):\n",
    "        super().display_info()\n",
    "        print(f\"Engine Capacity: {self.engine_capacity}cc\")\n",
    "\n",
    "car = Car(\"Toyota\", \"Corolla\", 4)\n",
    "bike = Bike(\"Yamaha\", \"R15\", 150)\n",
    "\n",
    "print(\"Car Details:\")\n",
    "car.display_info()\n",
    "\n",
    "print(\"\\nBike Details:\")\n",
    "bike.display_info()\n"
   ],
   "id": "20b02895f2a5a0a7",
   "outputs": [
    {
     "name": "stdout",
     "output_type": "stream",
     "text": [
      "Car Details:\n",
      "Brand: Toyota, Model: Corolla\n",
      "Doors: 4\n",
      "\n",
      "Bike Details:\n",
      "Brand: Yamaha, Model: R15\n",
      "Engine Capacity: 150cc\n"
     ]
    }
   ],
   "execution_count": 6
  },
  {
   "metadata": {},
   "cell_type": "markdown",
   "source": "# 9. Write a program that overloads the + operator on a class Student that has attributes name and marks.",
   "id": "d554267a791a29d4"
  },
  {
   "metadata": {
    "ExecuteTime": {
     "end_time": "2024-11-26T07:46:00.140804Z",
     "start_time": "2024-11-26T07:46:00.132440Z"
    }
   },
   "cell_type": "code",
   "source": [
    "class Student:\n",
    "    def __init__(self, name, marks):\n",
    "        self.name = name\n",
    "        self.marks = marks\n",
    "    def __add__(self, other):\n",
    "         if isinstance(other, Student):\n",
    "            com_name = f\"{self.name} & {other.name}\"\n",
    "            com_marks = self.marks + other.marks\n",
    "            return Student(com_name, com_marks)\n",
    "            raise TypeError(\"Add is only supported between two Student objects\")\n",
    "    def display(self):\n",
    "        print(f\"Name: {self.name}, Marks: {self.marks}\")\n",
    "stu1 = Student(\"Mohit\", 85)\n",
    "stu2 = Student(\"Malav\", 90)\n",
    "com_student = stu1 + stu2\n",
    "com_student.display()\n"
   ],
   "id": "f3e16e60d3f66872",
   "outputs": [
    {
     "name": "stdout",
     "output_type": "stream",
     "text": [
      "Name: Mohit & Malav, Marks: 175\n"
     ]
    }
   ],
   "execution_count": 12
  },
  {
   "metadata": {},
   "cell_type": "code",
   "outputs": [],
   "execution_count": null,
   "source": "",
   "id": "bf205547a189ddd"
  }
 ],
 "metadata": {
  "kernelspec": {
   "display_name": "Python 3",
   "language": "python",
   "name": "python3"
  },
  "language_info": {
   "codemirror_mode": {
    "name": "ipython",
    "version": 2
   },
   "file_extension": ".py",
   "mimetype": "text/x-python",
   "name": "python",
   "nbconvert_exporter": "python",
   "pygments_lexer": "ipython2",
   "version": "2.7.6"
  }
 },
 "nbformat": 4,
 "nbformat_minor": 5
}
