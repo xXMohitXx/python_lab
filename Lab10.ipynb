{
 "cells": [
  {
   "metadata": {},
   "cell_type": "markdown",
   "source": "# Lab 10 : Mohit Manglani",
   "id": "86884f757cb45d6"
  },
  {
   "metadata": {},
   "cell_type": "markdown",
   "source": "## 1. Write a program that uses class to store the name and marks of students. Use list to store the marks in three subjects.",
   "id": "2b3729214c821691"
  },
  {
   "metadata": {
    "ExecuteTime": {
     "end_time": "2024-11-19T08:16:10.597462Z",
     "start_time": "2024-11-19T08:15:48.446128Z"
    }
   },
   "cell_type": "code",
   "source": [
    "from skimage.measure import perimeter\n",
    "\n",
    "\n",
    "class Student: \n",
    "    def __init__(self, name):\n",
    "        self.name = name\n",
    "        self.marks = []\n",
    "    def enter_marks(self):\n",
    "        for i in range(3):\n",
    "            m = int(input(f\"Enter marks of {self.name} in subject {i+1}: \"))\n",
    "            self.marks.append(m)\n",
    "    def display(self):\n",
    "        print(f\"{self.name} got {self.marks} marks.\")\n",
    "s1 = Student(\"Mohit\")\n",
    "s1.enter_marks()\n",
    "s2 = Student(\"Malav\")\n",
    "s2.enter_marks()\n",
    "s1.display()\n",
    "s2.display()\n"
   ],
   "id": "554d37591f906595",
   "outputs": [
    {
     "name": "stdout",
     "output_type": "stream",
     "text": [
      "Mohit got [10, 20, 30] marks.\n",
      "Malav got [10, 20, 30] marks.\n"
     ]
    }
   ],
   "execution_count": 4
  },
  {
   "metadata": {},
   "cell_type": "markdown",
   "source": "## 2. Write a program with class Employee that keeps a track of the number of employees in an organization and stores their name, designation and salary details.",
   "id": "ebbda7103336aed0"
  },
  {
   "metadata": {
    "ExecuteTime": {
     "end_time": "2024-11-19T08:36:06.012956Z",
     "start_time": "2024-11-19T08:36:06.004614Z"
    }
   },
   "cell_type": "code",
   "source": [
    "class employee: \n",
    "    def __init__(self, name, salary, designation):\n",
    "        self.name = name\n",
    "        self.salary = salary\n",
    "        self.designation = designation\n",
    "    def display(self):\n",
    "        print(f\"{self.name} has salary {self.salary} and is at {self.designation} post\")\n",
    "s1 = employee(\"Mohit\", 900000, \"manager\")\n",
    "s2 = employee(\"Malav\", 900000, \"manager\")\n",
    "s3 = employee(\"Saahil\", 20000,\"peon\")\n",
    "s1.display()\n",
    "s2.display()\n",
    "s3.display()"
   ],
   "id": "a89abfa56654a94f",
   "outputs": [
    {
     "name": "stdout",
     "output_type": "stream",
     "text": [
      "Mohit has salary 900000 and is at manager post\n",
      "Malav has salary 900000 and is at manager post\n",
      "Saahil has salary 20000 and is at peon post\n"
     ]
    }
   ],
   "execution_count": 6
  },
  {
   "metadata": {},
   "cell_type": "markdown",
   "source": "# 3. Write a program that has a class Circle. Use a class variable to define the value of constant PI. Use this class variable to calculate area and circumference of a circle with specified radius.",
   "id": "9b4a7e29e6b9cc6f"
  },
  {
   "metadata": {
    "ExecuteTime": {
     "end_time": "2024-11-19T08:32:39.789628Z",
     "start_time": "2024-11-19T08:32:32.850373Z"
    }
   },
   "cell_type": "code",
   "source": [
    "class circle:\n",
    "    pi = 3.14\n",
    "    def __init__(self, radius):\n",
    "        self.radius = radius\n",
    "    def area(self):\n",
    "        return circle.pi * self.radius**2\n",
    "    def circumference(self):\n",
    "        return circle.pi * 2 * self.radius\n",
    "\n",
    "radius = float(input(\"Enter radius: \")) #7\n",
    "cicle = circle(radius)\n",
    "\n",
    "print(f\"Area of the circle: {cicle.area()}\")\n",
    "print(f\"Circumference of the circle: {cicle.circumference()}\")\n"
   ],
   "id": "25165c7bbf4c545c",
   "outputs": [
    {
     "name": "stdout",
     "output_type": "stream",
     "text": [
      "Area of the circle: 153.86\n",
      "Circumference of the circle: 43.96\n"
     ]
    }
   ],
   "execution_count": 5
  },
  {
   "metadata": {},
   "cell_type": "markdown",
   "source": "",
   "id": "5865b061f269d871"
  }
 ],
 "metadata": {
  "kernelspec": {
   "display_name": "Python 3",
   "language": "python",
   "name": "python3"
  },
  "language_info": {
   "codemirror_mode": {
    "name": "ipython",
    "version": 2
   },
   "file_extension": ".py",
   "mimetype": "text/x-python",
   "name": "python",
   "nbconvert_exporter": "python",
   "pygments_lexer": "ipython2",
   "version": "2.7.6"
  }
 },
 "nbformat": 4,
 "nbformat_minor": 5
}
