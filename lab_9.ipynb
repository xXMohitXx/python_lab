{
 "cells": [
  {
   "cell_type": "markdown",
   "id": "04b8ef79-1d3a-47cf-841b-10f7343c208c",
   "metadata": {},
   "source": "# LAB 9 : Mohit Manglani"
  },
  {
   "cell_type": "markdown",
   "id": "df4c9013-8b56-4078-ada3-ba3cc4fa26aa",
   "metadata": {},
   "source": [
    "### Write a NumPy program to create a 3X4 array and iterate over it."
   ]
  },
  {
   "cell_type": "code",
   "execution_count": 3,
   "id": "b4a28bf9-ca5a-45aa-9ed6-6edb15c977cc",
   "metadata": {},
   "outputs": [
    {
     "name": "stdout",
     "output_type": "stream",
     "text": [
      "3x4 Array:\n",
      "[[ 1  2  3  4]\n",
      " [ 5  6  7  8]\n",
      " [ 9 10 11 12]]\n",
      "\n",
      "Iterating over the array:\n",
      "[1 2 3 4]\n",
      "[5 6 7 8]\n",
      "[ 9 10 11 12]\n"
     ]
    }
   ],
   "source": [
    "import numpy as np\n",
    "\n",
    "array = np.arange(1, 13).reshape(3, 4)\n",
    "print(\"3x4 Array:\")\n",
    "print(array)\n",
    "\n",
    "print(\"\\nIterating over the array:\")\n",
    "for row in array:\n",
    "    print(row)\n"
   ]
  },
  {
   "cell_type": "markdown",
   "id": "6c5c8f7c-57a2-450c-b770-f9d8b08d0eb4",
   "metadata": {},
   "source": [
    "### Write a NumPy program to create a 3x4 matrix filled with values from 10 to 21."
   ]
  },
  {
   "cell_type": "code",
   "execution_count": 5,
   "id": "6cd75595-d711-48eb-88b6-2e86f25882fa",
   "metadata": {},
   "outputs": [
    {
     "name": "stdout",
     "output_type": "stream",
     "text": [
      "3x4 Matrix:\n",
      "[[10 11 12 13]\n",
      " [14 15 16 17]\n",
      " [18 19 20 21]]\n"
     ]
    }
   ],
   "source": [
    "matrix = np.arange(10, 22).reshape(3, 4)\n",
    "print(\"3x4 Matrix:\")\n",
    "print(matrix)\n"
   ]
  },
  {
   "cell_type": "markdown",
   "id": "829ecf51-7a65-47bc-acaa-4302adfec592",
   "metadata": {},
   "source": [
    "### Write a NumPy program to create a 10x10 matrix, in which the elements on the borders will be equal to 1, and inside 0"
   ]
  },
  {
   "cell_type": "code",
   "execution_count": 7,
   "id": "f5d4521a-5532-4ca8-836f-5c68af337cac",
   "metadata": {},
   "outputs": [
    {
     "name": "stdout",
     "output_type": "stream",
     "text": [
      "10x10 Matrix with borders 1 and inside 0:\n",
      "[[1 1 1 1 1 1 1 1 1 1]\n",
      " [1 0 0 0 0 0 0 0 0 1]\n",
      " [1 0 0 0 0 0 0 0 0 1]\n",
      " [1 0 0 0 0 0 0 0 0 1]\n",
      " [1 0 0 0 0 0 0 0 0 1]\n",
      " [1 0 0 0 0 0 0 0 0 1]\n",
      " [1 0 0 0 0 0 0 0 0 1]\n",
      " [1 0 0 0 0 0 0 0 0 1]\n",
      " [1 0 0 0 0 0 0 0 0 1]\n",
      " [1 1 1 1 1 1 1 1 1 1]]\n"
     ]
    }
   ],
   "source": [
    "matrix = np.ones((10, 10) ,dtype=int)\n",
    "matrix[1:-1, 1:-1] = 0\n",
    "print(\"10x10 Matrix with borders 1 and inside 0:\")\n",
    "print(matrix)\n"
   ]
  },
  {
   "cell_type": "markdown",
   "id": "575b7dc4-c43d-4996-9fbb-8512afbec717",
   "metadata": {},
   "source": [
    "### Write a Python function that takes two 2D arrays as input and returns their matrix product using NumPy"
   ]
  },
  {
   "cell_type": "code",
   "execution_count": 10,
   "id": "5c6b4f2d-1901-419f-bd08-575f1498c10c",
   "metadata": {},
   "outputs": [
    {
     "name": "stdout",
     "output_type": "stream",
     "text": [
      "Matrix product:\n",
      "[[19 22]\n",
      " [43 50]]\n"
     ]
    }
   ],
   "source": [
    "def matrix_product(arr1, arr2):\n",
    "    return np.dot(arr1, arr2)\n",
    "\n",
    "# Example usage:\n",
    "arr1 = np.array([[1, 2], [3, 4]])\n",
    "arr2 = np.array([[5, 6], [7, 8]])\n",
    "print(\"Matrix product:\")\n",
    "print(matrix_product(arr1, arr2))\n"
   ]
  },
  {
   "cell_type": "markdown",
   "id": "e7a6308b-5ba2-4738-b5d7-4b99682e3dc6",
   "metadata": {},
   "source": [
    "### Write a Python function that takes a 1D NumPy array as input and returns a new array with all even numbers squared and odd numbers unchanged"
   ]
  },
  {
   "cell_type": "code",
   "execution_count": 12,
   "id": "5a955396-2538-482c-9046-c8309af9ad76",
   "metadata": {},
   "outputs": [
    {
     "name": "stdout",
     "output_type": "stream",
     "text": [
      "Processed array:\n",
      "[ 1  4  3 16  5 36]\n"
     ]
    }
   ],
   "source": [
    "def process_array(arr):\n",
    "    return np.where(arr % 2 == 0, arr**2, arr)\n",
    "\n",
    "# Example usage:\n",
    "arr = np.array([1, 2, 3, 4, 5, 6])\n",
    "print(\"Processed array:\")\n",
    "print(process_array(arr))\n"
   ]
  },
  {
   "cell_type": "markdown",
   "id": "394c4057-e75c-40de-a03c-6b789c0db924",
   "metadata": {},
   "source": [
    "\n"
   ]
  },
  {
   "cell_type": "markdown",
   "id": "d3121644-0e4f-488f-bbcd-aed998e0d857",
   "metadata": {},
   "source": [
    "### Write a NumPy program to compute the sum of all elements, the sum of each column and the sum of each row in a given array"
   ]
  },
  {
   "cell_type": "code",
   "execution_count": 14,
   "id": "df756ab7-e591-4f0c-8323-946d31fa2a94",
   "metadata": {},
   "outputs": [
    {
     "name": "stdout",
     "output_type": "stream",
     "text": [
      "Sum of all elements: 45\n",
      "Sum of each column: [12 15 18]\n",
      "Sum of each row: [ 6 15 24]\n"
     ]
    }
   ],
   "source": [
    "array = np.array([[1, 2, 3], [4, 5, 6], [7, 8, 9]])\n",
    "print(\"Sum of all elements:\", np.sum(array))\n",
    "print(\"Sum of each column:\", np.sum(array, axis=0))\n",
    "print(\"Sum of each row:\", np.sum(array, axis=1))\n"
   ]
  },
  {
   "cell_type": "markdown",
   "id": "647e8791-405e-46eb-8a7b-14a150421472",
   "metadata": {},
   "source": [
    "### Write a NumPy program to add a vector to each row of a given matrix."
   ]
  },
  {
   "cell_type": "code",
   "execution_count": 16,
   "id": "84023d1e-2de7-469b-a05d-36aa7f7b3adf",
   "metadata": {},
   "outputs": [
    {
     "name": "stdout",
     "output_type": "stream",
     "text": [
      "Matrix after adding vector to each row:\n",
      "[[2 2 2]\n",
      " [5 5 5]\n",
      " [8 8 8]]\n"
     ]
    }
   ],
   "source": [
    "matrix = np.array([[1, 2, 3], [4, 5, 6], [7, 8, 9]])\n",
    "vector = np.array([1, 0, -1])\n",
    "print(\"Matrix after adding vector to each row:\")\n",
    "print(matrix + vector)\n"
   ]
  },
  {
   "cell_type": "markdown",
   "id": "556de91b-71cd-414f-a08f-0b7d76110d16",
   "metadata": {},
   "source": [
    "### Consider a given series: \n",
    "#### QTR1\t50000\n",
    "#### QTR2\t65890\n",
    "#### QTR3\t56780\n",
    "#### QTR4\t89000\n",
    "#### QTR5\t77900\n",
    "\n",
    "### Write a program in Python Pandas to create and display the series.\n"
   ]
  },
  {
   "cell_type": "code",
   "execution_count": 18,
   "id": "248da01d-3841-4986-896a-b98f06d121f8",
   "metadata": {},
   "outputs": [
    {
     "name": "stdout",
     "output_type": "stream",
     "text": [
      "Pandas Series:\n",
      "QTR1    50000\n",
      "QTR2    65890\n",
      "QTR3    56780\n",
      "QTR4    89000\n",
      "QTR5    77900\n",
      "dtype: int64\n"
     ]
    }
   ],
   "source": [
    "import pandas as pd\n",
    "\n",
    "data = [50000, 65890, 56780, 89000, 77900]\n",
    "index = ['QTR1', 'QTR2', 'QTR3', 'QTR4', 'QTR5']\n",
    "series = pd.Series(data, index=index)\n",
    "print(\"Pandas Series:\")\n",
    "print(series)\n"
   ]
  },
  {
   "cell_type": "markdown",
   "id": "cf17bb69-1f16-4ea2-9c77-22cd2e6989c4",
   "metadata": {},
   "source": [
    "### Write a Pandas program to add, subtract, multiple and divide two Pandas Series"
   ]
  },
  {
   "cell_type": "code",
   "execution_count": 20,
   "id": "63fc87e8-6c1d-44b1-9457-9e8b8d9a5427",
   "metadata": {},
   "outputs": [
    {
     "name": "stdout",
     "output_type": "stream",
     "text": [
      "Addition:\n",
      "0    11\n",
      "1    22\n",
      "2    33\n",
      "3    44\n",
      "dtype: int64\n",
      "Subtraction:\n",
      "0    -9\n",
      "1   -18\n",
      "2   -27\n",
      "3   -36\n",
      "dtype: int64\n",
      "Multiplication:\n",
      "0     10\n",
      "1     40\n",
      "2     90\n",
      "3    160\n",
      "dtype: int64\n",
      "Division:\n",
      "0    0.1\n",
      "1    0.1\n",
      "2    0.1\n",
      "3    0.1\n",
      "dtype: float64\n"
     ]
    }
   ],
   "source": [
    "series1 = pd.Series([1, 2, 3, 4])\n",
    "series2 = pd.Series([10, 20, 30, 40])\n",
    "\n",
    "print(\"Addition:\")\n",
    "print(series1 + series2)\n",
    "\n",
    "print(\"Subtraction:\")\n",
    "print(series1 - series2)\n",
    "\n",
    "print(\"Multiplication:\")\n",
    "print(series1 * series2)\n",
    "\n",
    "print(\"Division:\")\n",
    "print(series1 / series2)\n"
   ]
  },
  {
   "cell_type": "markdown",
   "id": "81f1e4df-a05a-498f-927a-5c3c4a86b874",
   "metadata": {},
   "source": [
    "### Write a Pandas program to convert given series into a dataframe with its index as another column on the dataframe"
   ]
  },
  {
   "cell_type": "code",
   "execution_count": 22,
   "id": "c4c81367-a378-44ee-b23d-4661ec0b2150",
   "metadata": {},
   "outputs": [
    {
     "name": "stdout",
     "output_type": "stream",
     "text": [
      "DataFrame:\n",
      "  Quarter  Values\n",
      "0    QTR1   50000\n",
      "1    QTR2   65890\n",
      "2    QTR3   56780\n",
      "3    QTR4   89000\n",
      "4    QTR5   77900\n"
     ]
    }
   ],
   "source": [
    "df = series.reset_index()\n",
    "df.columns = ['Quarter', 'Values']\n",
    "print(\"DataFrame:\")\n",
    "print(df)\n"
   ]
  },
  {
   "cell_type": "markdown",
   "id": "c3a8bcf7-3e1a-480f-b5be-145db169a315",
   "metadata": {},
   "source": [
    "### Write a Pandas program to iterate over rows in a DataFrame"
   ]
  },
  {
   "cell_type": "code",
   "execution_count": 24,
   "id": "84514390-2275-4d07-8383-426bc5db6592",
   "metadata": {},
   "outputs": [
    {
     "name": "stdout",
     "output_type": "stream",
     "text": [
      "Iterating over rows:\n",
      "Index 0: {'A': 1, 'B': 4}\n",
      "Index 1: {'A': 2, 'B': 5}\n",
      "Index 2: {'A': 3, 'B': 6}\n"
     ]
    }
   ],
   "source": [
    "data = {'A': [1, 2, 3], 'B': [4, 5, 6]}\n",
    "df = pd.DataFrame(data)\n",
    "\n",
    "print(\"Iterating over rows:\")\n",
    "for index, row in df.iterrows():\n",
    "    print(f\"Index {index}: {row.to_dict()}\")\n"
   ]
  },
  {
   "cell_type": "markdown",
   "id": "d4e7cc07-e0f8-4528-9b58-04dec2a76dd1",
   "metadata": {},
   "source": [
    "### Write a Pandas program to rename columns of a given DataFrame"
   ]
  },
  {
   "cell_type": "code",
   "execution_count": 26,
   "id": "8627689c-5735-4fec-971a-80197ee8394a",
   "metadata": {},
   "outputs": [
    {
     "name": "stdout",
     "output_type": "stream",
     "text": [
      "Renamed DataFrame:\n",
      "   Column1  Column2\n",
      "0        1        4\n",
      "1        2        5\n",
      "2        3        6\n"
     ]
    }
   ],
   "source": [
    "df = df.rename(columns={'A': 'Column1', 'B': 'Column2'})\n",
    "print(\"Renamed DataFrame:\")\n",
    "print(df)\n"
   ]
  },
  {
   "cell_type": "markdown",
   "id": "9fa4db02-2758-44a1-bb17-506816d80399",
   "metadata": {},
   "source": [
    "### Write a Pandas program to add one row in an existing DataFrame"
   ]
  },
  {
   "cell_type": "code",
   "execution_count": 28,
   "id": "0e4300a1-9d96-4b92-8b9e-c4f83d6425e0",
   "metadata": {},
   "outputs": [
    {
     "name": "stdout",
     "output_type": "stream",
     "text": [
      "DataFrame after adding a row:\n",
      "   Column1  Column2\n",
      "0        1        4\n",
      "1        2        5\n",
      "2        3        6\n",
      "3       10       20\n"
     ]
    }
   ],
   "source": [
    "new_row = pd.DataFrame({'Column1': [10], 'Column2': [20]})\n",
    "df = pd.concat([df, new_row], ignore_index=True)\n",
    "print(\"DataFrame after adding a row:\")\n",
    "print(df)\n"
   ]
  },
  {
   "cell_type": "markdown",
   "id": "14ff70f0-ca53-42e3-92b0-9726f14eed5c",
   "metadata": {},
   "source": [
    "### Write a Pandas program to write a DataFrame to CSV file using tab separator."
   ]
  },
  {
   "cell_type": "code",
   "execution_count": 30,
   "id": "3a8ae34b-d176-4bd1-b236-a87f7d884dfb",
   "metadata": {},
   "outputs": [
    {
     "name": "stdout",
     "output_type": "stream",
     "text": [
      "DataFrame written to 'output.csv' with tab separator.\n"
     ]
    }
   ],
   "source": [
    "df.to_csv('output.csv', sep='\\t', index=False)\n",
    "print(\"DataFrame written to 'output.csv' with tab separator.\")\n"
   ]
  },
  {
   "attachments": {
    "ce4e6a73-327a-4628-bfbf-f56eb346ef95.png": {
     "image/png": "[encoded data removed]"
    }
   },
   "cell_type": "markdown",
   "id": "07c2c3d0-5073-4dd6-9816-265d279862bf",
   "metadata": {},
   "source": [
    "### output of the above code is\n",
    "\n",
    "![image.png](attachment:ce4e6a73-327a-4628-bfbf-f56eb346ef95.png)"
   ]
  },
  {
   "cell_type": "markdown",
   "id": "848c3be1-503c-4c9c-a49f-3f31d155f243",
   "metadata": {},
   "source": [
    "### Write a Pandas program to find the row for where the value of a given column is maximum"
   ]
  },
  {
   "cell_type": "code",
   "execution_count": 32,
   "id": "2dd7cc30-f384-4ce2-ab3d-19084a9aff55",
   "metadata": {},
   "outputs": [
    {
     "name": "stdout",
     "output_type": "stream",
     "text": [
      "Row with maximum value:\n",
      "   Values\n",
      "4      50\n"
     ]
    }
   ],
   "source": [
    "data = {'Values': [10, 20, 30, 40, 50]}\n",
    "df = pd.DataFrame(data)\n",
    "max_row = df[df['Values'] == df['Values'].max()]\n",
    "print(\"Row with maximum value:\")\n",
    "print(max_row)\n"
   ]
  },
  {
   "cell_type": "code",
   "execution_count": null,
   "id": "19b50d9b-5e94-4ee7-a71c-2d77a30b0d71",
   "metadata": {},
   "outputs": [],
   "source": []
  }
 ],
 "metadata": {
  "kernelspec": {
   "display_name": "Python 3 (ipykernel)",
   "language": "python",
   "name": "python3"
  },
  "language_info": {
   "codemirror_mode": {
    "name": "ipython",
    "version": 3
   },
   "file_extension": ".py",
   "mimetype": "text/x-python",
   "name": "python",
   "nbconvert_exporter": "python",
   "pygments_lexer": "ipython3",
   "version": "3.12.4"
  }
 },
 "nbformat": 4,
 "nbformat_minor": 5
}
