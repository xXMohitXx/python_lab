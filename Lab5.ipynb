{
 "cells": [
  {
   "cell_type": "markdown",
   "metadata": {},
   "source": "# Lab-5 Mohit Manglani"
  },
  {
   "cell_type": "markdown",
   "metadata": {},
   "source": "## 1. WAP to demonstrate the indexing and slicing of a string"
  },
  {
   "cell_type": "code",
   "execution_count": 4,
   "metadata": {},
   "outputs": [
    {
     "name": "stdin",
     "output_type": "stream",
     "text": [
      "Enter a string:  Hello Duniya\n",
      "Enter an index:  2\n"
     ]
    },
    {
     "name": "stdout",
     "output_type": "stream",
     "text": [
      "Character at index starting index  2: l\n",
      "Character at index ending index 2: y\n"
     ]
    },
    {
     "name": "stdin",
     "output_type": "stream",
     "text": [
      "Enter a start index:  3\n",
      "Enter an end index:  6\n",
      "Enter a step:  2\n"
     ]
    },
    {
     "name": "stdout",
     "output_type": "stream",
     "text": [
      "Substring from index 3 to end: lo Duniya\n",
      "Substring from index 3 to 6: lo \n",
      "Substring from index start to end with step of 2: HloDny\n",
      "Substring from index 3 to 6 with step of 2: l \n"
     ]
    }
   ],
   "source": [
    "str = input(\"Enter a string: \")\n",
    "\n",
    "# indexing examples\n",
    "idx = int(input(\"Enter an index: \"))\n",
    "if(idx > len(str)-1):\n",
    "    print(\"index out of range\")\n",
    "\n",
    "print(f\"Character at index starting index  {idx}: {str[idx]}\")\n",
    "print(f\"Character at index ending index {idx}: {str[-idx]}\")\n",
    "\n",
    "# slicing examples\n",
    "start = int(input(\"Enter a start index: \"))\n",
    "end = int(input(\"Enter an end index: \"))\n",
    "if(start > len(str)-1 or end > len(str)-1):\n",
    "    print(\"index out of range\")\n",
    "step = int(input(\"Enter a step: \"))\n",
    "\n",
    "print(f\"Substring from index {start} to end: {str[start:]}\")\n",
    "print(f\"Substring from index {start} to {end}: {str[start:end]}\")\n",
    "print(f\"Substring from index start to end with step of {step}: {str[::step]}\")\n",
    "print(f\"Substring from index {start} to {end} with step of {step}: {str[start:end:step]}\")"
   ]
  },
  {
   "cell_type": "markdown",
   "metadata": {},
   "source": [
    "2. WAP to print following pattern:"
   ]
  },
  {
   "attachments": {
    "image.png": {
     "image/png": "[encoded data removed]"
    }
   },
   "cell_type": "markdown",
   "metadata": {},
   "source": [
    "![image.png](attachment:image.png)"
   ]
  },
  {
   "cell_type": "code",
   "execution_count": 5,
   "metadata": {},
   "outputs": [
    {
     "name": "stdin",
     "output_type": "stream",
     "text": [
      "Enter a number:  5\n"
     ]
    },
    {
     "name": "stdout",
     "output_type": "stream",
     "text": [
      "A  \n",
      "A B  \n",
      "A B C  \n",
      "A B C D  \n",
      "A B C D E  \n"
     ]
    }
   ],
   "source": [
    "n = int(input(\"Enter a number: \"))\n",
    "\n",
    "for i in range(n):\n",
    "    for j in range(i + 1):\n",
    "        print(chr(65 + j), end=\" \")\n",
    "    print(' ')"
   ]
  },
  {
   "cell_type": "markdown",
   "metadata": {},
   "source": [
    "3. WAP to demonstrate the concatenation, appending and repeating operation on string using +, += and * operators."
   ]
  },
  {
   "cell_type": "code",
   "execution_count": 6,
   "metadata": {},
   "outputs": [
    {
     "name": "stdout",
     "output_type": "stream",
     "text": [
      "Concatenated String: Lorem ipsum dolor sit amet, consectetur. Praesent hendrerit, metus a bibendum.\n",
      "Appended String: Praesent hendrerit, metus a bibendum.Sed id turpis vel odio pharetra.\n",
      "Repeated String: Curabitur non ligula id nisi malesuada.Curabitur non ligula id nisi malesuada.Curabitur non ligula id nisi malesuada.Curabitur non ligula id nisi malesuada.\n"
     ]
    }
   ],
   "source": [
    "str1 = \"Lorem ipsum dolor sit amet, consectetur.\"\n",
    "str2 = \"Praesent hendrerit, metus a bibendum.\"\n",
    "str3 = \"Curabitur non ligula id nisi malesuada.\"\n",
    "print(f\"Concatenated String: {str1 + ' '+str2}\")\n",
    "str2 += \"Sed id turpis vel odio pharetra.\"\n",
    "print(f\"Appended String: {str2}\")\n",
    "repeated_str = str3 * 4\n",
    "print(f\"Repeated String: {repeated_str}\")"
   ]
  },
  {
   "cell_type": "markdown",
   "metadata": {},
   "source": [
    "4. WAP to iterate a given string using while and for loop."
   ]
  },
  {
   "cell_type": "code",
   "execution_count": 7,
   "metadata": {},
   "outputs": [
    {
     "name": "stdin",
     "output_type": "stream",
     "text": [
      "Enter a string:  Hello World\n"
     ]
    },
    {
     "name": "stdout",
     "output_type": "stream",
     "text": [
      "Using for loop\n",
      "H e l l o   W o r l d \n",
      "\n",
      "Using while loop\n",
      "H e l l o   W o r l d "
     ]
    }
   ],
   "source": [
    "str = input('Enter a string: ')\n",
    "print(\"Using for loop\")\n",
    "for char in str:\n",
    "    print(char,end=' ')\n",
    "print(\"\\n\")\n",
    "\n",
    "print(\"Using while loop\")\n",
    "index = 0\n",
    "while index < len(str):\n",
    "    print(str[index],end=' ')\n",
    "    index += 1"
   ]
  },
  {
   "cell_type": "markdown",
   "metadata": {},
   "source": [
    "5. WAP to remove nth index character from a non-empty string"
   ]
  },
  {
   "cell_type": "code",
   "execution_count": 8,
   "metadata": {},
   "outputs": [
    {
     "name": "stdin",
     "output_type": "stream",
     "text": [
      "Enter a string:  Namaste from Hetav\n",
      "Enter an index:  3\n"
     ]
    },
    {
     "name": "stdout",
     "output_type": "stream",
     "text": [
      "The character removed from index 3: a\n",
      "The string after removing the character: Namste from Hetav\n"
     ]
    }
   ],
   "source": [
    "str = input('Enter a string: ')\n",
    "idx = int(input('Enter an index: '))\n",
    "\n",
    "if idx > len(str) - 1:\n",
    "    print('Index out of range')\n",
    "\n",
    "removed_char = str[idx]\n",
    "str = str[:idx] + str[idx+1:]\n",
    "\n",
    "print(f\"The character removed from index {idx}: {removed_char}\")\n",
    "print(f\"The string after removing the character: {str}\")"
   ]
  },
  {
   "cell_type": "markdown",
   "metadata": {},
   "source": [
    "6. WAP to calculate the length of a string. Do not use built in function len( )."
   ]
  },
  {
   "cell_type": "code",
   "execution_count": 10,
   "metadata": {},
   "outputs": [
    {
     "name": "stdin",
     "output_type": "stream",
     "text": [
      "Enter a string:  Namaste\n"
     ]
    },
    {
     "name": "stdout",
     "output_type": "stream",
     "text": [
      "Length of the string is 7\n"
     ]
    }
   ],
   "source": [
    "str = input(\"Enter a string: \")\n",
    "count = 0\n",
    "for char in str:\n",
    "    count += 1\n",
    "print(f\"Length of the string is {count}\")"
   ]
  },
  {
   "cell_type": "markdown",
   "metadata": {},
   "source": [
    "7. WAP to return a string in title case. Do not use built in function title( ). </br>\n",
    "(If string is “The world is beautiful”, program should return the string in title case as “The World Is Beautiful”.)"
   ]
  },
  {
   "cell_type": "code",
   "execution_count": 11,
   "metadata": {},
   "outputs": [
    {
     "name": "stdin",
     "output_type": "stream",
     "text": [
      "Enter a String:  namaste python\n"
     ]
    },
    {
     "name": "stdout",
     "output_type": "stream",
     "text": [
      "Title Case String: Namaste Python\n"
     ]
    }
   ],
   "source": [
    "str = input(\"Enter a String: \")\n",
    "chars = str.split()\n",
    "title_case_chars = []\n",
    "title_case_str = ''\n",
    "for char in chars:\n",
    "    title_case_chars.append(char.capitalize())\n",
    "    title_case_str = ' '.join(title_case_chars)\n",
    "print(f\"Title Case String: {title_case_str}\")"
   ]
  },
  {
   "cell_type": "markdown",
   "metadata": {},
   "source": [
    "8. WAP to check whether a string is a palindrome or not."
   ]
  },
  {
   "cell_type": "code",
   "execution_count": 12,
   "metadata": {},
   "outputs": [
    {
     "name": "stdin",
     "output_type": "stream",
     "text": [
      "Enter a String:  naman\n"
     ]
    },
    {
     "name": "stdout",
     "output_type": "stream",
     "text": [
      "naman is a palindrome\n"
     ]
    }
   ],
   "source": [
    "str = input(\"Enter a String: \")\n",
    "\n",
    "new_str = str.replace(\" \", \"\").lower()\n",
    "rev_str = new_str[::-1]\n",
    "if new_str == rev_str:\n",
    "    print(f\"{str} is a palindrome\")\n",
    "else:\n",
    "    print(f\"{str} is not a palindrome\")"
   ]
  },
  {
   "cell_type": "markdown",
   "metadata": {},
   "source": [
    "9. WAP that accepts a string from user and redisplays the same string after removing vowels from it."
   ]
  },
  {
   "cell_type": "code",
   "execution_count": 13,
   "metadata": {},
   "outputs": [
    {
     "name": "stdin",
     "output_type": "stream",
     "text": [
      "Enter a string:  Hetav codes in python \n"
     ]
    },
    {
     "name": "stdout",
     "output_type": "stream",
     "text": [
      "String after removing vowels: Htv cds n pythn \n"
     ]
    }
   ],
   "source": [
    "str = input(\"Enter a string: \")\n",
    "\n",
    "vowels = ['a', 'e', 'i', 'o', 'u', 'A', 'E', 'I', 'O', 'U']\n",
    "\n",
    "for char in str:\n",
    "    if char in vowels:\n",
    "        str = str.replace(char, '')\n",
    "\n",
    "print(f\"String after removing vowels: {str}\")"
   ]
  },
  {
   "cell_type": "markdown",
   "metadata": {},
   "source": [
    "10. WAP to find whether a given character is present in a string or not. In case it is present, print the index at which it is present. Do not use built-in find function to search the character."
   ]
  },
  {
   "cell_type": "code",
   "execution_count": 14,
   "metadata": {},
   "outputs": [
    {
     "name": "stdin",
     "output_type": "stream",
     "text": [
      "Enter a String:  Hello Hetav\n",
      "Enter a character to find:  H\n"
     ]
    },
    {
     "name": "stdout",
     "output_type": "stream",
     "text": [
      "H is present at index [0, 6] in string Hello Hetav\n"
     ]
    }
   ],
   "source": [
    "str = input(\"Enter a String: \")\n",
    "char = input(\"Enter a character to find: \")\n",
    "char_idx = []\n",
    "found = False\n",
    "for i in range(len(str)):\n",
    "    if str[i].lower() == char.lower():\n",
    "        char_idx.append(i)\n",
    "        found = True\n",
    "\n",
    "if found == False:\n",
    "    print(f\"{char} is not present in string {str}\")\n",
    "else:\n",
    "    print(f\"{char} is present at index {char_idx} in string {str}\")"
   ]
  },
  {
   "cell_type": "markdown",
   "metadata": {},
   "source": [
    "11. WAP to count the occurrence of each word in a given sentence."
   ]
  },
  {
   "cell_type": "code",
   "execution_count": 15,
   "metadata": {},
   "outputs": [
    {
     "name": "stdin",
     "output_type": "stream",
     "text": [
      "Enter a Sentence:  earth moon sky fire stars water sun tree stars fire water sky moon sun\n"
     ]
    },
    {
     "name": "stdout",
     "output_type": "stream",
     "text": [
      "earth --> 1\n",
      "moon --> 2\n",
      "sky --> 2\n",
      "fire --> 2\n",
      "stars --> 2\n",
      "water --> 2\n",
      "sun --> 2\n",
      "tree --> 1\n"
     ]
    }
   ],
   "source": [
    "sentence = input(\"Enter a Sentence: \")\n",
    "word_counts = {}\n",
    "words = sentence.split()\n",
    "\n",
    "for word in words:\n",
    "    word = word.lower()\n",
    "    if word in word_counts:\n",
    "        word_counts[word] += 1\n",
    "    else:\n",
    "        word_counts[word] = 1\n",
    "\n",
    "for word, count in word_counts.items():\n",
    "    print(f\"{word} --> {count}\")"
   ]
  },
  {
   "cell_type": "markdown",
   "metadata": {},
   "source": [
    "12. WAP to append a string to another string without using += operator."
   ]
  },
  {
   "cell_type": "code",
   "execution_count": 16,
   "metadata": {},
   "outputs": [
    {
     "name": "stdin",
     "output_type": "stream",
     "text": [
      "Enter a string:  FBI\n",
      "Enter another string:  Open Up\n"
     ]
    },
    {
     "name": "stdout",
     "output_type": "stream",
     "text": [
      "Concatenated string: FBI Open Up\n"
     ]
    }
   ],
   "source": [
    "str1 = input(\"Enter a string: \")\n",
    "str2 = input(\"Enter another string: \")\n",
    "\n",
    "str1 += \" \" + str2\n",
    "print(f\"Concatenated string: {str1}\")"
   ]
  },
  {
   "cell_type": "markdown",
   "metadata": {},
   "source": [
    "13. Write a function to convert a given string to all uppercase if it contains at least 2 uppercase characters in the first 4 characters."
   ]
  },
  {
   "cell_type": "code",
   "execution_count": 18,
   "metadata": {},
   "outputs": [
    {
     "name": "stdin",
     "output_type": "stream",
     "text": [
      "Enter a string:  HEll no\n"
     ]
    },
    {
     "name": "stdout",
     "output_type": "stream",
     "text": [
      "String after converting to uppercase: HELL NO\n"
     ]
    }
   ],
   "source": [
    "def lower_to_upper(str):\n",
    "    count = 0\n",
    "    for char in str[:4]:\n",
    "        if char.isupper():\n",
    "            count += 1\n",
    "\n",
    "    if count >= 2:\n",
    "        return str.upper()\n",
    "    else:\n",
    "        return str\n",
    "\n",
    "str = input(\"Enter a string: \")\n",
    "\n",
    "print(f\"String after converting to uppercase: {lower_to_upper(str)}\")"
   ]
  },
  {
   "cell_type": "markdown",
   "metadata": {},
   "source": [
    "14. WAP to remove existing indentation from all the lines in a given text."
   ]
  },
  {
   "cell_type": "code",
   "execution_count": 19,
   "metadata": {},
   "outputs": [
    {
     "name": "stdout",
     "output_type": "stream",
     "text": [
      "Original text: \n",
      " \t\t\t This is a string with\n",
      "    \t\t\t leading and \n",
      "        trailing whitespaces.\n",
      "\n",
      "Text after removing indentation: \n",
      "This is a string with\n",
      "leading and \n",
      "trailing whitespaces.\n"
     ]
    }
   ],
   "source": [
    "text = \"\"\" \\t\\t\\t This is a string with\n",
    "    \\t\\t\\t leading and \n",
    "        trailing whitespaces.\"\"\"\n",
    "\n",
    "lines = []\n",
    "current_line = \"\"\n",
    "\n",
    "for char in text:\n",
    "    if char == '\\n':\n",
    "        lines.append(current_line.lstrip())\n",
    "        current_line = \"\"\n",
    "    else:\n",
    "        current_line += char\n",
    "\n",
    "lines.append(current_line.lstrip())\n",
    "\n",
    "new_text = '\\n'.join(lines)\n",
    "\n",
    "print(f\"Original text: \\n{text}\")\n",
    "print(f\"\\nText after removing indentation: \\n{new_text}\")"
   ]
  },
  {
   "cell_type": "markdown",
   "metadata": {},
   "source": [
    "15. WAP to demonstrate the use of various built-in functions such as count, find, isalnum, isalpha, isdigit, islower, isupper, upper, lower, strip, replace, swapcase, join etc."
   ]
  },
  {
   "cell_type": "code",
   "execution_count": 20,
   "metadata": {},
   "outputs": [
    {
     "name": "stdout",
     "output_type": "stream",
     "text": [
      "Count of 'l': 2\n",
      "Find 'open': -1\n",
      "Is alphanumeric: False\n",
      "Is alphabetic: False\n",
      "Is digit: False\n",
      "Is lowercase: False\n",
      "Is uppercase: False\n",
      "Uppercase: WHY CANT PYTHON USE BRACES JUST LIKE OTHER SANE LANGUAGES\n",
      "Lowercase: why cant python use braces just like other sane languages\n",
      "Stripped: 'Why cant python use braces just like other sane languages'\n",
      "Replaced: Why cant python just use braces just like other sane languages\n",
      "Swapcase: wHY CANT PYTHON USE BRACES JUST LIKE OTHER SANE LANGUAGES\n",
      "Joined: kgb-open\n"
     ]
    }
   ],
   "source": [
    "sample_str = \"Why cant python use braces just like other sane languages\"\n",
    "\n",
    "# count\n",
    "count_l = sample_str.count('l')\n",
    "print(f\"Count of 'l': {count_l}\")\n",
    "\n",
    "# find\n",
    "find_open = sample_str.find('open')\n",
    "print(f\"Find 'open': {find_open}\")\n",
    "\n",
    "# isalnum\n",
    "is_alnum = sample_str.isalnum()\n",
    "print(f\"Is alphanumeric: {is_alnum}\")\n",
    "\n",
    "# isalpha\n",
    "is_alpha = sample_str.isalpha()\n",
    "print(f\"Is alphabetic: {is_alpha}\")\n",
    "\n",
    "# isdigit\n",
    "is_digit = sample_str.isdigit()\n",
    "print(f\"Is digit: {is_digit}\")\n",
    "\n",
    "# islower\n",
    "is_lower = sample_str.islower()\n",
    "print(f\"Is lowercase: {is_lower}\")\n",
    "\n",
    "# isupper\n",
    "is_upper = sample_str.isupper()\n",
    "print(f\"Is uppercase: {is_upper}\")\n",
    "\n",
    "# upper\n",
    "upper_str = sample_str.upper()\n",
    "print(f\"Uppercase: {upper_str}\")\n",
    "\n",
    "# lower\n",
    "lower_str = sample_str.lower()\n",
    "print(f\"Lowercase: {lower_str}\")\n",
    "\n",
    "# strip\n",
    "stripped_str = sample_str.strip()\n",
    "print(f\"Stripped: '{stripped_str}'\")\n",
    "\n",
    "# replace\n",
    "replaced_str = sample_str.replace('use', 'just use')\n",
    "print(f\"Replaced: {replaced_str}\")\n",
    "\n",
    "# swapcase\n",
    "swapcase_str = sample_str.swapcase()\n",
    "print(f\"Swapcase: {swapcase_str}\")\n",
    "\n",
    "# join\n",
    "joined_str = '-'.join(['kgb', 'open'])\n",
    "print(f\"Joined: {joined_str}\")"
   ]
  }
 ],
 "metadata": {
  "kernelspec": {
   "display_name": "Python 3 (ipykernel)",
   "language": "python",
   "name": "python3"
  },
  "language_info": {
   "codemirror_mode": {
    "name": "ipython",
    "version": 3
   },
   "file_extension": ".py",
   "mimetype": "text/x-python",
   "name": "python",
   "nbconvert_exporter": "python",
   "pygments_lexer": "ipython3",
   "version": "3.11.9"
  }
 },
 "nbformat": 4,
 "nbformat_minor": 4
}
