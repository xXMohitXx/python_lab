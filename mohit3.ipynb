{
 "cells": [
  {
   "cell_type": "markdown",
   "id": "f5502826-0d76-4252-8ebb-1ae9a8848be1",
   "metadata": {
    "tags": []
   },
   "source": "# Lab 3 : Mohit Manglani"
  },
  {
   "cell_type": "markdown",
   "id": "c6631bae-bcea-4c4c-a3f6-16bf7f026788",
   "metadata": {},
   "source": [
    "### Write functions to find addition subtraction multiplication and divison of two numbers"
   ]
  },
  {
   "cell_type": "markdown",
   "id": "361db74e-7fe9-49f8-949b-bd7d2ae6abae",
   "metadata": {},
   "source": [
    "#### Subtraction"
   ]
  },
  {
   "cell_type": "code",
   "execution_count": 6,
   "id": "0ecda60a-1828-44ce-b6df-5180abbc2bb9",
   "metadata": {},
   "outputs": [
    {
     "name": "stdout",
     "output_type": "stream",
     "text": [
      "-10\n"
     ]
    }
   ],
   "source": [
    "def sub(a,b):\n",
    "    c=a-b\n",
    "    print(c)\n",
    "    \n",
    "sub(10,20)"
   ]
  },
  {
   "cell_type": "markdown",
   "id": "252c6684-0fc6-45a2-afab-b935d1964bfd",
   "metadata": {},
   "source": [
    "#### Addition"
   ]
  },
  {
   "cell_type": "code",
   "execution_count": 12,
   "id": "69c28ecf-861d-4ad8-bba1-450aeff862f0",
   "metadata": {},
   "outputs": [
    {
     "name": "stdout",
     "output_type": "stream",
     "text": [
      "30\n"
     ]
    }
   ],
   "source": [
    "def addition(a,b):\n",
    "    c=a+b\n",
    "    print(c)\n",
    "    \n",
    "addition(10,20)"
   ]
  },
  {
   "cell_type": "markdown",
   "id": "59836096-c959-40f5-b4f9-fe08d3184fe1",
   "metadata": {},
   "source": [
    "#### Multiplication"
   ]
  },
  {
   "cell_type": "code",
   "execution_count": 9,
   "id": "24b35613-7df8-435e-9142-a65fbcb0ed3e",
   "metadata": {},
   "outputs": [
    {
     "name": "stdout",
     "output_type": "stream",
     "text": [
      "200\n"
     ]
    }
   ],
   "source": [
    "def mul(a,b):\n",
    "    c=a*b\n",
    "    print(c)\n",
    "    \n",
    "mul(10,20)\n",
    "    "
   ]
  },
  {
   "cell_type": "markdown",
   "id": "a67bbcc3-4cf8-40ce-8147-126a4d9a976d",
   "metadata": {},
   "source": [
    "#### Division"
   ]
  },
  {
   "cell_type": "code",
   "execution_count": 10,
   "id": "4b4dacf4-3dc1-4892-924d-1823c6555973",
   "metadata": {},
   "outputs": [
    {
     "name": "stdout",
     "output_type": "stream",
     "text": [
      "0.5\n"
     ]
    }
   ],
   "source": [
    "def div(a,b):\n",
    "    c=a/b\n",
    "    print(c)\n",
    "    \n",
    "div(10,20)\n",
    "    "
   ]
  },
  {
   "cell_type": "markdown",
   "id": "48b3413a-1e2d-4e4d-81cc-34c0dbb0f7f0",
   "metadata": {},
   "source": [
    "### Write a function to determine number of seconds for given days"
   ]
  },
  {
   "cell_type": "code",
   "execution_count": 13,
   "id": "d564d812-0881-4150-ac92-3dacd9556c47",
   "metadata": {},
   "outputs": [
    {
     "name": "stdin",
     "output_type": "stream",
     "text": [
      "Enter number of days:-  365\n"
     ]
    },
    {
     "name": "stdout",
     "output_type": "stream",
     "text": [
      "31536000\n"
     ]
    }
   ],
   "source": [
    "def sec(days):\n",
    "    secs=days*86400\n",
    "    print(secs)\n",
    "\n",
    "days= int(input(\"Enter number of days:- \"))\n",
    "sec(days)"
   ]
  },
  {
   "cell_type": "markdown",
   "id": "a323fd75-f353-4ac5-8487-2f25d951b6fd",
   "metadata": {},
   "source": [
    "### Write a function to calculate volume of cubiod using default arguments"
   ]
  },
  {
   "cell_type": "code",
   "execution_count": 15,
   "id": "ac98f33b-d7e1-45c5-8ed7-f4a5301e4116",
   "metadata": {},
   "outputs": [
    {
     "name": "stdout",
     "output_type": "stream",
     "text": [
      "6000\n"
     ]
    }
   ],
   "source": [
    "def vol(l=10,b=20,h=30):\n",
    "    volume=l*b*h\n",
    "    print(volume)\n",
    "    \n",
    "vol()"
   ]
  },
  {
   "cell_type": "code",
   "execution_count": 16,
   "id": "12bc49f9-fc60-499f-b689-ccd31267f33c",
   "metadata": {},
   "outputs": [
    {
     "name": "stdout",
     "output_type": "stream",
     "text": [
      "12000\n",
      "18000\n",
      "24000\n"
     ]
    }
   ],
   "source": [
    "vol(20)\n",
    "vol(20,30)\n",
    "vol(20,30,40)"
   ]
  },
  {
   "cell_type": "markdown",
   "id": "c8d2520e-0c40-4b36-a939-5b23c6bcb377",
   "metadata": {},
   "source": [
    "### Write a function to determine average of three given numbers"
   ]
  },
  {
   "cell_type": "code",
   "execution_count": 19,
   "id": "defd558f-207c-40ac-a344-93e01a2fcca3",
   "metadata": {},
   "outputs": [
    {
     "name": "stdin",
     "output_type": "stream",
     "text": [
      "Enter first number:-  10\n",
      "Enter second number:-  20\n",
      "Enter third number:-  30\n"
     ]
    },
    {
     "name": "stdout",
     "output_type": "stream",
     "text": [
      "The average of three given numbers is :-  20.0\n"
     ]
    }
   ],
   "source": [
    "def avg(a,b,c):\n",
    "    sum=a+b+c\n",
    "    average=sum/3\n",
    "    print(\"The average of three given numbers is :- \", average)\n",
    "a = int(input(\"Enter first number:- \"))\n",
    "b = int(input(\"Enter second number:- \"))\n",
    "c = int(input(\"Enter third number:- \"))\n",
    "avg(a,b,c)"
   ]
  },
  {
   "cell_type": "markdown",
   "id": "65991a17-9a70-4b65-92b5-cf3de749eedb",
   "metadata": {},
   "source": [
    "### write a function that converts hours into minutes"
   ]
  },
  {
   "cell_type": "code",
   "execution_count": 21,
   "id": "2cbeed15-df70-4801-b817-0210dcca0a4d",
   "metadata": {},
   "outputs": [
    {
     "name": "stdin",
     "output_type": "stream",
     "text": [
      "Enter the number of hours :-  2\n"
     ]
    },
    {
     "name": "stdout",
     "output_type": "stream",
     "text": [
      "The amount of minutes in  2 hours are:-  120\n"
     ]
    }
   ],
   "source": [
    "def convert(hours):\n",
    "    minutes= hours*60\n",
    "    print(\"The amount of minutes in \",hours,\"hours are:- \", minutes)\n",
    "hrs = int(input(\"Enter the number of hours :- \"))\n",
    "convert(hrs)"
   ]
  },
  {
   "cell_type": "markdown",
   "id": "e5a82c91-f198-409c-9b7f-258e15d0ab26",
   "metadata": {},
   "source": [
    "### write a function that displays hello and your full name"
   ]
  },
  {
   "cell_type": "code",
   "execution_count": 23,
   "id": "5c070fa7-0528-4aca-b437-b4d5124339bf",
   "metadata": {},
   "outputs": [
    {
     "name": "stdin",
     "output_type": "stream",
     "text": [
      "Enter your first name:-  mohit\n",
      "Enter your last name:-  manglani\n"
     ]
    },
    {
     "name": "stdout",
     "output_type": "stream",
     "text": [
      "Hello mohit manglani\n"
     ]
    }
   ],
   "source": [
    "def greet(f,l):\n",
    "    print(\"Hello\", first, last)\n",
    "first = input(\"Enter your first name:- \")\n",
    "last = input(\"Enter your last name:- \")\n",
    "greet(first,last)"
   ]
  },
  {
   "metadata": {},
   "cell_type": "markdown",
   "source": "## Modules ",
   "id": "c7411bb63568c103"
  },
  {
   "metadata": {},
   "cell_type": "markdown",
   "source": "### Random module",
   "id": "c2f7cc99ac65fd8c"
  },
  {
   "metadata": {
    "ExecuteTime": {
     "end_time": "2024-09-10T07:45:31.505429Z",
     "start_time": "2024-09-10T07:45:31.497985Z"
    }
   },
   "cell_type": "code",
   "outputs": [
    {
     "data": {
      "text/plain": [
       "0.760357899571863"
      ]
     },
     "execution_count": 4,
     "metadata": {},
     "output_type": "execute_result"
    }
   ],
   "execution_count": 4,
   "source": [
    "import random as ra\n",
    "ra.random() #returns a float random value between 0 and 1"
   ],
   "id": "37f51443ab9e3a94"
  },
  {
   "metadata": {
    "ExecuteTime": {
     "end_time": "2024-09-10T07:46:41.472151Z",
     "start_time": "2024-09-10T07:46:41.461324Z"
    }
   },
   "cell_type": "code",
   "source": "ra.randint(20,60) #returns int values between the given range",
   "id": "eead27d59062d193",
   "outputs": [
    {
     "data": {
      "text/plain": [
       "44"
      ]
     },
     "execution_count": 5,
     "metadata": {},
     "output_type": "execute_result"
    }
   ],
   "execution_count": 5
  },
  {
   "metadata": {
    "ExecuteTime": {
     "end_time": "2024-09-10T07:47:49.596898Z",
     "start_time": "2024-09-10T07:47:49.586596Z"
    }
   },
   "cell_type": "code",
   "source": "ra.uniform(20,60) #returns a float random value between the given range",
   "id": "ec27497931dae630",
   "outputs": [
    {
     "data": {
      "text/plain": [
       "48.804169799549065"
      ]
     },
     "execution_count": 6,
     "metadata": {},
     "output_type": "execute_result"
    }
   ],
   "execution_count": 6
  },
  {
   "metadata": {},
   "cell_type": "markdown",
   "source": "### Cmath module",
   "id": "ccb63b743098c95a"
  },
  {
   "metadata": {
    "ExecuteTime": {
     "end_time": "2024-09-10T07:52:37.973256Z",
     "start_time": "2024-09-10T07:52:37.966199Z"
    }
   },
   "cell_type": "code",
   "source": [
    "import cmath as cm\n",
    "cm.cos(2+3)"
   ],
   "id": "1f1e5df3d36a2881",
   "outputs": [
    {
     "data": {
      "text/plain": [
       "(0.28366218546322625+0j)"
      ]
     },
     "execution_count": 9,
     "metadata": {},
     "output_type": "execute_result"
    }
   ],
   "execution_count": 9
  },
  {
   "metadata": {
    "ExecuteTime": {
     "end_time": "2024-09-10T07:52:57.646222Z",
     "start_time": "2024-09-10T07:52:57.631888Z"
    }
   },
   "cell_type": "code",
   "source": "cm.exp(2)",
   "id": "beed21e112b5fc39",
   "outputs": [
    {
     "data": {
      "text/plain": [
       "(7.38905609893065+0j)"
      ]
     },
     "execution_count": 10,
     "metadata": {},
     "output_type": "execute_result"
    }
   ],
   "execution_count": 10
  },
  {
   "metadata": {
    "ExecuteTime": {
     "end_time": "2024-09-10T07:53:06.713206Z",
     "start_time": "2024-09-10T07:53:06.697817Z"
    }
   },
   "cell_type": "code",
   "source": "cm.pi",
   "id": "9ea893f5b15d4b7b",
   "outputs": [
    {
     "data": {
      "text/plain": [
       "3.141592653589793"
      ]
     },
     "execution_count": 11,
     "metadata": {},
     "output_type": "execute_result"
    }
   ],
   "execution_count": 11
  },
  {
   "metadata": {
    "ExecuteTime": {
     "end_time": "2024-09-10T07:53:44.743281Z",
     "start_time": "2024-09-10T07:53:44.737072Z"
    }
   },
   "cell_type": "code",
   "source": "cm.sqrt(81)",
   "id": "8b4e323efd003524",
   "outputs": [
    {
     "data": {
      "text/plain": [
       "(9+0j)"
      ]
     },
     "execution_count": 12,
     "metadata": {},
     "output_type": "execute_result"
    }
   ],
   "execution_count": 12
  },
  {
   "metadata": {},
   "cell_type": "markdown",
   "source": "### Math module",
   "id": "6f048eefc2b0d4db"
  },
  {
   "metadata": {
    "ExecuteTime": {
     "end_time": "2024-09-10T07:57:33.630270Z",
     "start_time": "2024-09-10T07:57:33.621825Z"
    }
   },
   "cell_type": "code",
   "source": [
    "import math as m\n",
    "m.pow(3,3)"
   ],
   "id": "8c30b0f5743545f3",
   "outputs": [
    {
     "data": {
      "text/plain": [
       "27.0"
      ]
     },
     "execution_count": 14,
     "metadata": {},
     "output_type": "execute_result"
    }
   ],
   "execution_count": 14
  },
  {
   "metadata": {},
   "cell_type": "markdown",
   "source": "## Write a program to find root of quadratic equation",
   "id": "4c013d8adabba04f"
  },
  {
   "metadata": {
    "ExecuteTime": {
     "end_time": "2024-09-10T08:09:17.916200Z",
     "start_time": "2024-09-10T08:09:03.275188Z"
    }
   },
   "cell_type": "code",
   "source": [
    "def find_roots(a,b,c):\n",
    "    discriminant = (b**2) - (4*a*c)\n",
    "    \n",
    "    root1 = (-b + cm.sqrt(discriminant))/(2*a)\n",
    "    root2 = (-b - cm.sqrt(discriminant))/(2*a)\n",
    "    \n",
    "    return root1, root2\n",
    "\n",
    "a= float(input(\"Enter first number:- \"))\n",
    "b= float(input(\"Enter second number:- \"))\n",
    "c= float(input(\"Enter third number:- \"))\n",
    "\n",
    "root1, root2 = find_roots(a,b,c)\n",
    "print(\"The roots are :- \",root1,root2)"
   ],
   "id": "ebdd035604a21b07",
   "outputs": [
    {
     "name": "stdout",
     "output_type": "stream",
     "text": [
      "The roots are :-  (-0.375+1.5360257159305635j) (-0.375-1.5360257159305635j)\n"
     ]
    }
   ],
   "execution_count": 17
  },
  {
   "metadata": {},
   "cell_type": "markdown",
   "source": "## Write a program to find square root and cube of given number using math module",
   "id": "f977a0b9a7b0efa8"
  },
  {
   "metadata": {
    "ExecuteTime": {
     "end_time": "2024-09-10T08:16:15.060124Z",
     "start_time": "2024-09-10T08:16:06.128943Z"
    }
   },
   "cell_type": "code",
   "source": [
    "def square_cube(a):\n",
    "    square_root = m.sqrt(a)\n",
    "    cube= m.pow(a,3)\n",
    "    return square_root,cube\n",
    "\n",
    "a = float(input(\"Enter number to find square root and cube:- \"))\n",
    "square_cube(a)"
   ],
   "id": "5f56bfd39598d672",
   "outputs": [
    {
     "data": {
      "text/plain": [
       "(9.0, 531441.0)"
      ]
     },
     "execution_count": 18,
     "metadata": {},
     "output_type": "execute_result"
    }
   ],
   "execution_count": 18
  },
  {
   "metadata": {},
   "cell_type": "markdown",
   "source": "### Datetime module",
   "id": "b6a1353e69c486d0"
  },
  {
   "metadata": {
    "ExecuteTime": {
     "end_time": "2024-09-10T08:20:23.313995Z",
     "start_time": "2024-09-10T08:20:23.307788Z"
    }
   },
   "cell_type": "code",
   "source": [
    "from datetime import datetime as dt\n",
    "n=dt.now()\n",
    "print(n)"
   ],
   "id": "8568ff5f90825d54",
   "outputs": [
    {
     "name": "stdout",
     "output_type": "stream",
     "text": [
      "2024-09-10 13:50:23.310824\n"
     ]
    }
   ],
   "execution_count": 23
  },
  {
   "metadata": {
    "ExecuteTime": {
     "end_time": "2024-09-10T08:21:11.181132Z",
     "start_time": "2024-09-10T08:21:11.175790Z"
    }
   },
   "cell_type": "code",
   "source": [
    "import datetime as dt\n",
    "n=dt.datetime.now()\n",
    "print(n)"
   ],
   "id": "b0a8e3f91ad2e1b8",
   "outputs": [
    {
     "name": "stdout",
     "output_type": "stream",
     "text": [
      "2024-09-10 13:51:11.177790\n"
     ]
    }
   ],
   "execution_count": 25
  },
  {
   "metadata": {
    "ExecuteTime": {
     "end_time": "2024-09-10T08:21:13.805218Z",
     "start_time": "2024-09-10T08:21:13.799451Z"
    }
   },
   "cell_type": "code",
   "source": [
    "p=dt.date.today()\n",
    "print(p)"
   ],
   "id": "712e195c392a7d26",
   "outputs": [
    {
     "name": "stdout",
     "output_type": "stream",
     "text": [
      "2024-09-10\n"
     ]
    }
   ],
   "execution_count": 26
  },
  {
   "metadata": {},
   "cell_type": "markdown",
   "source": "## To create Own module",
   "id": "ee356d3ebea27c25"
  },
  {
   "metadata": {
    "ExecuteTime": {
     "end_time": "2024-09-10T08:35:42.249097Z",
     "start_time": "2024-09-10T08:35:42.242519Z"
    }
   },
   "cell_type": "code",
   "source": [
    "import mymod as mm\n",
    "mm.greeting(\"Mohit\")"
   ],
   "id": "aa7acd82ee09b958",
   "outputs": [
    {
     "name": "stdout",
     "output_type": "stream",
     "text": [
      "Hello,Mohit\n"
     ]
    }
   ],
   "execution_count": 31
  }
 ],
 "metadata": {
  "kernelspec": {
   "display_name": "Python 3 (ipykernel)",
   "language": "python",
   "name": "python3"
  },
  "language_info": {
   "codemirror_mode": {
    "name": "ipython",
    "version": 3
   },
   "file_extension": ".py",
   "mimetype": "text/x-python",
   "name": "python",
   "nbconvert_exporter": "python",
   "pygments_lexer": "ipython3",
   "version": "3.9.13"
  }
 },
 "nbformat": 4,
 "nbformat_minor": 5
}
