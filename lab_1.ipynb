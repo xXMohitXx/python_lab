{
 "cells": [
  {
   "cell_type": "markdown",
   "id": "2ecf0de3-10f3-4893-a9f7-50b5798a4332",
   "metadata": {},
   "source": "# LAB 1 : Malav"
  },
  {
   "cell_type": "code",
   "execution_count": 9,
   "id": "4d052c53-59c7-497f-8b36-51ef32f4029f",
   "metadata": {},
   "outputs": [
    {
     "data": {
      "text/plain": [
       "15"
      ]
     },
     "execution_count": 9,
     "metadata": {},
     "output_type": "execute_result"
    }
   ],
   "source": [
    "a=10 #value of a is 10\n",
    "b=5\n",
    "c=a+b\n",
    "c"
   ]
  },
  {
   "cell_type": "markdown",
   "id": "166ddfc6-c098-4442-b3be-c5363236a911",
   "metadata": {},
   "source": [
    "# This is my first program"
   ]
  },
  {
   "cell_type": "markdown",
   "id": "1d048adf-e59b-43dd-8fce-66a0015bed55",
   "metadata": {},
   "source": [
    "## This is second biggest heading"
   ]
  },
  {
   "cell_type": "code",
   "execution_count": null,
   "id": "38b233ee-6fad-4adf-a6f7-bcdd09299756",
   "metadata": {},
   "outputs": [],
   "source": []
  },
  {
   "cell_type": "markdown",
   "id": "acb60035-2ba2-4ff9-a604-b8697bbcbb86",
   "metadata": {},
   "source": [
    "### This is third one"
   ]
  },
  {
   "cell_type": "raw",
   "id": "878f7d79-fbcf-4bb1-8beb-6b43a338bf0e",
   "metadata": {
    "vscode": {
     "languageId": "raw"
    }
   },
   "source": "* This is python lab, my name is Malav"
  },
  {
   "cell_type": "markdown",
   "id": "383dedf4-65fc-4b45-ba95-956a2eb90515",
   "metadata": {},
   "source": [
    "# Types of cells in Jupyter Notebook"
   ]
  },
  {
   "cell_type": "markdown",
   "id": "5875bede-3d87-4a41-84f9-63824bf8fb0d",
   "metadata": {},
   "source": [
    "## This is a markdown cell which is used to give headings"
   ]
  },
  {
   "cell_type": "raw",
   "id": "ee9ff473-db6b-4147-ac53-16b324b9f894",
   "metadata": {},
   "source": [
    "* This is raw cell which is used to write description"
   ]
  },
  {
   "cell_type": "code",
   "execution_count": 13,
   "id": "25c31765-f5a9-40a5-b0eb-dfbdc59c34d8",
   "metadata": {},
   "outputs": [],
   "source": [
    "#and this is a code cell, where you can code, this is a comment\n"
   ]
  },
  {
   "cell_type": "code",
   "execution_count": null,
   "id": "79948789-db32-4347-b24f-8291e21cd307",
   "metadata": {},
   "outputs": [],
   "source": []
  },
  {
   "cell_type": "code",
   "id": "289b0f46-cfca-4cec-8936-3571f99513fc",
   "metadata": {
    "ExecuteTime": {
     "end_time": "2024-09-09T16:54:08.276028Z",
     "start_time": "2024-09-09T16:54:08.269191Z"
    }
   },
   "source": "print('Malav')",
   "outputs": [
    {
     "name": "stdout",
     "output_type": "stream",
     "text": [
      "Malav\n"
     ]
    }
   ],
   "execution_count": 1
  },
  {
   "cell_type": "code",
   "execution_count": null,
   "id": "7dac4c1f-5420-407a-9242-2eed8b1454c2",
   "metadata": {},
   "outputs": [],
   "source": []
  },
  {
   "cell_type": "markdown",
   "id": "ea72151a-fad3-41db-8044-40fa9a60280e",
   "metadata": {},
   "source": [
    "### Write a program to find the area of a circle for given radius"
   ]
  },
  {
   "cell_type": "code",
   "execution_count": 25,
   "id": "da3d170c-21fa-4eed-a6e6-509eb6163401",
   "metadata": {},
   "outputs": [
    {
     "name": "stdout",
     "output_type": "stream",
     "text": [
      "Enter the radius of a circle:  5\n"
     ]
    },
    {
     "name": "stdout",
     "output_type": "stream",
     "text": [
      "The area of the circle for the given radius is:  78.5\n"
     ]
    }
   ],
   "source": [
    "r=float(input(\"Enter the radius of a circle: \" ))\n",
    "print(\"The area of the circle for the given radius is: \",3.14*r*r)"
   ]
  },
  {
   "cell_type": "code",
   "execution_count": null,
   "id": "d2ab1f25-573d-40fe-98be-8dadd9eb79e0",
   "metadata": {},
   "outputs": [],
   "source": []
  },
  {
   "cell_type": "markdown",
   "id": "fd03454a-dc3b-454d-92f3-6e06a122e299",
   "metadata": {},
   "source": [
    "### Write a program to swap two numbers"
   ]
  },
  {
   "cell_type": "code",
   "execution_count": 47,
   "id": "0fe73971-f93e-4934-8a60-cc8f58272e2e",
   "metadata": {},
   "outputs": [
    {
     "name": "stdout",
     "output_type": "stream",
     "text": [
      "Enter two numbers: \n"
     ]
    },
    {
     "name": "stdout",
     "output_type": "stream",
     "text": [
      "a:  2\n",
      "b:  3\n"
     ]
    },
    {
     "name": "stdout",
     "output_type": "stream",
     "text": [
      "The value of a and b before swapping:  2 3\n",
      "The value of a and b after swapping:  3 2\n"
     ]
    }
   ],
   "source": [
    "print(\"Enter two numbers: \")\n",
    "a=int(input(\"a: \"))\n",
    "b=int(input(\"b: \"))\n",
    "print(\"The value of a and b before swapping: \",a,b)\n",
    "c=a\n",
    "a=b\n",
    "b=c\n",
    "print(\"The value of a and b after swapping: \",a,b)"
   ]
  },
  {
   "cell_type": "code",
   "execution_count": 45,
   "id": "9460994a-3b09-42a7-9a68-cdadd9bbaef0",
   "metadata": {},
   "outputs": [
    {
     "name": "stdout",
     "output_type": "stream",
     "text": [
      "Enter two numbers: \n"
     ]
    },
    {
     "name": "stdout",
     "output_type": "stream",
     "text": [
      "a:  2\n",
      "b:  3\n"
     ]
    },
    {
     "name": "stdout",
     "output_type": "stream",
     "text": [
      "The value of a and b before swapping:  2 3\n",
      "The value of a and b after swapping:  3 2\n"
     ]
    }
   ],
   "source": [
    "print(\"Enter two numbers: \")\n",
    "a=int(input(\"a: \"))\n",
    "b=int(input(\"b: \"))\n",
    "print(\"The value of a and b before swapping: \",a,b)\n",
    "a,b=b,a\n",
    "print(\"The value of a and b after swapping: \",a,b)"
   ]
  },
  {
   "cell_type": "code",
   "execution_count": null,
   "id": "0a63b95c-e500-4460-957a-aab4066b5e3c",
   "metadata": {},
   "outputs": [],
   "source": []
  },
  {
   "cell_type": "markdown",
   "id": "57b39abd-fcbd-420c-8151-25c31f093bb1",
   "metadata": {},
   "source": [
    "### Write a program to find average of 3 numbers"
   ]
  },
  {
   "cell_type": "code",
   "execution_count": 23,
   "id": "f25a75ce-0b5d-45af-a3b9-b980a3cf390d",
   "metadata": {},
   "outputs": [
    {
     "name": "stdout",
     "output_type": "stream",
     "text": [
      "Enter 3 numbers: \n"
     ]
    },
    {
     "name": "stdout",
     "output_type": "stream",
     "text": [
      "a:  2\n",
      "b:  3\n",
      "c:  5\n"
     ]
    },
    {
     "name": "stdout",
     "output_type": "stream",
     "text": [
      "The average of the given numbers is:  3.3333333333333335\n"
     ]
    }
   ],
   "source": [
    "print('Enter 3 numbers: ')\n",
    "a=int(input('a: '))\n",
    "b=int(input('b: '))\n",
    "c=int(input('c: '))\n",
    "d=(a+b+c)/3\n",
    "print('The average of the given numbers is: ',d)"
   ]
  },
  {
   "cell_type": "code",
   "execution_count": null,
   "id": "37cc4d42-edb4-47d3-a62c-2e952f8a12f1",
   "metadata": {},
   "outputs": [],
   "source": []
  },
  {
   "cell_type": "markdown",
   "id": "3eb4012e-dae3-4ffd-a444-d27dd5ea8d12",
   "metadata": {},
   "source": [
    "### Write a program to change temperature from celcius to farenheit"
   ]
  },
  {
   "cell_type": "code",
   "execution_count": 33,
   "id": "e18d1e6b-ee46-4abd-9f63-46532363bd9a",
   "metadata": {},
   "outputs": [
    {
     "name": "stdout",
     "output_type": "stream",
     "text": [
      "Enter the temperature in celcius\n"
     ]
    },
    {
     "name": "stdout",
     "output_type": "stream",
     "text": [
      "Celcius:  37\n"
     ]
    },
    {
     "name": "stdout",
     "output_type": "stream",
     "text": [
      "Temperature in farenheit is:  98.60000000000001\n"
     ]
    }
   ],
   "source": [
    "print('Enter the temperature in celcius')\n",
    "c=int(input('Celcius: '))\n",
    "print('Temperature in farenheit is: ',(1.8*c)+32)"
   ]
  },
  {
   "cell_type": "code",
   "execution_count": null,
   "id": "a9c0bbc4-8611-4ae6-898b-deb76c79169e",
   "metadata": {},
   "outputs": [],
   "source": []
  },
  {
   "cell_type": "markdown",
   "id": "124348da-aa18-4fd3-befe-303b394c25af",
   "metadata": {},
   "source": [
    "### Write a program to calculate distance between two points"
   ]
  },
  {
   "cell_type": "code",
   "execution_count": 39,
   "id": "e423e71a-0668-41fe-80db-669df850bc55",
   "metadata": {},
   "outputs": [
    {
     "name": "stdout",
     "output_type": "stream",
     "text": [
      "Enter the first point's x coordinates:  0\n",
      "Enter the first point's y coordinates:  0\n",
      "Enter the second point's x coordinates:  3\n",
      "Enter the second point's y coordinates:  4\n"
     ]
    },
    {
     "name": "stdout",
     "output_type": "stream",
     "text": [
      "The distance will be:  5.0\n"
     ]
    }
   ],
   "source": [
    "x1=int(input(\"Enter the first point's x coordinates: \"))\n",
    "y1=int(input(\"Enter the first point's y coordinates: \"))\n",
    "x2=int(input(\"Enter the second point's x coordinates: \"))\n",
    "y2=int(input(\"Enter the second point's y coordinates: \"))\n",
    "distance= ((x2-x1)**2 + (y2-y1)**2)**0.5\n",
    "print('The distance will be: ',distance)"
   ]
  },
  {
   "cell_type": "code",
   "execution_count": null,
   "id": "f1332ee9-b11e-4a7d-b147-ec474b4eeb22",
   "metadata": {},
   "outputs": [],
   "source": []
  },
  {
   "cell_type": "markdown",
   "id": "ed5c4fe8-5e1d-45c8-97bf-4a906a2ddda4",
   "metadata": {},
   "source": [
    "### Write a program to accept the base and height of a triangle and compute its area"
   ]
  },
  {
   "cell_type": "code",
   "execution_count": 53,
   "id": "e0cf9d27-be19-49ad-a448-320711d17695",
   "metadata": {},
   "outputs": [
    {
     "name": "stdout",
     "output_type": "stream",
     "text": [
      "Enter the base of the triangle:  4\n",
      "Enter the height of the triangle:  5\n"
     ]
    },
    {
     "name": "stdout",
     "output_type": "stream",
     "text": [
      "The area of the triangle is:  10.0\n"
     ]
    }
   ],
   "source": [
    "b=int(input('Enter the base of the triangle: '))\n",
    "h=int(input('Enter the height of the triangle: '))\n",
    "print('The area of the triangle is: ',0.5*b*h)"
   ]
  },
  {
   "cell_type": "code",
   "execution_count": null,
   "id": "36169734-8b13-4822-ac4e-2e990f77a23a",
   "metadata": {},
   "outputs": [],
   "source": []
  },
  {
   "cell_type": "markdown",
   "id": "88ce494f-ff1e-4bd6-9366-57e0420fa2be",
   "metadata": {},
   "source": [
    "### Write a program to find the midpoint of the line"
   ]
  },
  {
   "cell_type": "code",
   "execution_count": 67,
   "id": "f6a0f843-5949-4fef-b1eb-247c7db51b92",
   "metadata": {},
   "outputs": [
    {
     "name": "stdout",
     "output_type": "stream",
     "text": [
      "Enter the first end's x coordinates:  2\n",
      "Enter the first end's y coordinates:  3\n",
      "Enter the second end's x coordinates:  4\n",
      "Enter the second end's y coordinates:  5\n"
     ]
    },
    {
     "name": "stdout",
     "output_type": "stream",
     "text": [
      "The midpoint of the line (x,y) is: ( 3.0 , 4.0 )\n"
     ]
    }
   ],
   "source": [
    "x1=int(input(\"Enter the first end's x coordinates: \"))\n",
    "y1=int(input(\"Enter the first end's y coordinates: \"))\n",
    "x2=int(input(\"Enter the second end's x coordinates: \"))\n",
    "y2=int(input(\"Enter the second end's y coordinates: \"))\n",
    "print(\"The midpoint of the line (x,y) is: (\",((x1+x2)/2),\",\",((y1+y2)/2),\")\")"
   ]
  },
  {
   "cell_type": "code",
   "execution_count": null,
   "id": "5370215d-dcb7-43a1-aad8-2da64fac9330",
   "metadata": {},
   "outputs": [],
   "source": []
  },
  {
   "cell_type": "markdown",
   "id": "048844a0-1bec-42fb-9470-ad7f696e7b42",
   "metadata": {},
   "source": [
    "### Write a progrma to accept 3 numbers and print sum of cube of 3 numbers"
   ]
  },
  {
   "cell_type": "code",
   "execution_count": 19,
   "id": "e88320c4-780c-4a01-82dc-e232c91010a2",
   "metadata": {},
   "outputs": [
    {
     "name": "stdout",
     "output_type": "stream",
     "text": [
      "Enter three numbers:  1 2 3\n"
     ]
    },
    {
     "name": "stdout",
     "output_type": "stream",
     "text": [
      "The sum of the cube of these numbers is:  36\n"
     ]
    }
   ],
   "source": [
    "a,b,c=map(int,input('Enter three numbers: ').split())\n",
    "d=a**3+b**3+c**3\n",
    "print('The sum of the cube of these numbers is: ',d)"
   ]
  },
  {
   "cell_type": "code",
   "execution_count": null,
   "id": "ce08da21-03eb-4e39-b9a3-4e771721a1b5",
   "metadata": {},
   "outputs": [],
   "source": []
  },
  {
   "cell_type": "markdown",
   "id": "0c7ee79d-97aa-41fb-8d5b-2b30fc7c43eb",
   "metadata": {},
   "source": [
    "### Wrie a progam to calculate number of seconds in given days"
   ]
  },
  {
   "cell_type": "code",
   "execution_count": 23,
   "id": "dc97d8ab-b067-4dbc-9aa7-90bd9f518236",
   "metadata": {},
   "outputs": [
    {
     "name": "stdout",
     "output_type": "stream",
     "text": [
      "Enter the number of days:  3\n"
     ]
    },
    {
     "name": "stdout",
     "output_type": "stream",
     "text": [
      "The number of second in the 3 is 259200\n"
     ]
    }
   ],
   "source": [
    "days=int(input('Enter the number of days: '));\n",
    "print('The number of second in the',days,'is',days*24*60*60)"
   ]
  },
  {
   "cell_type": "code",
   "execution_count": null,
   "id": "99f2ec43-37a8-4f13-911d-ab425e88d58e",
   "metadata": {},
   "outputs": [],
   "source": []
  }
 ],
 "metadata": {
  "kernelspec": {
   "display_name": "Python 3 (ipykernel)",
   "language": "python",
   "name": "python3"
  },
  "language_info": {
   "codemirror_mode": {
    "name": "ipython",
    "version": 3
   },
   "file_extension": ".py",
   "mimetype": "text/x-python",
   "name": "python",
   "nbconvert_exporter": "python",
   "pygments_lexer": "ipython3",
   "version": "3.12.4"
  }
 },
 "nbformat": 4,
 "nbformat_minor": 5
}
