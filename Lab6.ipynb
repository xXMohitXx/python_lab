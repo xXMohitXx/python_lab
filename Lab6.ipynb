{
 "cells": [
  {
   "cell_type": "markdown",
   "id": "978c391b-cbfd-488f-bf6f-38397a5a6bc2",
   "metadata": {},
   "source": "# Lab 6 Mohit Manglani"
  },
  {
   "cell_type": "markdown",
   "id": "2700cdda-45a8-46bf-9b32-85ca101725db",
   "metadata": {},
   "source": [
    " WAP to demonstrate the indexing and slicing of a list and tuple."
   ]
  },
  {
   "cell_type": "code",
   "execution_count": 1,
   "id": "eac258e6-77ee-4bd0-85bb-76f9c7e482ab",
   "metadata": {},
   "outputs": [
    {
     "name": "stdout",
     "output_type": "stream",
     "text": [
      "List:\n",
      "Element at index  0 : 3\n",
      "Element at index  1 : 5\n",
      "Element at index  2 : 4\n",
      "Element at index  3 : 7\n",
      "Element at index  4 : 5\n",
      "Element at index  5 : 3\n",
      "Tuple:\n",
      "Element at index  0 : 4\n",
      "Element at index  1 : 1\n",
      "Element at index  2 : 2\n",
      "Element at index  3 : 5\n",
      "Element at index  4 : 3\n",
      "Element at index  5 : 6\n",
      "Slicing of list , myList[1:4]: [5, 4, 7]\n",
      "Slicing of , myList[0:4:2]: (4, 2, 3)\n"
     ]
    }
   ],
   "source": [
    "myList = [3,5,4,7,5,3]\n",
    "myTuple = (4,1,2,5,3,6)\n",
    "print(\"List:\")\n",
    "for i in range(0,len(myList)):\n",
    "     print(\"Element at index \",i,\":\",myList[i])\n",
    "print(\"Tuple:\")\n",
    "for i in range(0,len(myTuple)):\n",
    "     print(\"Element at index \",i,\":\",myTuple[i])\n",
    "print(\"Slicing of list , myList[1:4]:\",myList[1:4])\n",
    "print(\"Slicing of , myList[0:4:2]:\",myTuple[0:6:2])\n"
   ]
  },
  {
   "cell_type": "markdown",
   "id": "6b1933af-314b-4af7-9853-77fa809dcfe9",
   "metadata": {},
   "source": [
    "WAP to iterate an element of list and tuple using for and while loops."
   ]
  },
  {
   "cell_type": "code",
   "execution_count": 2,
   "id": "ff6322f1-7762-4d49-970f-20734acc6266",
   "metadata": {},
   "outputs": [
    {
     "name": "stdout",
     "output_type": "stream",
     "text": [
      "Iterating over list using for loop:\n",
      "1 2 3 4 5 \n",
      "Iterating over list using while loop:\n",
      "1 2 3 4 5 \n",
      "Iterating over tuple using for loop:\n",
      "10 20 30 40 50 \n",
      "Iterating over tuple using while loop:\n",
      "10 20 30 40 50 "
     ]
    }
   ],
   "source": [
    " my_list = [1, 2, 3, 4, 5]\n",
    "my_tuple = (10, 20, 30, 40, 50)\n",
    "print(\"Iterating over list using for loop:\")\n",
    "for element in my_list:\n",
    "       print(element,end=' ')\n",
    "print()\n",
    "print(\"Iterating over list using while loop:\")\n",
    "index = 0\n",
    "while index < len(my_list):\n",
    "     print(my_list[index],end=' ')\n",
    "     index += 1\n",
    "print()\n",
    "print(\"Iterating over tuple using for loop:\")\n",
    "for element in my_tuple:\n",
    "      print(element,end=' ')\n",
    "print()\n",
    "print(\"Iterating over tuple using while loop:\")\n",
    "index = 0\n",
    "while index < len(my_tuple):\n",
    "       print(my_tuple[index],end=' ')\n",
    "       index += 1"
   ]
  },
  {
   "cell_type": "markdown",
   "id": "1766db54-426b-4868-a43d-b2ead904556a",
   "metadata": {},
   "source": [
    "WAP that creates a list of 10 random integers. Then create two lists of all\n",
    "odd and even numbers from it.."
   ]
  },
  {
   "cell_type": "code",
   "execution_count": 3,
   "id": "9e9eb8d4-60e6-4997-bb88-c5d6cb7f970f",
   "metadata": {},
   "outputs": [
    {
     "name": "stdout",
     "output_type": "stream",
     "text": [
      "Original list: [17, 15, 2, 12, 9, 5, 11, 4, 7, 10]\n",
      "Odd list: [17, 15, 9, 5, 11, 7]\n",
      "Even list: [2, 12, 4, 10]\n"
     ]
    }
   ],
   "source": [
    "import random\n",
    "alist = []\n",
    "odd=[]\n",
    "even=[]\n",
    "for i in range(0,10):\n",
    "       alist.append(random.randint(0,20))\n",
    "print(\"Original list:\",alist)\n",
    "for i in alist:\n",
    "       if(i%2==0):\n",
    "            even.append(i)\n",
    "       else:\n",
    "            odd.append(i)\n",
    "print(\"Odd list:\",odd)\n",
    "print(\"Even list:\",even)\n"
   ]
  },
  {
   "cell_type": "markdown",
   "id": "72793b65-df67-4abf-8c64-647f7e9bc44c",
   "metadata": {},
   "source": [
    "WAP that creates a list of words by combining the words in two individual\n",
    "lists."
   ]
  },
  {
   "cell_type": "code",
   "execution_count": 4,
   "id": "a18bdd98-b56b-4011-9e3f-3cf919dd0a9f",
   "metadata": {},
   "outputs": [
    {
     "name": "stdout",
     "output_type": "stream",
     "text": [
      "['help', 'me', 'it', 'wont', 'let', 'me', 'go']\n"
     ]
    }
   ],
   "source": [
    " l1 = ['help','it','let','go']\n",
    "l2=['me','wont','me']\n",
    "l3=[]\n",
    "for i in range(0,len(l1)):\n",
    "         l3.append(l1[i])\n",
    "         if(i!=3):\n",
    "              l3.append(l2[i])\n",
    "print(l3)"
   ]
  },
  {
   "cell_type": "markdown",
   "id": "ddc203cc-a619-473c-b65c-b80aa11658db",
   "metadata": {},
   "source": [
    "WAP to remove all duplicates from a list."
   ]
  },
  {
   "cell_type": "code",
   "execution_count": 6,
   "id": "6f6a0d75-e44d-4edc-8b74-fc120d57d334",
   "metadata": {},
   "outputs": [
    {
     "name": "stdout",
     "output_type": "stream",
     "text": [
      "[3, 5, 4, 7, 1, 9]\n"
     ]
    }
   ],
   "source": [
    "alist = [3,5,4,7,5,3,4,1,1,1,3,9]\n",
    "new_list=[]\n",
    "adict = {}\n",
    "for i in alist:\n",
    "        if i not in adict.keys():\n",
    "              adict[i]=0\n",
    "              new_list.append(i)\n",
    "alist = new_list\n",
    "print(alist)\n"
   ]
  },
  {
   "cell_type": "markdown",
   "id": "c92cf621-d9d4-47fe-8f9b-fb26c17340cd",
   "metadata": {},
   "source": [
    "WAP to combine values in two lists using list comprehension. Combine only\n",
    "those values of a list that are multiples of values in the first list."
   ]
  },
  {
   "cell_type": "code",
   "execution_count": 7,
   "id": "ed452c87-2616-4666-9afd-60c14cc89b47",
   "metadata": {},
   "outputs": [
    {
     "name": "stdout",
     "output_type": "stream",
     "text": [
      "[(4, 2), (4, 4), (6, 2), (6, 6), (8, 2), (8, 4), (8, 8), (10, 2), (12, 2), (12, 4), (12, 6), (20, 2), (20, 4), (30, 2), (30, 6), (40, 2), (40, 4), (40, 8), (50, 2)]\n"
     ]
    }
   ],
   "source": [
    "list1 = [4,5,6,7,8,10,12,20,30,40,50]\n",
    "list2 = [2,4,6,8]\n",
    "list3 = [(i,j) for i in list1 for j in list2 if i%j==0]\n",
    "print(list3)\n"
   ]
  },
  {
   "cell_type": "markdown",
   "id": "4f5677d9-0c27-43b9-adbe-d9f799cce950",
   "metadata": {},
   "source": [
    "WAP using filter() function to filter out only even numbers from a list."
   ]
  },
  {
   "cell_type": "code",
   "execution_count": 8,
   "id": "1f9e6ef1-2249-4d58-ae85-df39e166e8fe",
   "metadata": {},
   "outputs": [
    {
     "name": "stdout",
     "output_type": "stream",
     "text": [
      "[2, 4, 6, 8, 10]\n"
     ]
    }
   ],
   "source": [
    "def odd_even(n):\n",
    "       if(n%2==0):\n",
    "             return n\n",
    "       else:\n",
    "             return False\n",
    "num = [1,2,3,4,5,6,7,8,9,10]\n",
    "even_num = list(filter(odd_even,num))\n",
    "print(even_num)\n"
   ]
  },
  {
   "cell_type": "markdown",
   "id": "2cea050a-df83-485d-86f0-86362a1eaa5c",
   "metadata": {},
   "source": [
    "WAP using map() function to create a list of squares of numbers in the range\n",
    "1 to 10."
   ]
  },
  {
   "cell_type": "code",
   "execution_count": 9,
   "id": "92e86b08-0ea6-4fa0-b547-a98ef00f85ab",
   "metadata": {},
   "outputs": [
    {
     "name": "stdout",
     "output_type": "stream",
     "text": [
      "[1, 4, 9, 16, 25, 36, 49, 64, 81, 100]\n"
     ]
    }
   ],
   "source": [
    "def squaree(n):\n",
    "        return n*n\n",
    "map_obj = map(squaree,range(1,11))\n",
    "ans_list = list(map_obj)\n",
    "print(ans_list)\n"
   ]
  },
  {
   "cell_type": "markdown",
   "id": "4adc7816-37ac-4e2c-a3d4-7d11fb57a9eb",
   "metadata": {},
   "source": [
    "WAP to demonstrate the use of zip() and enumerate() functions."
   ]
  },
  {
   "cell_type": "code",
   "execution_count": 10,
   "id": "07079498-8398-4010-9074-9dde90f904ab",
   "metadata": {},
   "outputs": [
    {
     "name": "stdout",
     "output_type": "stream",
     "text": [
      "Zip function Result: [(1, 1), (2, 4), (3, 9), (4, 16), (5, 25), (6, 36)]\n",
      "Enum result: [(0, 1), (1, 4), (2, 9), (3, 16), (4, 25), (5, 36)]\n"
     ]
    }
   ],
   "source": [
    " a = [1,2,3,4,5,6]\n",
    "b = [i*i for i in a]\n",
    "c = zip(a,b)\n",
    "print(\"Zip function Result:\",list(c))\n",
    "enum = enumerate(b)\n",
    "print(\"Enum result:\",list(enum))"
   ]
  },
  {
   "cell_type": "markdown",
   "id": "620056f7-51d9-416e-8273-47ee3bfb3444",
   "metadata": {},
   "source": [
    "WAP to add two matrices using nested lists."
   ]
  },
  {
   "cell_type": "code",
   "execution_count": 15,
   "id": "b797d8ec-4516-4827-bffa-fc449c09d4e4",
   "metadata": {},
   "outputs": [
    {
     "name": "stdin",
     "output_type": "stream",
     "text": [
      "Enter the number of rows: 2\n",
      "Enter number of columns: 2\n"
     ]
    },
    {
     "name": "stdout",
     "output_type": "stream",
     "text": [
      "Matrix 1:\n",
      "Row  1 :\n",
      "Column  1 :"
     ]
    },
    {
     "name": "stdin",
     "output_type": "stream",
     "text": [
      " 1\n"
     ]
    },
    {
     "name": "stdout",
     "output_type": "stream",
     "text": [
      "Column  2 :"
     ]
    },
    {
     "name": "stdin",
     "output_type": "stream",
     "text": [
      " 2\n"
     ]
    },
    {
     "name": "stdout",
     "output_type": "stream",
     "text": [
      "Row  2 :\n",
      "Column  1 :"
     ]
    },
    {
     "name": "stdin",
     "output_type": "stream",
     "text": [
      " 3\n"
     ]
    },
    {
     "name": "stdout",
     "output_type": "stream",
     "text": [
      "Column  2 :"
     ]
    },
    {
     "name": "stdin",
     "output_type": "stream",
     "text": [
      " 4\n"
     ]
    },
    {
     "name": "stdout",
     "output_type": "stream",
     "text": [
      "Matrix 2:\n",
      "Row  1 :\n",
      "Column  1 :"
     ]
    },
    {
     "name": "stdin",
     "output_type": "stream",
     "text": [
      " 1\n"
     ]
    },
    {
     "name": "stdout",
     "output_type": "stream",
     "text": [
      "Column  2 :"
     ]
    },
    {
     "name": "stdin",
     "output_type": "stream",
     "text": [
      " 2\n"
     ]
    },
    {
     "name": "stdout",
     "output_type": "stream",
     "text": [
      "Row  2 :\n",
      "Column  1 :"
     ]
    },
    {
     "name": "stdin",
     "output_type": "stream",
     "text": [
      " 3\n"
     ]
    },
    {
     "name": "stdout",
     "output_type": "stream",
     "text": [
      "Column  2 :"
     ]
    },
    {
     "name": "stdin",
     "output_type": "stream",
     "text": [
      " 4\n"
     ]
    },
    {
     "name": "stdout",
     "output_type": "stream",
     "text": [
      "Matrix 1:\n",
      "[1, 2]\n",
      "[3, 4]\n",
      "\n",
      "Matrix 2:\n",
      "[1, 2]\n",
      "[3, 4]\n",
      "\n",
      "Sum:\n",
      "[2, 4]\n",
      "[6, 8]\n"
     ]
    }
   ],
   "source": [
    "rows = int(input(\"Enter the number of rows:\"))\n",
    "columns = int(input(\"Enter number of columns:\"))\n",
    "mat1=[]\n",
    "mat2=[]\n",
    "mat3=[]\n",
    "for i in range(rows):\n",
    "         mat3.append([0] * columns)\n",
    "print(\"Matrix 1:\")\n",
    "for i in range(0,rows):\n",
    "         print(\"Row \",i+1,\":\")\n",
    "         intm=[]\n",
    "         for j in range(0,columns):\n",
    "                print(\"Column \",j+1,\":\",end='')\n",
    "                intm.append(int(input()))\n",
    "         mat1.append(intm)\n",
    "print(\"Matrix 2:\")\n",
    "for i in range(0,rows):\n",
    "       print(\"Row \",i+1,\":\")\n",
    "       intm=[]\n",
    "       for j in range(0,columns):\n",
    "              print(\"Column \",j+1,\":\",end='')\n",
    "              intm.append(int(input()))\n",
    "       mat2.append(intm)\n",
    "print(\"Matrix 1:\")\n",
    "for i in range(rows):\n",
    "          print(mat1[i])\n",
    "print(\"\\nMatrix 2:\")\n",
    "for i in range(rows):\n",
    "          print(mat2[i])\n",
    "for i in range(0,rows):\n",
    "          for j in range(0,columns):\n",
    "                 mat3[i][j]=mat1[i][j]+mat2[i][j]\n",
    "print(\"\\nSum:\")\n",
    "for i in range(rows):\n",
    "            print(mat3[i])\n"
   ]
  },
  {
   "cell_type": "markdown",
   "id": "a7c82589-2e9f-403f-8afe-63027d9adfc6",
   "metadata": {},
   "source": [
    "WAP to return the highest and lowest values in the list."
   ]
  },
  {
   "cell_type": "code",
   "execution_count": 16,
   "id": "ae514b72-0a11-4d96-9596-b3a0a4abfa6b",
   "metadata": {},
   "outputs": [
    {
     "name": "stdin",
     "output_type": "stream",
     "text": [
      "Enter the length of the list: 5\n"
     ]
    },
    {
     "name": "stdout",
     "output_type": "stream",
     "text": [
      "[42, 20, 10, 31, 23]\n",
      "Highest value: 42\n",
      "Lowest value: 10\n"
     ]
    }
   ],
   "source": [
    "import random\n",
    "n = int(input(\"Enter the length of the list:\"))\n",
    "alist = []\n",
    "for i in range(0,n):\n",
    "        alist.append(random.randint(0,50))\n",
    "print(alist)\n",
    "print(\"Highest value:\",max(alist))\n",
    "print(\"Lowest value:\",min(alist))\n"
   ]
  },
  {
   "cell_type": "markdown",
   "id": "af98829f-474e-42c2-94db-6fafa02e3863",
   "metadata": {},
   "source": [
    "WAP to swap two values using tuple assignment."
   ]
  },
  {
   "cell_type": "code",
   "execution_count": 17,
   "id": "bc06e699-7358-488d-94c6-f0619915e140",
   "metadata": {},
   "outputs": [
    {
     "name": "stdin",
     "output_type": "stream",
     "text": [
      "Enter a: 23\n",
      "Enter b: 35\n"
     ]
    },
    {
     "name": "stdout",
     "output_type": "stream",
     "text": [
      "A: 35\n",
      "B: 23\n"
     ]
    }
   ],
   "source": [
    "a = int(input(\"Enter a:\"))\n",
    "b = int(input(\"Enter b:\"))\n",
    "a,b = b,a\n",
    "print(\"A:\",a)\n",
    "print(\"B:\",b)"
   ]
  },
  {
   "cell_type": "markdown",
   "id": "bf328109-cf0a-492b-96b3-c23d0569dcc5",
   "metadata": {},
   "source": [
    "WAP using a function that returns the area and circumference of a circle\n",
    "whose radius is passed as an argument.\n"
   ]
  },
  {
   "cell_type": "code",
   "execution_count": 18,
   "id": "cd375bd2-ecc0-446d-a471-352905dd438f",
   "metadata": {},
   "outputs": [
    {
     "name": "stdin",
     "output_type": "stream",
     "text": [
      "Enter radius: 7\n"
     ]
    },
    {
     "name": "stdout",
     "output_type": "stream",
     "text": [
      "Circumference: 43.96\n",
      "Area: 153.86\n"
     ]
    }
   ],
   "source": [
    "def getVal(radius):\n",
    "       return (3.14*2*radius),(3.14*radius*radius)\n",
    "radius = int(input(\"Enter radius:\"))\n",
    "print(\"Circumference:\",getVal(radius)[0])\n",
    "print(\"Area:\",getVal(radius)[1])\n"
   ]
  },
  {
   "cell_type": "markdown",
   "id": "b9c1b6aa-7e82-4b9b-a770-7d556966d61b",
   "metadata": {},
   "source": [
    "WAP using map() function to create a list of cubes of numbers from 1 to 10."
   ]
  },
  {
   "cell_type": "code",
   "execution_count": 19,
   "id": "da19979f-18a5-4cd4-af81-8dea19245ea0",
   "metadata": {},
   "outputs": [
    {
     "name": "stdout",
     "output_type": "stream",
     "text": [
      "[1, 8, 27, 64, 125, 216, 343, 512, 729, 1000]\n"
     ]
    }
   ],
   "source": [
    "def getCube(n):\n",
    "      return n*n*n\n",
    "mapObj = map(getCube,range(1,11))\n",
    "lst = list(mapObj)\n",
    "print(lst)\n"
   ]
  },
  {
   "cell_type": "markdown",
   "id": "f40e24c8-2ad6-412a-a9c7-f5ea3ec11753",
   "metadata": {},
   "source": [
    "WAP that reverses a list using a loop."
   ]
  },
  {
   "cell_type": "code",
   "execution_count": 20,
   "id": "1910ab24-5a0c-4a39-81f5-e0a6f46451c5",
   "metadata": {},
   "outputs": [
    {
     "name": "stdout",
     "output_type": "stream",
     "text": [
      "[5, 4, 3, 2, 1]\n"
     ]
    }
   ],
   "source": [
    "lst1 = [1,2,3,4,5]\n",
    "lst2=[]\n",
    "for i in range(-1,-len(lst1)-1,-1):\n",
    "         lst2.append(lst1[i])\n",
    "print(lst2)\n"
   ]
  },
  {
   "cell_type": "markdown",
   "id": "9875f500-0946-4221-bfb2-fb6ebeae55fa",
   "metadata": {},
   "source": [
    "WAP to find whether a particular element is present in the list using a loop."
   ]
  },
  {
   "cell_type": "code",
   "execution_count": 22,
   "id": "4c32f9b2-6228-4397-9e6f-52d7a4120eeb",
   "metadata": {},
   "outputs": [
    {
     "name": "stdin",
     "output_type": "stream",
     "text": [
      "Enter the number to be searched: 7\n"
     ]
    },
    {
     "name": "stdout",
     "output_type": "stream",
     "text": [
      "Element found at index: 3\n"
     ]
    }
   ],
   "source": [
    "lst = [3,5,4,7,5,3,4,1]\n",
    "n = int(input(\"Enter the number to be searched:\"))\n",
    "flag=0\n",
    "for i in lst:\n",
    "        if(n==i):\n",
    "             print(\"Element found at index:\",lst.index(i))\n",
    "             flag=1\n",
    "             break\n",
    "if(flag==0):\n",
    "          print(\"Element not found\")\n"
   ]
  },
  {
   "cell_type": "markdown",
   "id": "3dba75d4-e314-4985-989f-663b6a1a09b0",
   "metadata": {},
   "source": [
    "WAP that prints all consonants in a string using list comprehension."
   ]
  },
  {
   "cell_type": "code",
   "execution_count": 24,
   "id": "5fbed17d-9721-4feb-b982-bbd722a91b98",
   "metadata": {},
   "outputs": [
    {
     "name": "stdin",
     "output_type": "stream",
     "text": [
      "Enter the string: Lengends never die\n"
     ]
    },
    {
     "name": "stdout",
     "output_type": "stream",
     "text": [
      "Only Consonants:\n",
      "Lngnds nvr d"
     ]
    }
   ],
   "source": [
    "string= input(\"Enter the string:\")\n",
    "lst = [char for char in string if char not in ['a','e','i','o','u']]\n",
    "print(\"Only Consonants:\")\n",
    "for i in lst:\n",
    "      print(i,end='')\n"
   ]
  },
  {
   "cell_type": "markdown",
   "id": "dd156bbe-1401-4136-a7c8-dca340e1d110",
   "metadata": {},
   "source": [
    "WAP that counts the number of times a value appears in the list. Use a\n",
    "loop to do the same."
   ]
  },
  {
   "cell_type": "code",
   "execution_count": 25,
   "id": "37909910-0ef4-4379-90a8-99b38d9fc966",
   "metadata": {},
   "outputs": [
    {
     "name": "stdin",
     "output_type": "stream",
     "text": [
      "Enter the value to be counted: 3\n"
     ]
    },
    {
     "name": "stdout",
     "output_type": "stream",
     "text": [
      "Count: 3\n"
     ]
    }
   ],
   "source": [
    "lst = [3,5,4,7,5,3,4,1,1,1,3,9]\n",
    "count=0\n",
    "n = int(input(\"Enter the value to be counted:\"))\n",
    "for i in lst:\n",
    "       if(n==i):\n",
    "          count+=1\n",
    "print(\"Count:\",count)"
   ]
  },
  {
   "cell_type": "markdown",
   "id": "25516703-3dd9-4212-b35d-fe430f1268ea",
   "metadata": {},
   "source": [
    "WAP to insert a value in the list at the specified location using while loop.\n"
   ]
  },
  {
   "cell_type": "code",
   "execution_count": 26,
   "id": "99b7cc85-6d1a-4dc5-b90e-d30159c4ea13",
   "metadata": {},
   "outputs": [
    {
     "name": "stdin",
     "output_type": "stream",
     "text": [
      "Enter index: 3\n",
      "Enter the value: 25\n"
     ]
    },
    {
     "name": "stdout",
     "output_type": "stream",
     "text": [
      "[1, 2, 3, 25, 4, 5]\n"
     ]
    }
   ],
   "source": [
    "lst = [1,2,3,4,5]\n",
    "n=int(input(\"Enter index:\"))\n",
    "val = int(input(\"Enter the value:\"))\n",
    "i=0\n",
    "lst.append(0) # Increase size of list by 1\n",
    "index = len(lst)-1\n",
    "while(index>n):\n",
    "      lst[index]=lst[index-1]\n",
    "      index=index-1\n",
    "lst[n]=val\n",
    "print(lst)\n"
   ]
  },
  {
   "cell_type": "markdown",
   "id": "bd2cbe44-bd30-484f-897c-17a5668e6ce7",
   "metadata": {},
   "source": [
    "WAP to transpose a matrix."
   ]
  },
  {
   "cell_type": "code",
   "execution_count": 28,
   "id": "0951e478-da0e-4786-948a-fd63bcf31af6",
   "metadata": {},
   "outputs": [
    {
     "name": "stdin",
     "output_type": "stream",
     "text": [
      "Enter the number of rows: 2\n",
      "Enter number of columns: 2\n"
     ]
    },
    {
     "name": "stdout",
     "output_type": "stream",
     "text": [
      "Row  1 :\n",
      "Column  1 :"
     ]
    },
    {
     "name": "stdin",
     "output_type": "stream",
     "text": [
      " 12\n"
     ]
    },
    {
     "name": "stdout",
     "output_type": "stream",
     "text": [
      "Column  2 :"
     ]
    },
    {
     "name": "stdin",
     "output_type": "stream",
     "text": [
      " 34\n"
     ]
    },
    {
     "name": "stdout",
     "output_type": "stream",
     "text": [
      "Row  2 :\n",
      "Column  1 :"
     ]
    },
    {
     "name": "stdin",
     "output_type": "stream",
     "text": [
      " 56\n"
     ]
    },
    {
     "name": "stdout",
     "output_type": "stream",
     "text": [
      "Column  2 :"
     ]
    },
    {
     "name": "stdin",
     "output_type": "stream",
     "text": [
      " 67\n"
     ]
    },
    {
     "name": "stdout",
     "output_type": "stream",
     "text": [
      "Original:\n",
      "[12, 34]\n",
      "[56, 67]\n",
      "\n",
      " Transpose:\n",
      "[12, 56]\n",
      "[34, 67]\n"
     ]
    }
   ],
   "source": [
    "rows = int(input(\"Enter the number of rows:\"))\n",
    "columns = int(input(\"Enter number of columns:\"))\n",
    "trans=[]\n",
    "mat=[]\n",
    "for i in range(0,rows):\n",
    "         print(\"Row \",i+1,\":\")\n",
    "         intm=[]\n",
    "         for j in range(0,columns):\n",
    "                print(\"Column \",j+1,\":\",end='')\n",
    "                intm.append(int(input()))\n",
    "         mat.append(intm)\n",
    "for i in range(rows):\n",
    "          trans.append([0] * columns)\n",
    "for i in range(rows):\n",
    "        for j in range(columns):\n",
    "                  trans[j][i]=mat[i][j]\n",
    "print(\"Original:\")\n",
    "for i in range(rows):\n",
    "             print(mat[i])\n",
    "print(\"\\n Transpose:\")\n",
    "for i in range(columns):\n",
    "             print(trans[i])"
   ]
  },
  {
   "cell_type": "code",
   "execution_count": null,
   "id": "79ce5883-b58b-4404-81e1-8678e4cb6625",
   "metadata": {},
   "outputs": [],
   "source": []
  }
 ],
 "metadata": {
  "kernelspec": {
   "display_name": "Python 3 (ipykernel)",
   "language": "python",
   "name": "python3"
  },
  "language_info": {
   "codemirror_mode": {
    "name": "ipython",
    "version": 3
   },
   "file_extension": ".py",
   "mimetype": "text/x-python",
   "name": "python",
   "nbconvert_exporter": "python",
   "pygments_lexer": "ipython3",
   "version": "3.12.7"
  }
 },
 "nbformat": 4,
 "nbformat_minor": 5
}
