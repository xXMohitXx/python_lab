{
 "cells": [
  {
   "cell_type": "markdown",
   "id": "f46d7d35-220b-479d-b5b9-d3b7ead21673",
   "metadata": {},
   "source": [
    "# Malav Lab3"
   ]
  },
  {
   "cell_type": "markdown",
   "id": "8d7c6751-53f7-417e-aae6-023b939c1dd0",
   "metadata": {},
   "source": [
    "## parameter in function"
   ]
  },
  {
   "cell_type": "markdown",
   "id": "a2e1ea7e-38e7-4fb0-80ea-0fcb33bd1f82",
   "metadata": {},
   "source": [
    "### write function to find addition sub mul div of two given numbers"
   ]
  },
  {
   "cell_type": "code",
   "execution_count": 22,
   "id": "fedaf46f-bfa3-4ff9-b08f-9137181a2a6d",
   "metadata": {},
   "outputs": [
    {
     "name": "stdin",
     "output_type": "stream",
     "text": [
      "enter the value for a : 5\n",
      "enter the value for b : 2\n"
     ]
    },
    {
     "name": "stdout",
     "output_type": "stream",
     "text": [
      "15\n"
     ]
    }
   ],
   "source": [
    "a=int(input(\"enter the value for a :\"))\n",
    "b=int(input(\"enter the value for b :\"))\n",
    "def add(x=5,y=10):\n",
    "    c=x+y\n",
    "    print(c)\n",
    "add ()   \n",
    "\n",
    " "
   ]
  },
  {
   "cell_type": "code",
   "execution_count": 8,
   "id": "beb02107-78b0-4da4-add4-b0cc378a64ed",
   "metadata": {},
   "outputs": [
    {
     "name": "stdout",
     "output_type": "stream",
     "text": [
      "15\n"
     ]
    }
   ],
   "source": [
    "def add(x=5,y=10):\n",
    "    c=x+y\n",
    "    print(c)\n",
    "add ()    "
   ]
  },
  {
   "cell_type": "code",
   "execution_count": 10,
   "id": "6a4fb862-0447-437b-b5d9-41fcb176b302",
   "metadata": {},
   "outputs": [
    {
     "name": "stdout",
     "output_type": "stream",
     "text": [
      "-10\n"
     ]
    }
   ],
   "source": [
    "def sub(x,y):\n",
    "    c=x-y\n",
    "    print(c)\n",
    "sub (10,20)"
   ]
  },
  {
   "cell_type": "code",
   "execution_count": 17,
   "id": "9da8692a-18a9-4fb9-8a65-616627cf66d0",
   "metadata": {},
   "outputs": [
    {
     "name": "stdout",
     "output_type": "stream",
     "text": [
      "30\n"
     ]
    }
   ],
   "source": [
    "def mul(x,y):\n",
    "    c=x*y\n",
    "    print(c)\n",
    "\n",
    "mul (2,15)"
   ]
  },
  {
   "cell_type": "code",
   "execution_count": 19,
   "id": "88230f86-dd96-456e-9a40-58c34b55e165",
   "metadata": {},
   "outputs": [
    {
     "name": "stdout",
     "output_type": "stream",
     "text": [
      "0.13333333333333333\n"
     ]
    }
   ],
   "source": [
    "def div(x,y):\n",
    "    c=x/y\n",
    "    print(c)\n",
    "\n",
    "div (2,15)\n"
   ]
  },
  {
   "cell_type": "markdown",
   "id": "eaebee01-1c85-4f97-8475-291616087d53",
   "metadata": {},
   "source": [
    "### write a fun to determine number of seconds for given days"
   ]
  },
  {
   "cell_type": "code",
   "execution_count": 20,
   "id": "3838c12f-8fe9-43f1-9167-b1f26ad628d2",
   "metadata": {},
   "outputs": [
    {
     "name": "stdin",
     "output_type": "stream",
     "text": [
      "enter no of days: 10\n"
     ]
    },
    {
     "name": "stdout",
     "output_type": "stream",
     "text": [
      "864000\n"
     ]
    }
   ],
   "source": [
    "def  sec(days):\n",
    "   \n",
    "    se=days*86400\n",
    "    print (se)\n",
    "days=int(input(\"enter no of days:\"))\n",
    "sec(days)"
   ]
  },
  {
   "cell_type": "markdown",
   "id": "5ffe0181-f6f0-425b-95c4-1c62c4431395",
   "metadata": {},
   "source": [
    "### write a function to calculate vol of cubiode using default arguments"
   ]
  },
  {
   "cell_type": "code",
   "execution_count": 21,
   "id": "3f137ea1-39e9-4a37-af11-e5add7ccfb0c",
   "metadata": {},
   "outputs": [
    {
     "name": "stdout",
     "output_type": "stream",
     "text": [
      "350\n"
     ]
    }
   ],
   "source": [
    "def vol(l=10,b=5,h=7):\n",
    "    vol=l*b*h\n",
    "    print(vol)\n",
    "vol()"
   ]
  },
  {
   "cell_type": "code",
   "execution_count": 23,
   "id": "37a25e93-25b3-4d27-9e53-046ac11d5ad0",
   "metadata": {},
   "outputs": [
    {
     "name": "stdout",
     "output_type": "stream",
     "text": [
      "700\n",
      "4200\n",
      "24000\n"
     ]
    }
   ],
   "source": [
    "vol(20)\n",
    "vol(20,30)\n",
    "vol(20,30,40)\n"
   ]
  },
  {
   "cell_type": "markdown",
   "id": "600552d5-6a9b-4a36-9225-e4a8029628c4",
   "metadata": {},
   "source": [
    "### write a fun to determine avg of 3 given no."
   ]
  },
  {
   "cell_type": "code",
   "execution_count": 27,
   "id": "b39292be-3450-488e-8ad8-9581dc022bd4",
   "metadata": {},
   "outputs": [
    {
     "name": "stdin",
     "output_type": "stream",
     "text": [
      "enter the value for a : 5\n",
      "enter the value for b : 13\n",
      "enter the value for c : 10\n"
     ]
    },
    {
     "name": "stdout",
     "output_type": "stream",
     "text": [
      "9.333333333333334\n"
     ]
    }
   ],
   "source": [
    "a=int(input(\"enter the value for a :\"))\n",
    "b=int(input(\"enter the value for b :\"))\n",
    "c=int(input(\"enter the value for c :\"))\n",
    "\n",
    "def avg(a,b,c):\n",
    "    sum=a+b+c\n",
    "    average=sum/3\n",
    "    print (average)\n",
    "avg(a,b,c)"
   ]
  },
  {
   "cell_type": "markdown",
   "id": "170cef79-a019-4379-8166-83e394400ae3",
   "metadata": {},
   "source": [
    "### write a fun that converts hours into minutes"
   ]
  },
  {
   "cell_type": "code",
   "execution_count": 30,
   "id": "97282dde-670e-4063-b105-6ef7bf0bf8c1",
   "metadata": {},
   "outputs": [
    {
     "name": "stdin",
     "output_type": "stream",
     "text": [
      "enter no of hours: 10\n"
     ]
    },
    {
     "name": "stdout",
     "output_type": "stream",
     "text": [
      "600\n"
     ]
    }
   ],
   "source": [
    "def conv (hours):\n",
    "    min=hours*60\n",
    "    print (min)\n",
    "hours=int(input(\"enter no of hours:\"))\n",
    "conv(hours)"
   ]
  },
  {
   "cell_type": "markdown",
   "id": "274b3ae8-a1ff-4983-8dfa-ff3510d97e47",
   "metadata": {},
   "source": [
    "### write a function to print hello and friest bname and last name "
   ]
  },
  {
   "cell_type": "code",
   "execution_count": 34,
   "id": "55788bbd-7347-48f0-a8c0-e75970a142e6",
   "metadata": {},
   "outputs": [
    {
     "name": "stdout",
     "output_type": "stream",
     "text": [
      "hello Malav joshi\n"
     ]
    }
   ],
   "source": [
    "def disp (fname,lname):\n",
    "    print (\"hello \" + fname,lname)\n",
    "fname=\"Malav\"\n",
    "lname=\"joshi\"\n",
    "disp(fname,lname)"
   ]
  },
  {
   "cell_type": "code",
   "execution_count": null,
   "id": "9719d6d9-2c58-4727-a628-1777d0ef5dab",
   "metadata": {},
   "outputs": [],
   "source": []
  }
 ],
 "metadata": {
  "kernelspec": {
   "display_name": "Python 3 (ipykernel)",
   "language": "python",
   "name": "python3"
  },
  "language_info": {
   "codemirror_mode": {
    "name": "ipython",
    "version": 3
   },
   "file_extension": ".py",
   "mimetype": "text/x-python",
   "name": "python",
   "nbconvert_exporter": "python",
   "pygments_lexer": "ipython3",
   "version": "3.9.13"
  }
 },
 "nbformat": 4,
 "nbformat_minor": 5
}
