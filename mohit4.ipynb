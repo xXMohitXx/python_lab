{
 "cells": [
  {
   "cell_type": "markdown",
   "id": "21ad1e7a1970e27d",
   "metadata": {},
   "source": [
    "# LAB 4 Mohit"
   ]
  },
  {
   "cell_type": "markdown",
   "id": "1c837a17ec2ac089",
   "metadata": {},
   "source": [
    "## For and while loop"
   ]
  },
  {
   "cell_type": "markdown",
   "id": "4182a348e57ee2ae",
   "metadata": {},
   "source": [
    "### write a program to print reverse of  number using while loop"
   ]
  },
  {
   "cell_type": "code",
   "id": "56ea6b1456f01fa",
   "metadata": {
    "ExecuteTime": {
     "end_time": "2024-09-24T07:10:56.199967Z",
     "start_time": "2024-09-24T07:10:46.731886Z"
    }
   },
   "source": [
    "from unicodedata import decimal\n",
    "\n",
    "l = int(input(\"Enter a number to reverse: \")) #123\n",
    "reverse = 0\n",
    "while(l > 0):\n",
    "    remainder = l%10\n",
    "    reverse = reverse * 10 + remainder\n",
    "    l = l//10\n",
    "print(reverse)\n",
    "    "
   ],
   "outputs": [
    {
     "name": "stdout",
     "output_type": "stream",
     "text": [
      "321\n"
     ]
    }
   ],
   "execution_count": 1
  },
  {
   "cell_type": "markdown",
   "id": "d25908b3",
   "metadata": {},
   "source": [
    "### Write a program to find whether the given number is armstrong number or not"
   ]
  },
  {
   "cell_type": "code",
   "id": "dcb9a09c",
   "metadata": {
    "ExecuteTime": {
     "end_time": "2024-09-24T07:11:03.095017Z",
     "start_time": "2024-09-24T07:10:56.308473Z"
    }
   },
   "source": [
    "num = int(input(\"Enter a number to find armstrong number: \"))\n",
    "sum = 0\n",
    "length = len(str(num))\n",
    "ornum = num\n",
    "while(num > 0):\n",
    "    remainder = num % 10\n",
    "    sum = sum + remainder**length\n",
    "    num = num//10\n",
    "\n",
    "if sum == ornum:\n",
    "    print(\"Is an Armstrong number\")  \n",
    "else:\n",
    "    print(\"Is not an armstrong number\")"
   ],
   "outputs": [
    {
     "name": "stdout",
     "output_type": "stream",
     "text": [
      "Is an Armstrong number\n"
     ]
    }
   ],
   "execution_count": 2
  },
  {
   "cell_type": "markdown",
   "id": "6aa0b6b9",
   "metadata": {},
   "source": [
    "### Write a program to find factorial of a given number"
   ]
  },
  {
   "cell_type": "code",
   "id": "85aea9fd",
   "metadata": {
    "ExecuteTime": {
     "end_time": "2024-09-24T07:11:08.422576Z",
     "start_time": "2024-09-24T07:11:03.760099Z"
    }
   },
   "source": [
    "ognum = int(input(\"Enter a number to find fact: \"))\n",
    "fact = 1\n",
    "n = ognum\n",
    "while(ognum>0):\n",
    "    fact = fact * ognum\n",
    "    ognum=ognum-1\n",
    "print(fact)"
   ],
   "outputs": [
    {
     "name": "stdout",
     "output_type": "stream",
     "text": [
      "120\n"
     ]
    }
   ],
   "execution_count": 3
  },
  {
   "cell_type": "markdown",
   "id": "0959700d",
   "metadata": {},
   "source": [
    "# write a program to print multiplication table of a number"
   ]
  },
  {
   "cell_type": "code",
   "id": "9a20ee28",
   "metadata": {
    "ExecuteTime": {
     "end_time": "2024-09-24T07:11:18.647519Z",
     "start_time": "2024-09-24T07:11:08.544222Z"
    }
   },
   "source": [
    "num = int(input(\"Enter a number to find multiplication table\"))\n",
    "for i in range(1,11):\n",
    "    print(num,\"*\",i,\"=\",num*i)\n",
    "print(\"\\n\")\n",
    "num2 = int(input(\"Enter a number to find table: \"))\n",
    "j=1\n",
    "while (j <= 10):\n",
    "    print(num2,\"*\",j,\"=\",num2*j)\n",
    "    j=j+1"
   ],
   "outputs": [
    {
     "name": "stdout",
     "output_type": "stream",
     "text": [
      "9 * 1 = 9\n",
      "9 * 2 = 18\n",
      "9 * 3 = 27\n",
      "9 * 4 = 36\n",
      "9 * 5 = 45\n",
      "9 * 6 = 54\n",
      "9 * 7 = 63\n",
      "9 * 8 = 72\n",
      "9 * 9 = 81\n",
      "9 * 10 = 90\n",
      "\n",
      "\n",
      "8 * 1 = 8\n",
      "8 * 2 = 16\n",
      "8 * 3 = 24\n",
      "8 * 4 = 32\n",
      "8 * 5 = 40\n",
      "8 * 6 = 48\n",
      "8 * 7 = 56\n",
      "8 * 8 = 64\n",
      "8 * 9 = 72\n",
      "8 * 10 = 80\n"
     ]
    }
   ],
   "execution_count": 4
  },
  {
   "cell_type": "markdown",
   "id": "476f0d07",
   "metadata": {},
   "source": [
    "### write a program to find whether a given number is prime or not"
   ]
  },
  {
   "cell_type": "code",
   "id": "db55f22b",
   "metadata": {
    "ExecuteTime": {
     "end_time": "2024-09-24T07:11:23.594128Z",
     "start_time": "2024-09-24T07:11:18.732424Z"
    }
   },
   "source": [
    "prime = int(input(\"Enter a number to find prime number: \"))\n",
    "if prime > 1:\n",
    "    for i in range(2,prime):\n",
    "        if prime%i == 0:\n",
    "            print(\"Not a prime number\")\n",
    "            break \n",
    "    else:\n",
    "        print(\"Is a prime number\")"
   ],
   "outputs": [
    {
     "name": "stdout",
     "output_type": "stream",
     "text": [
      "Is a prime number\n"
     ]
    }
   ],
   "execution_count": 5
  },
  {
   "metadata": {},
   "cell_type": "markdown",
   "source": "### write a program to convert decimal into binary and binary to decimal",
   "id": "8aa4c6bda75bc8f4"
  },
  {
   "metadata": {
    "ExecuteTime": {
     "end_time": "2024-09-24T08:13:09.835918Z",
     "start_time": "2024-09-24T08:13:05.994965Z"
    }
   },
   "cell_type": "code",
   "source": [
    "binary = int(input(\"Enter a binary number to find its decimal equivalent: \"))\n",
    "deci = 0\n",
    "i = 0\n",
    "while binary > 0:\n",
    "    rem = binary % 10\n",
    "    deci = deci + (rem * (2 ** i))\n",
    "    binary //= 10\n",
    "    i += 1\n",
    "print(\"The decimal equivalent is:\", deci)\n"
   ],
   "id": "bb2bdfd0c3cf697a",
   "outputs": [
    {
     "name": "stdout",
     "output_type": "stream",
     "text": [
      "The decimal equivalent is: 10\n"
     ]
    }
   ],
   "execution_count": 17
  },
  {
   "metadata": {
    "ExecuteTime": {
     "end_time": "2024-09-24T07:54:31.987473Z",
     "start_time": "2024-09-24T07:54:29.167288Z"
    }
   },
   "cell_type": "code",
   "source": [
    "binary_num = int(input(\"Enter a number to find decimal: \"))\n",
    "b = binary_num\n",
    "binary_array = []\n",
    "while b > 0:\n",
    "    rem = b % 2\n",
    "    binary_array.append(rem)\n",
    "    b = b//2\n",
    "ans  = binary_array[::-1]\n",
    "for i in ans:\n",
    "    print(i, end=\"\")\n"
   ],
   "id": "ad43e90d8a873b6a",
   "outputs": [
    {
     "name": "stdout",
     "output_type": "stream",
     "text": [
      "111"
     ]
    }
   ],
   "execution_count": 14
  },
  {
   "metadata": {},
   "cell_type": "markdown",
   "source": "## write a program to enter number until -1 is encountered also count the negative and positive and zeros entered by the user",
   "id": "46feadf34ef65715"
  },
  {
   "metadata": {},
   "cell_type": "markdown",
   "source": "## WAP to print the following patterns",
   "id": "1fbb93bb3786b96d"
  },
  {
   "metadata": {
    "ExecuteTime": {
     "end_time": "2024-09-24T08:24:36.676423Z",
     "start_time": "2024-09-24T08:24:36.669151Z"
    }
   },
   "cell_type": "code",
   "source": [
    "num = 5\n",
    "for i in range(num+1):\n",
    "    for j in range(i):\n",
    "        print(j+1, end=\" \")\n",
    "    print()"
   ],
   "id": "9c8ed1ab5c3a75fe",
   "outputs": [
    {
     "name": "stdout",
     "output_type": "stream",
     "text": [
      "\n",
      "1 \n",
      "1 2 \n",
      "1 2 3 \n",
      "1 2 3 4 \n",
      "1 2 3 4 5 \n"
     ]
    }
   ],
   "execution_count": 4
  },
  {
   "metadata": {
    "ExecuteTime": {
     "end_time": "2024-09-24T08:34:06.630260Z",
     "start_time": "2024-09-24T08:34:06.624354Z"
    }
   },
   "cell_type": "code",
   "source": [
    "num = 5\n",
    "for i in range(1, num+1):\n",
    "    print(\"  \" * (num-i), end=\" \")\n",
    "    for j in range(1, i+1):\n",
    "        print(j, end=\" \")\n",
    "    print()"
   ],
   "id": "c5741a934580f086",
   "outputs": [
    {
     "name": "stdout",
     "output_type": "stream",
     "text": [
      "         1 \n",
      "       1 2 \n",
      "     1 2 3 \n",
      "   1 2 3 4 \n",
      " 1 2 3 4 5 \n"
     ]
    }
   ],
   "execution_count": 22
  },
  {
   "metadata": {
    "ExecuteTime": {
     "end_time": "2024-09-30T18:09:26.011967Z",
     "start_time": "2024-09-30T18:09:26.007713Z"
    }
   },
   "cell_type": "code",
   "source": [
    "rows = 5\n",
    "for i in range(rows):\n",
    "    if i == 0 or i == rows - 1:\n",
    "        print(\" * \" * rows)\n",
    "    else:\n",
    "        print(\" *          \" * (rows // 2))"
   ],
   "id": "36cd017d9fbb124b",
   "outputs": [
    {
     "name": "stdout",
     "output_type": "stream",
     "text": [
      " *  *  *  *  * \n",
      " *           *          \n",
      " *           *          \n",
      " *           *          \n",
      " *  *  *  *  * \n"
     ]
    }
   ],
   "execution_count": 2
  },
  {
   "metadata": {
    "ExecuteTime": {
     "end_time": "2024-09-30T18:12:03.320375Z",
     "start_time": "2024-09-30T18:12:03.316088Z"
    }
   },
   "cell_type": "code",
   "source": [
    "for i in range(6):\n",
    "    print((5-i)*\"  \",end=\" \")\n",
    "    for j in range(i):\n",
    "        print(j+1, end=\" \")\n",
    "    for j in range(i-1):\n",
    "        print(i-j-1, end=\" \")\n",
    "    print((5-i)*\"  \",end=\" \")\n",
    "    print()"
   ],
   "id": "1dd1e19f8f62ea6",
   "outputs": [
    {
     "name": "stdout",
     "output_type": "stream",
     "text": [
      "                      \n",
      "         1          \n",
      "       1 2 1        \n",
      "     1 2 3 2 1      \n",
      "   1 2 3 4 3 2 1    \n",
      " 1 2 3 4 5 4 3 2 1  \n"
     ]
    }
   ],
   "execution_count": 6
  },
  {
   "metadata": {
    "ExecuteTime": {
     "end_time": "2024-09-30T18:16:00.575447Z",
     "start_time": "2024-09-30T18:16:00.569959Z"
    }
   },
   "cell_type": "code",
   "source": [
    "n = 5\n",
    "for i in range(1, n+1):\n",
    "    for j in range(1, i+1):\n",
    "        print((i+j+1) % 2, end=\" \")\n",
    "    print()"
   ],
   "id": "23431c6a3c4cf353",
   "outputs": [
    {
     "name": "stdout",
     "output_type": "stream",
     "text": [
      "1 \n",
      "0 1 \n",
      "1 0 1 \n",
      "0 1 0 1 \n",
      "1 0 1 0 1 \n"
     ]
    }
   ],
   "execution_count": 10
  },
  {
   "metadata": {
    "ExecuteTime": {
     "end_time": "2024-09-30T18:17:15.101298Z",
     "start_time": "2024-09-30T18:17:15.094886Z"
    }
   },
   "cell_type": "code",
   "source": [
    "n = 3\n",
    "for i in range(1, n+1):\n",
    "    print(\"  \" * (n-i), end=\" \")\n",
    "    for j in range(1, i+1):\n",
    "        print(j, end=\" \")\n",
    "    for j in range(i-1, 0, -1):\n",
    "        print(j, end=\" \")\n",
    "    print()\n",
    "for i in range(n-1, 0, -1):\n",
    "    print(\"  \" * (n-i), end=\" \")\n",
    "    for j in range(1, i+1):\n",
    "        print(j, end=\" \")\n",
    "    for j in range(i-1, 0, -1):\n",
    "        print(j, end=\" \")\n",
    "    print()"
   ],
   "id": "27266379d87be737",
   "outputs": [
    {
     "name": "stdout",
     "output_type": "stream",
     "text": [
      "     1 \n",
      "   1 2 1 \n",
      " 1 2 3 2 1 \n",
      "   1 2 1 \n",
      "     1 \n"
     ]
    }
   ],
   "execution_count": 13
  },
  {
   "metadata": {},
   "cell_type": "code",
   "outputs": [],
   "execution_count": null,
   "source": "",
   "id": "26910932eeb9a919"
  }
 ],
 "metadata": {
  "kernelspec": {
   "display_name": "Python 3",
   "language": "python",
   "name": "python3"
  },
  "language_info": {
   "codemirror_mode": {
    "name": "ipython",
    "version": 3
   },
   "file_extension": ".py",
   "mimetype": "text/x-python",
   "name": "python",
   "nbconvert_exporter": "python",
   "pygments_lexer": "ipython3",
   "version": "3.12.4"
  }
 },
 "nbformat": 4,
 "nbformat_minor": 5
}
